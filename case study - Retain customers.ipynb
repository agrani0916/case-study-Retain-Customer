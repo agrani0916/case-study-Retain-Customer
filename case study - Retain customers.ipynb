{
 "cells": [
  {
   "cell_type": "markdown",
   "id": "61ec66ae",
   "metadata": {},
   "source": [
    "# Case Study - Retain Customers"
   ]
  },
  {
   "cell_type": "markdown",
   "id": "f7059297",
   "metadata": {},
   "source": [
    "About Dataset\n",
    "\n",
    "Context\n",
    "\n",
    "\"Predict behavior to retain customers. You can analyze all relevant customer data and develop focused customer retention programs.\" [IBM Sample Data Sets] Content\n",
    "\n",
    "Each row represents a customer, each column contains customer's attributes described on the column Metadata.\n",
    "\n",
    "The data set includes information about:\n",
    " * Customers who left within the last month - the column is called Churn\n",
    " * Services that each customer has signed up for - phone, multiple lines, internet, online security, online backup, device protection, tech support, and streaming TV and movies\n",
    " * Customer account information - how long they've been a customer, contract, payment method, paperless billing, monthly charges, and total charges\n",
    " * Demographic info about customers - gender, age range, and if they have partners and dependents"
   ]
  },
  {
   "cell_type": "code",
   "execution_count": 1,
   "id": "dc57403a",
   "metadata": {},
   "outputs": [],
   "source": [
    "# Import related libraries\n",
    "import numpy as np\n",
    "import pandas as pd\n",
    "import seaborn as sns\n",
    "import matplotlib.pyplot as plt\n",
    "%matplotlib inline"
   ]
  },
  {
   "cell_type": "code",
   "execution_count": 3,
   "id": "689d9fa1",
   "metadata": {},
   "outputs": [],
   "source": [
    "#Read csv file(dataset) using pandas\n",
    "customer=pd.read_csv(r\"E:\\Function UP\\Python\\Projects\\case study - Retain customers\\WA_Fn-UseC_-Telco-Customer-Churn.csv\")"
   ]
  },
  {
   "cell_type": "code",
   "execution_count": 4,
   "id": "6085af54",
   "metadata": {},
   "outputs": [
    {
     "data": {
      "text/html": [
       "<div>\n",
       "<style scoped>\n",
       "    .dataframe tbody tr th:only-of-type {\n",
       "        vertical-align: middle;\n",
       "    }\n",
       "\n",
       "    .dataframe tbody tr th {\n",
       "        vertical-align: top;\n",
       "    }\n",
       "\n",
       "    .dataframe thead th {\n",
       "        text-align: right;\n",
       "    }\n",
       "</style>\n",
       "<table border=\"1\" class=\"dataframe\">\n",
       "  <thead>\n",
       "    <tr style=\"text-align: right;\">\n",
       "      <th></th>\n",
       "      <th>customerID</th>\n",
       "      <th>gender</th>\n",
       "      <th>SeniorCitizen</th>\n",
       "      <th>Partner</th>\n",
       "      <th>Dependents</th>\n",
       "      <th>tenure</th>\n",
       "      <th>PhoneService</th>\n",
       "      <th>MultipleLines</th>\n",
       "      <th>InternetService</th>\n",
       "      <th>OnlineSecurity</th>\n",
       "      <th>...</th>\n",
       "      <th>DeviceProtection</th>\n",
       "      <th>TechSupport</th>\n",
       "      <th>StreamingTV</th>\n",
       "      <th>StreamingMovies</th>\n",
       "      <th>Contract</th>\n",
       "      <th>PaperlessBilling</th>\n",
       "      <th>PaymentMethod</th>\n",
       "      <th>MonthlyCharges</th>\n",
       "      <th>TotalCharges</th>\n",
       "      <th>Churn</th>\n",
       "    </tr>\n",
       "  </thead>\n",
       "  <tbody>\n",
       "    <tr>\n",
       "      <th>0</th>\n",
       "      <td>7590-VHVEG</td>\n",
       "      <td>Female</td>\n",
       "      <td>0</td>\n",
       "      <td>Yes</td>\n",
       "      <td>No</td>\n",
       "      <td>1</td>\n",
       "      <td>No</td>\n",
       "      <td>No phone service</td>\n",
       "      <td>DSL</td>\n",
       "      <td>No</td>\n",
       "      <td>...</td>\n",
       "      <td>No</td>\n",
       "      <td>No</td>\n",
       "      <td>No</td>\n",
       "      <td>No</td>\n",
       "      <td>Month-to-month</td>\n",
       "      <td>Yes</td>\n",
       "      <td>Electronic check</td>\n",
       "      <td>29.85</td>\n",
       "      <td>29.85</td>\n",
       "      <td>No</td>\n",
       "    </tr>\n",
       "    <tr>\n",
       "      <th>1</th>\n",
       "      <td>5575-GNVDE</td>\n",
       "      <td>Male</td>\n",
       "      <td>0</td>\n",
       "      <td>No</td>\n",
       "      <td>No</td>\n",
       "      <td>34</td>\n",
       "      <td>Yes</td>\n",
       "      <td>No</td>\n",
       "      <td>DSL</td>\n",
       "      <td>Yes</td>\n",
       "      <td>...</td>\n",
       "      <td>Yes</td>\n",
       "      <td>No</td>\n",
       "      <td>No</td>\n",
       "      <td>No</td>\n",
       "      <td>One year</td>\n",
       "      <td>No</td>\n",
       "      <td>Mailed check</td>\n",
       "      <td>56.95</td>\n",
       "      <td>1889.5</td>\n",
       "      <td>No</td>\n",
       "    </tr>\n",
       "    <tr>\n",
       "      <th>2</th>\n",
       "      <td>3668-QPYBK</td>\n",
       "      <td>Male</td>\n",
       "      <td>0</td>\n",
       "      <td>No</td>\n",
       "      <td>No</td>\n",
       "      <td>2</td>\n",
       "      <td>Yes</td>\n",
       "      <td>No</td>\n",
       "      <td>DSL</td>\n",
       "      <td>Yes</td>\n",
       "      <td>...</td>\n",
       "      <td>No</td>\n",
       "      <td>No</td>\n",
       "      <td>No</td>\n",
       "      <td>No</td>\n",
       "      <td>Month-to-month</td>\n",
       "      <td>Yes</td>\n",
       "      <td>Mailed check</td>\n",
       "      <td>53.85</td>\n",
       "      <td>108.15</td>\n",
       "      <td>Yes</td>\n",
       "    </tr>\n",
       "    <tr>\n",
       "      <th>3</th>\n",
       "      <td>7795-CFOCW</td>\n",
       "      <td>Male</td>\n",
       "      <td>0</td>\n",
       "      <td>No</td>\n",
       "      <td>No</td>\n",
       "      <td>45</td>\n",
       "      <td>No</td>\n",
       "      <td>No phone service</td>\n",
       "      <td>DSL</td>\n",
       "      <td>Yes</td>\n",
       "      <td>...</td>\n",
       "      <td>Yes</td>\n",
       "      <td>Yes</td>\n",
       "      <td>No</td>\n",
       "      <td>No</td>\n",
       "      <td>One year</td>\n",
       "      <td>No</td>\n",
       "      <td>Bank transfer (automatic)</td>\n",
       "      <td>42.30</td>\n",
       "      <td>1840.75</td>\n",
       "      <td>No</td>\n",
       "    </tr>\n",
       "  </tbody>\n",
       "</table>\n",
       "<p>4 rows × 21 columns</p>\n",
       "</div>"
      ],
      "text/plain": [
       "   customerID  gender  SeniorCitizen Partner Dependents  tenure PhoneService  \\\n",
       "0  7590-VHVEG  Female              0     Yes         No       1           No   \n",
       "1  5575-GNVDE    Male              0      No         No      34          Yes   \n",
       "2  3668-QPYBK    Male              0      No         No       2          Yes   \n",
       "3  7795-CFOCW    Male              0      No         No      45           No   \n",
       "\n",
       "      MultipleLines InternetService OnlineSecurity  ... DeviceProtection  \\\n",
       "0  No phone service             DSL             No  ...               No   \n",
       "1                No             DSL            Yes  ...              Yes   \n",
       "2                No             DSL            Yes  ...               No   \n",
       "3  No phone service             DSL            Yes  ...              Yes   \n",
       "\n",
       "  TechSupport StreamingTV StreamingMovies        Contract PaperlessBilling  \\\n",
       "0          No          No              No  Month-to-month              Yes   \n",
       "1          No          No              No        One year               No   \n",
       "2          No          No              No  Month-to-month              Yes   \n",
       "3         Yes          No              No        One year               No   \n",
       "\n",
       "               PaymentMethod MonthlyCharges  TotalCharges Churn  \n",
       "0           Electronic check          29.85         29.85    No  \n",
       "1               Mailed check          56.95        1889.5    No  \n",
       "2               Mailed check          53.85        108.15   Yes  \n",
       "3  Bank transfer (automatic)          42.30       1840.75    No  \n",
       "\n",
       "[4 rows x 21 columns]"
      ]
     },
     "execution_count": 4,
     "metadata": {},
     "output_type": "execute_result"
    }
   ],
   "source": [
    "#The head() method returns a specified number of rows, string from the top.\n",
    "customer.head(4)"
   ]
  },
  {
   "cell_type": "markdown",
   "id": "95b8157b",
   "metadata": {},
   "source": [
    "# Exploring Dataset"
   ]
  },
  {
   "cell_type": "code",
   "execution_count": 5,
   "id": "ce8fd1a8",
   "metadata": {},
   "outputs": [],
   "source": [
    "## Customers who left within the last month - the column is called Churn.\n",
    "## Services that each customer has signed up for - phone, multiple lines, internet, online security, online backup, device protection, tech support,\n",
    "#  and streaming TV and movies.\n",
    "## Customer account information - how long they've been a customer, contract, payment method, paperless billing, monthly charges, and total charges\n",
    "## Demographic info about customers - gender, age range, and if they have partners and dependents"
   ]
  },
  {
   "cell_type": "code",
   "execution_count": 6,
   "id": "cf12b520",
   "metadata": {},
   "outputs": [
    {
     "name": "stdout",
     "output_type": "stream",
     "text": [
      "<class 'pandas.core.frame.DataFrame'>\n",
      "RangeIndex: 7043 entries, 0 to 7042\n",
      "Data columns (total 21 columns):\n",
      " #   Column            Non-Null Count  Dtype  \n",
      "---  ------            --------------  -----  \n",
      " 0   customerID        7043 non-null   object \n",
      " 1   gender            7043 non-null   object \n",
      " 2   SeniorCitizen     7043 non-null   int64  \n",
      " 3   Partner           7043 non-null   object \n",
      " 4   Dependents        7043 non-null   object \n",
      " 5   tenure            7043 non-null   int64  \n",
      " 6   PhoneService      7043 non-null   object \n",
      " 7   MultipleLines     7043 non-null   object \n",
      " 8   InternetService   7043 non-null   object \n",
      " 9   OnlineSecurity    7043 non-null   object \n",
      " 10  OnlineBackup      7043 non-null   object \n",
      " 11  DeviceProtection  7043 non-null   object \n",
      " 12  TechSupport       7043 non-null   object \n",
      " 13  StreamingTV       7043 non-null   object \n",
      " 14  StreamingMovies   7043 non-null   object \n",
      " 15  Contract          7043 non-null   object \n",
      " 16  PaperlessBilling  7043 non-null   object \n",
      " 17  PaymentMethod     7043 non-null   object \n",
      " 18  MonthlyCharges    7043 non-null   float64\n",
      " 19  TotalCharges      7043 non-null   object \n",
      " 20  Churn             7043 non-null   object \n",
      "dtypes: float64(1), int64(2), object(18)\n",
      "memory usage: 1.1+ MB\n"
     ]
    }
   ],
   "source": [
    "#prints information about the DataFrame\n",
    "customer.info()"
   ]
  },
  {
   "cell_type": "code",
   "execution_count": 7,
   "id": "d8c47164",
   "metadata": {},
   "outputs": [
    {
     "data": {
      "text/html": [
       "<div>\n",
       "<style scoped>\n",
       "    .dataframe tbody tr th:only-of-type {\n",
       "        vertical-align: middle;\n",
       "    }\n",
       "\n",
       "    .dataframe tbody tr th {\n",
       "        vertical-align: top;\n",
       "    }\n",
       "\n",
       "    .dataframe thead th {\n",
       "        text-align: right;\n",
       "    }\n",
       "</style>\n",
       "<table border=\"1\" class=\"dataframe\">\n",
       "  <thead>\n",
       "    <tr style=\"text-align: right;\">\n",
       "      <th></th>\n",
       "      <th>SeniorCitizen</th>\n",
       "      <th>tenure</th>\n",
       "      <th>MonthlyCharges</th>\n",
       "    </tr>\n",
       "  </thead>\n",
       "  <tbody>\n",
       "    <tr>\n",
       "      <th>count</th>\n",
       "      <td>7043.000000</td>\n",
       "      <td>7043.000000</td>\n",
       "      <td>7043.000000</td>\n",
       "    </tr>\n",
       "    <tr>\n",
       "      <th>mean</th>\n",
       "      <td>0.162147</td>\n",
       "      <td>32.371149</td>\n",
       "      <td>64.761692</td>\n",
       "    </tr>\n",
       "    <tr>\n",
       "      <th>std</th>\n",
       "      <td>0.368612</td>\n",
       "      <td>24.559481</td>\n",
       "      <td>30.090047</td>\n",
       "    </tr>\n",
       "    <tr>\n",
       "      <th>min</th>\n",
       "      <td>0.000000</td>\n",
       "      <td>0.000000</td>\n",
       "      <td>18.250000</td>\n",
       "    </tr>\n",
       "    <tr>\n",
       "      <th>25%</th>\n",
       "      <td>0.000000</td>\n",
       "      <td>9.000000</td>\n",
       "      <td>35.500000</td>\n",
       "    </tr>\n",
       "    <tr>\n",
       "      <th>50%</th>\n",
       "      <td>0.000000</td>\n",
       "      <td>29.000000</td>\n",
       "      <td>70.350000</td>\n",
       "    </tr>\n",
       "    <tr>\n",
       "      <th>75%</th>\n",
       "      <td>0.000000</td>\n",
       "      <td>55.000000</td>\n",
       "      <td>89.850000</td>\n",
       "    </tr>\n",
       "    <tr>\n",
       "      <th>max</th>\n",
       "      <td>1.000000</td>\n",
       "      <td>72.000000</td>\n",
       "      <td>118.750000</td>\n",
       "    </tr>\n",
       "  </tbody>\n",
       "</table>\n",
       "</div>"
      ],
      "text/plain": [
       "       SeniorCitizen       tenure  MonthlyCharges\n",
       "count    7043.000000  7043.000000     7043.000000\n",
       "mean        0.162147    32.371149       64.761692\n",
       "std         0.368612    24.559481       30.090047\n",
       "min         0.000000     0.000000       18.250000\n",
       "25%         0.000000     9.000000       35.500000\n",
       "50%         0.000000    29.000000       70.350000\n",
       "75%         0.000000    55.000000       89.850000\n",
       "max         1.000000    72.000000      118.750000"
      ]
     },
     "execution_count": 7,
     "metadata": {},
     "output_type": "execute_result"
    }
   ],
   "source": [
    "#The describe() method returns description/ descriptive statistics of the numerical data in the DataFrame.\n",
    "customer.describe()"
   ]
  },
  {
   "cell_type": "code",
   "execution_count": 8,
   "id": "14f384c7",
   "metadata": {},
   "outputs": [
    {
     "data": {
      "text/html": [
       "<div>\n",
       "<style scoped>\n",
       "    .dataframe tbody tr th:only-of-type {\n",
       "        vertical-align: middle;\n",
       "    }\n",
       "\n",
       "    .dataframe tbody tr th {\n",
       "        vertical-align: top;\n",
       "    }\n",
       "\n",
       "    .dataframe thead th {\n",
       "        text-align: right;\n",
       "    }\n",
       "</style>\n",
       "<table border=\"1\" class=\"dataframe\">\n",
       "  <thead>\n",
       "    <tr style=\"text-align: right;\">\n",
       "      <th></th>\n",
       "      <th>customerID</th>\n",
       "      <th>gender</th>\n",
       "      <th>Partner</th>\n",
       "      <th>Dependents</th>\n",
       "      <th>PhoneService</th>\n",
       "      <th>MultipleLines</th>\n",
       "      <th>InternetService</th>\n",
       "      <th>OnlineSecurity</th>\n",
       "      <th>OnlineBackup</th>\n",
       "      <th>DeviceProtection</th>\n",
       "      <th>TechSupport</th>\n",
       "      <th>StreamingTV</th>\n",
       "      <th>StreamingMovies</th>\n",
       "      <th>Contract</th>\n",
       "      <th>PaperlessBilling</th>\n",
       "      <th>PaymentMethod</th>\n",
       "      <th>TotalCharges</th>\n",
       "      <th>Churn</th>\n",
       "    </tr>\n",
       "  </thead>\n",
       "  <tbody>\n",
       "    <tr>\n",
       "      <th>count</th>\n",
       "      <td>7043</td>\n",
       "      <td>7043</td>\n",
       "      <td>7043</td>\n",
       "      <td>7043</td>\n",
       "      <td>7043</td>\n",
       "      <td>7043</td>\n",
       "      <td>7043</td>\n",
       "      <td>7043</td>\n",
       "      <td>7043</td>\n",
       "      <td>7043</td>\n",
       "      <td>7043</td>\n",
       "      <td>7043</td>\n",
       "      <td>7043</td>\n",
       "      <td>7043</td>\n",
       "      <td>7043</td>\n",
       "      <td>7043</td>\n",
       "      <td>7043</td>\n",
       "      <td>7043</td>\n",
       "    </tr>\n",
       "    <tr>\n",
       "      <th>unique</th>\n",
       "      <td>7043</td>\n",
       "      <td>2</td>\n",
       "      <td>2</td>\n",
       "      <td>2</td>\n",
       "      <td>2</td>\n",
       "      <td>3</td>\n",
       "      <td>3</td>\n",
       "      <td>3</td>\n",
       "      <td>3</td>\n",
       "      <td>3</td>\n",
       "      <td>3</td>\n",
       "      <td>3</td>\n",
       "      <td>3</td>\n",
       "      <td>3</td>\n",
       "      <td>2</td>\n",
       "      <td>4</td>\n",
       "      <td>6531</td>\n",
       "      <td>2</td>\n",
       "    </tr>\n",
       "    <tr>\n",
       "      <th>top</th>\n",
       "      <td>7590-VHVEG</td>\n",
       "      <td>Male</td>\n",
       "      <td>No</td>\n",
       "      <td>No</td>\n",
       "      <td>Yes</td>\n",
       "      <td>No</td>\n",
       "      <td>Fiber optic</td>\n",
       "      <td>No</td>\n",
       "      <td>No</td>\n",
       "      <td>No</td>\n",
       "      <td>No</td>\n",
       "      <td>No</td>\n",
       "      <td>No</td>\n",
       "      <td>Month-to-month</td>\n",
       "      <td>Yes</td>\n",
       "      <td>Electronic check</td>\n",
       "      <td></td>\n",
       "      <td>No</td>\n",
       "    </tr>\n",
       "    <tr>\n",
       "      <th>freq</th>\n",
       "      <td>1</td>\n",
       "      <td>3555</td>\n",
       "      <td>3641</td>\n",
       "      <td>4933</td>\n",
       "      <td>6361</td>\n",
       "      <td>3390</td>\n",
       "      <td>3096</td>\n",
       "      <td>3498</td>\n",
       "      <td>3088</td>\n",
       "      <td>3095</td>\n",
       "      <td>3473</td>\n",
       "      <td>2810</td>\n",
       "      <td>2785</td>\n",
       "      <td>3875</td>\n",
       "      <td>4171</td>\n",
       "      <td>2365</td>\n",
       "      <td>11</td>\n",
       "      <td>5174</td>\n",
       "    </tr>\n",
       "  </tbody>\n",
       "</table>\n",
       "</div>"
      ],
      "text/plain": [
       "        customerID gender Partner Dependents PhoneService MultipleLines  \\\n",
       "count         7043   7043    7043       7043         7043          7043   \n",
       "unique        7043      2       2          2            2             3   \n",
       "top     7590-VHVEG   Male      No         No          Yes            No   \n",
       "freq             1   3555    3641       4933         6361          3390   \n",
       "\n",
       "       InternetService OnlineSecurity OnlineBackup DeviceProtection  \\\n",
       "count             7043           7043         7043             7043   \n",
       "unique               3              3            3                3   \n",
       "top        Fiber optic             No           No               No   \n",
       "freq              3096           3498         3088             3095   \n",
       "\n",
       "       TechSupport StreamingTV StreamingMovies        Contract  \\\n",
       "count         7043        7043            7043            7043   \n",
       "unique           3           3               3               3   \n",
       "top             No          No              No  Month-to-month   \n",
       "freq          3473        2810            2785            3875   \n",
       "\n",
       "       PaperlessBilling     PaymentMethod TotalCharges Churn  \n",
       "count              7043              7043         7043  7043  \n",
       "unique                2                 4         6531     2  \n",
       "top                 Yes  Electronic check                 No  \n",
       "freq               4171              2365           11  5174  "
      ]
     },
     "execution_count": 8,
     "metadata": {},
     "output_type": "execute_result"
    }
   ],
   "source": [
    "# returns description  of the string / object data in the DataFrame.\n",
    "customer.describe(include='O')"
   ]
  },
  {
   "cell_type": "code",
   "execution_count": 9,
   "id": "6cde5507",
   "metadata": {},
   "outputs": [
    {
     "data": {
      "text/plain": [
       "['customerID',\n",
       " 'gender',\n",
       " 'SeniorCitizen',\n",
       " 'Partner',\n",
       " 'Dependents',\n",
       " 'tenure',\n",
       " 'PhoneService',\n",
       " 'MultipleLines',\n",
       " 'InternetService',\n",
       " 'OnlineSecurity',\n",
       " 'OnlineBackup',\n",
       " 'DeviceProtection',\n",
       " 'TechSupport',\n",
       " 'StreamingTV',\n",
       " 'StreamingMovies',\n",
       " 'Contract',\n",
       " 'PaperlessBilling',\n",
       " 'PaymentMethod',\n",
       " 'MonthlyCharges',\n",
       " 'TotalCharges',\n",
       " 'Churn']"
      ]
     },
     "execution_count": 9,
     "metadata": {},
     "output_type": "execute_result"
    }
   ],
   "source": [
    "#list the variables or columns in data frame\n",
    "customer.columns.to_list()"
   ]
  },
  {
   "cell_type": "code",
   "execution_count": 10,
   "id": "8c8cf66d",
   "metadata": {},
   "outputs": [
    {
     "data": {
      "text/html": [
       "<div>\n",
       "<style scoped>\n",
       "    .dataframe tbody tr th:only-of-type {\n",
       "        vertical-align: middle;\n",
       "    }\n",
       "\n",
       "    .dataframe tbody tr th {\n",
       "        vertical-align: top;\n",
       "    }\n",
       "\n",
       "    .dataframe thead th {\n",
       "        text-align: right;\n",
       "    }\n",
       "</style>\n",
       "<table border=\"1\" class=\"dataframe\">\n",
       "  <thead>\n",
       "    <tr style=\"text-align: right;\">\n",
       "      <th></th>\n",
       "      <th>0</th>\n",
       "      <th>1</th>\n",
       "      <th>2</th>\n",
       "      <th>3</th>\n",
       "      <th>4</th>\n",
       "    </tr>\n",
       "  </thead>\n",
       "  <tbody>\n",
       "    <tr>\n",
       "      <th>customerID</th>\n",
       "      <td>7590-VHVEG</td>\n",
       "      <td>5575-GNVDE</td>\n",
       "      <td>3668-QPYBK</td>\n",
       "      <td>7795-CFOCW</td>\n",
       "      <td>9237-HQITU</td>\n",
       "    </tr>\n",
       "    <tr>\n",
       "      <th>gender</th>\n",
       "      <td>Female</td>\n",
       "      <td>Male</td>\n",
       "      <td>Male</td>\n",
       "      <td>Male</td>\n",
       "      <td>Female</td>\n",
       "    </tr>\n",
       "    <tr>\n",
       "      <th>SeniorCitizen</th>\n",
       "      <td>0</td>\n",
       "      <td>0</td>\n",
       "      <td>0</td>\n",
       "      <td>0</td>\n",
       "      <td>0</td>\n",
       "    </tr>\n",
       "    <tr>\n",
       "      <th>Partner</th>\n",
       "      <td>Yes</td>\n",
       "      <td>No</td>\n",
       "      <td>No</td>\n",
       "      <td>No</td>\n",
       "      <td>No</td>\n",
       "    </tr>\n",
       "    <tr>\n",
       "      <th>Dependents</th>\n",
       "      <td>No</td>\n",
       "      <td>No</td>\n",
       "      <td>No</td>\n",
       "      <td>No</td>\n",
       "      <td>No</td>\n",
       "    </tr>\n",
       "    <tr>\n",
       "      <th>tenure</th>\n",
       "      <td>1</td>\n",
       "      <td>34</td>\n",
       "      <td>2</td>\n",
       "      <td>45</td>\n",
       "      <td>2</td>\n",
       "    </tr>\n",
       "    <tr>\n",
       "      <th>PhoneService</th>\n",
       "      <td>No</td>\n",
       "      <td>Yes</td>\n",
       "      <td>Yes</td>\n",
       "      <td>No</td>\n",
       "      <td>Yes</td>\n",
       "    </tr>\n",
       "    <tr>\n",
       "      <th>MultipleLines</th>\n",
       "      <td>No phone service</td>\n",
       "      <td>No</td>\n",
       "      <td>No</td>\n",
       "      <td>No phone service</td>\n",
       "      <td>No</td>\n",
       "    </tr>\n",
       "    <tr>\n",
       "      <th>InternetService</th>\n",
       "      <td>DSL</td>\n",
       "      <td>DSL</td>\n",
       "      <td>DSL</td>\n",
       "      <td>DSL</td>\n",
       "      <td>Fiber optic</td>\n",
       "    </tr>\n",
       "    <tr>\n",
       "      <th>OnlineSecurity</th>\n",
       "      <td>No</td>\n",
       "      <td>Yes</td>\n",
       "      <td>Yes</td>\n",
       "      <td>Yes</td>\n",
       "      <td>No</td>\n",
       "    </tr>\n",
       "    <tr>\n",
       "      <th>OnlineBackup</th>\n",
       "      <td>Yes</td>\n",
       "      <td>No</td>\n",
       "      <td>Yes</td>\n",
       "      <td>No</td>\n",
       "      <td>No</td>\n",
       "    </tr>\n",
       "    <tr>\n",
       "      <th>DeviceProtection</th>\n",
       "      <td>No</td>\n",
       "      <td>Yes</td>\n",
       "      <td>No</td>\n",
       "      <td>Yes</td>\n",
       "      <td>No</td>\n",
       "    </tr>\n",
       "    <tr>\n",
       "      <th>TechSupport</th>\n",
       "      <td>No</td>\n",
       "      <td>No</td>\n",
       "      <td>No</td>\n",
       "      <td>Yes</td>\n",
       "      <td>No</td>\n",
       "    </tr>\n",
       "    <tr>\n",
       "      <th>StreamingTV</th>\n",
       "      <td>No</td>\n",
       "      <td>No</td>\n",
       "      <td>No</td>\n",
       "      <td>No</td>\n",
       "      <td>No</td>\n",
       "    </tr>\n",
       "    <tr>\n",
       "      <th>StreamingMovies</th>\n",
       "      <td>No</td>\n",
       "      <td>No</td>\n",
       "      <td>No</td>\n",
       "      <td>No</td>\n",
       "      <td>No</td>\n",
       "    </tr>\n",
       "    <tr>\n",
       "      <th>Contract</th>\n",
       "      <td>Month-to-month</td>\n",
       "      <td>One year</td>\n",
       "      <td>Month-to-month</td>\n",
       "      <td>One year</td>\n",
       "      <td>Month-to-month</td>\n",
       "    </tr>\n",
       "    <tr>\n",
       "      <th>PaperlessBilling</th>\n",
       "      <td>Yes</td>\n",
       "      <td>No</td>\n",
       "      <td>Yes</td>\n",
       "      <td>No</td>\n",
       "      <td>Yes</td>\n",
       "    </tr>\n",
       "    <tr>\n",
       "      <th>PaymentMethod</th>\n",
       "      <td>Electronic check</td>\n",
       "      <td>Mailed check</td>\n",
       "      <td>Mailed check</td>\n",
       "      <td>Bank transfer (automatic)</td>\n",
       "      <td>Electronic check</td>\n",
       "    </tr>\n",
       "    <tr>\n",
       "      <th>MonthlyCharges</th>\n",
       "      <td>29.85</td>\n",
       "      <td>56.95</td>\n",
       "      <td>53.85</td>\n",
       "      <td>42.3</td>\n",
       "      <td>70.7</td>\n",
       "    </tr>\n",
       "    <tr>\n",
       "      <th>TotalCharges</th>\n",
       "      <td>29.85</td>\n",
       "      <td>1889.5</td>\n",
       "      <td>108.15</td>\n",
       "      <td>1840.75</td>\n",
       "      <td>151.65</td>\n",
       "    </tr>\n",
       "    <tr>\n",
       "      <th>Churn</th>\n",
       "      <td>No</td>\n",
       "      <td>No</td>\n",
       "      <td>Yes</td>\n",
       "      <td>No</td>\n",
       "      <td>Yes</td>\n",
       "    </tr>\n",
       "  </tbody>\n",
       "</table>\n",
       "</div>"
      ],
      "text/plain": [
       "                                 0             1               2  \\\n",
       "customerID              7590-VHVEG    5575-GNVDE      3668-QPYBK   \n",
       "gender                      Female          Male            Male   \n",
       "SeniorCitizen                    0             0               0   \n",
       "Partner                        Yes            No              No   \n",
       "Dependents                      No            No              No   \n",
       "tenure                           1            34               2   \n",
       "PhoneService                    No           Yes             Yes   \n",
       "MultipleLines     No phone service            No              No   \n",
       "InternetService                DSL           DSL             DSL   \n",
       "OnlineSecurity                  No           Yes             Yes   \n",
       "OnlineBackup                   Yes            No             Yes   \n",
       "DeviceProtection                No           Yes              No   \n",
       "TechSupport                     No            No              No   \n",
       "StreamingTV                     No            No              No   \n",
       "StreamingMovies                 No            No              No   \n",
       "Contract            Month-to-month      One year  Month-to-month   \n",
       "PaperlessBilling               Yes            No             Yes   \n",
       "PaymentMethod     Electronic check  Mailed check    Mailed check   \n",
       "MonthlyCharges               29.85         56.95           53.85   \n",
       "TotalCharges                 29.85        1889.5          108.15   \n",
       "Churn                           No            No             Yes   \n",
       "\n",
       "                                          3                 4  \n",
       "customerID                       7795-CFOCW        9237-HQITU  \n",
       "gender                                 Male            Female  \n",
       "SeniorCitizen                             0                 0  \n",
       "Partner                                  No                No  \n",
       "Dependents                               No                No  \n",
       "tenure                                   45                 2  \n",
       "PhoneService                             No               Yes  \n",
       "MultipleLines              No phone service                No  \n",
       "InternetService                         DSL       Fiber optic  \n",
       "OnlineSecurity                          Yes                No  \n",
       "OnlineBackup                             No                No  \n",
       "DeviceProtection                        Yes                No  \n",
       "TechSupport                             Yes                No  \n",
       "StreamingTV                              No                No  \n",
       "StreamingMovies                          No                No  \n",
       "Contract                           One year    Month-to-month  \n",
       "PaperlessBilling                         No               Yes  \n",
       "PaymentMethod     Bank transfer (automatic)  Electronic check  \n",
       "MonthlyCharges                         42.3              70.7  \n",
       "TotalCharges                        1840.75            151.65  \n",
       "Churn                                    No               Yes  "
      ]
     },
     "execution_count": 10,
     "metadata": {},
     "output_type": "execute_result"
    }
   ],
   "source": [
    "#find the transpose of the data frame\n",
    "customer.head().T"
   ]
  },
  {
   "cell_type": "code",
   "execution_count": 11,
   "id": "d11e0ffc",
   "metadata": {},
   "outputs": [
    {
     "data": {
      "text/html": [
       "<div>\n",
       "<style scoped>\n",
       "    .dataframe tbody tr th:only-of-type {\n",
       "        vertical-align: middle;\n",
       "    }\n",
       "\n",
       "    .dataframe tbody tr th {\n",
       "        vertical-align: top;\n",
       "    }\n",
       "\n",
       "    .dataframe thead th {\n",
       "        text-align: right;\n",
       "    }\n",
       "</style>\n",
       "<table border=\"1\" class=\"dataframe\">\n",
       "  <thead>\n",
       "    <tr style=\"text-align: right;\">\n",
       "      <th></th>\n",
       "      <th>customerID</th>\n",
       "      <th>gender</th>\n",
       "      <th>SeniorCitizen</th>\n",
       "      <th>Partner</th>\n",
       "      <th>Dependents</th>\n",
       "      <th>tenure</th>\n",
       "      <th>PhoneService</th>\n",
       "      <th>MultipleLines</th>\n",
       "      <th>InternetService</th>\n",
       "      <th>OnlineSecurity</th>\n",
       "      <th>...</th>\n",
       "      <th>DeviceProtection</th>\n",
       "      <th>TechSupport</th>\n",
       "      <th>StreamingTV</th>\n",
       "      <th>StreamingMovies</th>\n",
       "      <th>Contract</th>\n",
       "      <th>PaperlessBilling</th>\n",
       "      <th>PaymentMethod</th>\n",
       "      <th>MonthlyCharges</th>\n",
       "      <th>TotalCharges</th>\n",
       "      <th>Churn</th>\n",
       "    </tr>\n",
       "  </thead>\n",
       "  <tbody>\n",
       "    <tr>\n",
       "      <th>0</th>\n",
       "      <td>7590-VHVEG</td>\n",
       "      <td>Female</td>\n",
       "      <td>0</td>\n",
       "      <td>Yes</td>\n",
       "      <td>No</td>\n",
       "      <td>1</td>\n",
       "      <td>No</td>\n",
       "      <td>No phone service</td>\n",
       "      <td>DSL</td>\n",
       "      <td>No</td>\n",
       "      <td>...</td>\n",
       "      <td>No</td>\n",
       "      <td>No</td>\n",
       "      <td>No</td>\n",
       "      <td>No</td>\n",
       "      <td>Month-to-month</td>\n",
       "      <td>Yes</td>\n",
       "      <td>Electronic check</td>\n",
       "      <td>29.85</td>\n",
       "      <td>29.85</td>\n",
       "      <td>No</td>\n",
       "    </tr>\n",
       "    <tr>\n",
       "      <th>1</th>\n",
       "      <td>5575-GNVDE</td>\n",
       "      <td>Male</td>\n",
       "      <td>0</td>\n",
       "      <td>No</td>\n",
       "      <td>No</td>\n",
       "      <td>34</td>\n",
       "      <td>Yes</td>\n",
       "      <td>No</td>\n",
       "      <td>DSL</td>\n",
       "      <td>Yes</td>\n",
       "      <td>...</td>\n",
       "      <td>Yes</td>\n",
       "      <td>No</td>\n",
       "      <td>No</td>\n",
       "      <td>No</td>\n",
       "      <td>One year</td>\n",
       "      <td>No</td>\n",
       "      <td>Mailed check</td>\n",
       "      <td>56.95</td>\n",
       "      <td>1889.5</td>\n",
       "      <td>No</td>\n",
       "    </tr>\n",
       "    <tr>\n",
       "      <th>2</th>\n",
       "      <td>3668-QPYBK</td>\n",
       "      <td>Male</td>\n",
       "      <td>0</td>\n",
       "      <td>No</td>\n",
       "      <td>No</td>\n",
       "      <td>2</td>\n",
       "      <td>Yes</td>\n",
       "      <td>No</td>\n",
       "      <td>DSL</td>\n",
       "      <td>Yes</td>\n",
       "      <td>...</td>\n",
       "      <td>No</td>\n",
       "      <td>No</td>\n",
       "      <td>No</td>\n",
       "      <td>No</td>\n",
       "      <td>Month-to-month</td>\n",
       "      <td>Yes</td>\n",
       "      <td>Mailed check</td>\n",
       "      <td>53.85</td>\n",
       "      <td>108.15</td>\n",
       "      <td>Yes</td>\n",
       "    </tr>\n",
       "    <tr>\n",
       "      <th>3</th>\n",
       "      <td>7795-CFOCW</td>\n",
       "      <td>Male</td>\n",
       "      <td>0</td>\n",
       "      <td>No</td>\n",
       "      <td>No</td>\n",
       "      <td>45</td>\n",
       "      <td>No</td>\n",
       "      <td>No phone service</td>\n",
       "      <td>DSL</td>\n",
       "      <td>Yes</td>\n",
       "      <td>...</td>\n",
       "      <td>Yes</td>\n",
       "      <td>Yes</td>\n",
       "      <td>No</td>\n",
       "      <td>No</td>\n",
       "      <td>One year</td>\n",
       "      <td>No</td>\n",
       "      <td>Bank transfer (automatic)</td>\n",
       "      <td>42.30</td>\n",
       "      <td>1840.75</td>\n",
       "      <td>No</td>\n",
       "    </tr>\n",
       "    <tr>\n",
       "      <th>4</th>\n",
       "      <td>9237-HQITU</td>\n",
       "      <td>Female</td>\n",
       "      <td>0</td>\n",
       "      <td>No</td>\n",
       "      <td>No</td>\n",
       "      <td>2</td>\n",
       "      <td>Yes</td>\n",
       "      <td>No</td>\n",
       "      <td>Fiber optic</td>\n",
       "      <td>No</td>\n",
       "      <td>...</td>\n",
       "      <td>No</td>\n",
       "      <td>No</td>\n",
       "      <td>No</td>\n",
       "      <td>No</td>\n",
       "      <td>Month-to-month</td>\n",
       "      <td>Yes</td>\n",
       "      <td>Electronic check</td>\n",
       "      <td>70.70</td>\n",
       "      <td>151.65</td>\n",
       "      <td>Yes</td>\n",
       "    </tr>\n",
       "    <tr>\n",
       "      <th>...</th>\n",
       "      <td>...</td>\n",
       "      <td>...</td>\n",
       "      <td>...</td>\n",
       "      <td>...</td>\n",
       "      <td>...</td>\n",
       "      <td>...</td>\n",
       "      <td>...</td>\n",
       "      <td>...</td>\n",
       "      <td>...</td>\n",
       "      <td>...</td>\n",
       "      <td>...</td>\n",
       "      <td>...</td>\n",
       "      <td>...</td>\n",
       "      <td>...</td>\n",
       "      <td>...</td>\n",
       "      <td>...</td>\n",
       "      <td>...</td>\n",
       "      <td>...</td>\n",
       "      <td>...</td>\n",
       "      <td>...</td>\n",
       "      <td>...</td>\n",
       "    </tr>\n",
       "    <tr>\n",
       "      <th>7038</th>\n",
       "      <td>6840-RESVB</td>\n",
       "      <td>Male</td>\n",
       "      <td>0</td>\n",
       "      <td>Yes</td>\n",
       "      <td>Yes</td>\n",
       "      <td>24</td>\n",
       "      <td>Yes</td>\n",
       "      <td>Yes</td>\n",
       "      <td>DSL</td>\n",
       "      <td>Yes</td>\n",
       "      <td>...</td>\n",
       "      <td>Yes</td>\n",
       "      <td>Yes</td>\n",
       "      <td>Yes</td>\n",
       "      <td>Yes</td>\n",
       "      <td>One year</td>\n",
       "      <td>Yes</td>\n",
       "      <td>Mailed check</td>\n",
       "      <td>84.80</td>\n",
       "      <td>1990.5</td>\n",
       "      <td>No</td>\n",
       "    </tr>\n",
       "    <tr>\n",
       "      <th>7039</th>\n",
       "      <td>2234-XADUH</td>\n",
       "      <td>Female</td>\n",
       "      <td>0</td>\n",
       "      <td>Yes</td>\n",
       "      <td>Yes</td>\n",
       "      <td>72</td>\n",
       "      <td>Yes</td>\n",
       "      <td>Yes</td>\n",
       "      <td>Fiber optic</td>\n",
       "      <td>No</td>\n",
       "      <td>...</td>\n",
       "      <td>Yes</td>\n",
       "      <td>No</td>\n",
       "      <td>Yes</td>\n",
       "      <td>Yes</td>\n",
       "      <td>One year</td>\n",
       "      <td>Yes</td>\n",
       "      <td>Credit card (automatic)</td>\n",
       "      <td>103.20</td>\n",
       "      <td>7362.9</td>\n",
       "      <td>No</td>\n",
       "    </tr>\n",
       "    <tr>\n",
       "      <th>7040</th>\n",
       "      <td>4801-JZAZL</td>\n",
       "      <td>Female</td>\n",
       "      <td>0</td>\n",
       "      <td>Yes</td>\n",
       "      <td>Yes</td>\n",
       "      <td>11</td>\n",
       "      <td>No</td>\n",
       "      <td>No phone service</td>\n",
       "      <td>DSL</td>\n",
       "      <td>Yes</td>\n",
       "      <td>...</td>\n",
       "      <td>No</td>\n",
       "      <td>No</td>\n",
       "      <td>No</td>\n",
       "      <td>No</td>\n",
       "      <td>Month-to-month</td>\n",
       "      <td>Yes</td>\n",
       "      <td>Electronic check</td>\n",
       "      <td>29.60</td>\n",
       "      <td>346.45</td>\n",
       "      <td>No</td>\n",
       "    </tr>\n",
       "    <tr>\n",
       "      <th>7041</th>\n",
       "      <td>8361-LTMKD</td>\n",
       "      <td>Male</td>\n",
       "      <td>1</td>\n",
       "      <td>Yes</td>\n",
       "      <td>No</td>\n",
       "      <td>4</td>\n",
       "      <td>Yes</td>\n",
       "      <td>Yes</td>\n",
       "      <td>Fiber optic</td>\n",
       "      <td>No</td>\n",
       "      <td>...</td>\n",
       "      <td>No</td>\n",
       "      <td>No</td>\n",
       "      <td>No</td>\n",
       "      <td>No</td>\n",
       "      <td>Month-to-month</td>\n",
       "      <td>Yes</td>\n",
       "      <td>Mailed check</td>\n",
       "      <td>74.40</td>\n",
       "      <td>306.6</td>\n",
       "      <td>Yes</td>\n",
       "    </tr>\n",
       "    <tr>\n",
       "      <th>7042</th>\n",
       "      <td>3186-AJIEK</td>\n",
       "      <td>Male</td>\n",
       "      <td>0</td>\n",
       "      <td>No</td>\n",
       "      <td>No</td>\n",
       "      <td>66</td>\n",
       "      <td>Yes</td>\n",
       "      <td>No</td>\n",
       "      <td>Fiber optic</td>\n",
       "      <td>Yes</td>\n",
       "      <td>...</td>\n",
       "      <td>Yes</td>\n",
       "      <td>Yes</td>\n",
       "      <td>Yes</td>\n",
       "      <td>Yes</td>\n",
       "      <td>Two year</td>\n",
       "      <td>Yes</td>\n",
       "      <td>Bank transfer (automatic)</td>\n",
       "      <td>105.65</td>\n",
       "      <td>6844.5</td>\n",
       "      <td>No</td>\n",
       "    </tr>\n",
       "  </tbody>\n",
       "</table>\n",
       "<p>7043 rows × 21 columns</p>\n",
       "</div>"
      ],
      "text/plain": [
       "      customerID  gender  SeniorCitizen Partner Dependents  tenure  \\\n",
       "0     7590-VHVEG  Female              0     Yes         No       1   \n",
       "1     5575-GNVDE    Male              0      No         No      34   \n",
       "2     3668-QPYBK    Male              0      No         No       2   \n",
       "3     7795-CFOCW    Male              0      No         No      45   \n",
       "4     9237-HQITU  Female              0      No         No       2   \n",
       "...          ...     ...            ...     ...        ...     ...   \n",
       "7038  6840-RESVB    Male              0     Yes        Yes      24   \n",
       "7039  2234-XADUH  Female              0     Yes        Yes      72   \n",
       "7040  4801-JZAZL  Female              0     Yes        Yes      11   \n",
       "7041  8361-LTMKD    Male              1     Yes         No       4   \n",
       "7042  3186-AJIEK    Male              0      No         No      66   \n",
       "\n",
       "     PhoneService     MultipleLines InternetService OnlineSecurity  ...  \\\n",
       "0              No  No phone service             DSL             No  ...   \n",
       "1             Yes                No             DSL            Yes  ...   \n",
       "2             Yes                No             DSL            Yes  ...   \n",
       "3              No  No phone service             DSL            Yes  ...   \n",
       "4             Yes                No     Fiber optic             No  ...   \n",
       "...           ...               ...             ...            ...  ...   \n",
       "7038          Yes               Yes             DSL            Yes  ...   \n",
       "7039          Yes               Yes     Fiber optic             No  ...   \n",
       "7040           No  No phone service             DSL            Yes  ...   \n",
       "7041          Yes               Yes     Fiber optic             No  ...   \n",
       "7042          Yes                No     Fiber optic            Yes  ...   \n",
       "\n",
       "     DeviceProtection TechSupport StreamingTV StreamingMovies        Contract  \\\n",
       "0                  No          No          No              No  Month-to-month   \n",
       "1                 Yes          No          No              No        One year   \n",
       "2                  No          No          No              No  Month-to-month   \n",
       "3                 Yes         Yes          No              No        One year   \n",
       "4                  No          No          No              No  Month-to-month   \n",
       "...               ...         ...         ...             ...             ...   \n",
       "7038              Yes         Yes         Yes             Yes        One year   \n",
       "7039              Yes          No         Yes             Yes        One year   \n",
       "7040               No          No          No              No  Month-to-month   \n",
       "7041               No          No          No              No  Month-to-month   \n",
       "7042              Yes         Yes         Yes             Yes        Two year   \n",
       "\n",
       "     PaperlessBilling              PaymentMethod MonthlyCharges  TotalCharges  \\\n",
       "0                 Yes           Electronic check          29.85         29.85   \n",
       "1                  No               Mailed check          56.95        1889.5   \n",
       "2                 Yes               Mailed check          53.85        108.15   \n",
       "3                  No  Bank transfer (automatic)          42.30       1840.75   \n",
       "4                 Yes           Electronic check          70.70        151.65   \n",
       "...               ...                        ...            ...           ...   \n",
       "7038              Yes               Mailed check          84.80        1990.5   \n",
       "7039              Yes    Credit card (automatic)         103.20        7362.9   \n",
       "7040              Yes           Electronic check          29.60        346.45   \n",
       "7041              Yes               Mailed check          74.40         306.6   \n",
       "7042              Yes  Bank transfer (automatic)         105.65        6844.5   \n",
       "\n",
       "     Churn  \n",
       "0       No  \n",
       "1       No  \n",
       "2      Yes  \n",
       "3       No  \n",
       "4      Yes  \n",
       "...    ...  \n",
       "7038    No  \n",
       "7039    No  \n",
       "7040    No  \n",
       "7041   Yes  \n",
       "7042    No  \n",
       "\n",
       "[7043 rows x 21 columns]"
      ]
     },
     "execution_count": 11,
     "metadata": {},
     "output_type": "execute_result"
    }
   ],
   "source": [
    "#Return DataFrame with duplicate rows removed.\n",
    "customer.drop_duplicates()"
   ]
  },
  {
   "cell_type": "code",
   "execution_count": 12,
   "id": "0ff6038e",
   "metadata": {},
   "outputs": [
    {
     "data": {
      "text/plain": [
       "customerID          0\n",
       "gender              0\n",
       "SeniorCitizen       0\n",
       "Partner             0\n",
       "Dependents          0\n",
       "tenure              0\n",
       "PhoneService        0\n",
       "MultipleLines       0\n",
       "InternetService     0\n",
       "OnlineSecurity      0\n",
       "OnlineBackup        0\n",
       "DeviceProtection    0\n",
       "TechSupport         0\n",
       "StreamingTV         0\n",
       "StreamingMovies     0\n",
       "Contract            0\n",
       "PaperlessBilling    0\n",
       "PaymentMethod       0\n",
       "MonthlyCharges      0\n",
       "TotalCharges        0\n",
       "Churn               0\n",
       "dtype: int64"
      ]
     },
     "execution_count": 12,
     "metadata": {},
     "output_type": "execute_result"
    }
   ],
   "source": [
    "#find null values or datapoints in data frame\n",
    "customer.isna().sum()"
   ]
  },
  {
   "cell_type": "code",
   "execution_count": 13,
   "id": "b0ef37ec",
   "metadata": {},
   "outputs": [
    {
     "data": {
      "text/plain": [
       "customerID          7043\n",
       "gender                 2\n",
       "SeniorCitizen          2\n",
       "Partner                2\n",
       "Dependents             2\n",
       "tenure                73\n",
       "PhoneService           2\n",
       "MultipleLines          3\n",
       "InternetService        3\n",
       "OnlineSecurity         3\n",
       "OnlineBackup           3\n",
       "DeviceProtection       3\n",
       "TechSupport            3\n",
       "StreamingTV            3\n",
       "StreamingMovies        3\n",
       "Contract               3\n",
       "PaperlessBilling       2\n",
       "PaymentMethod          4\n",
       "MonthlyCharges      1585\n",
       "TotalCharges        6531\n",
       "Churn                  2\n",
       "dtype: int64"
      ]
     },
     "execution_count": 13,
     "metadata": {},
     "output_type": "execute_result"
    }
   ],
   "source": [
    "#returns the number of unique values for each column.\n",
    "customer.nunique()"
   ]
  },
  {
   "cell_type": "code",
   "execution_count": 14,
   "id": "694a9a87",
   "metadata": {},
   "outputs": [
    {
     "name": "stdout",
     "output_type": "stream",
     "text": [
      "gender :-  ['Female' 'Male']\n",
      "SeniorCitizen- [0 1]\n",
      "Partner- ['Yes' 'No']\n",
      "Dependents- ['No' 'Yes']\n",
      "tenure- [ 1 34  2 45  8 22 10 28 62 13 16 58 49 25 69 52 71 21 12 30 47 72 17 27\n",
      "  5 46 11 70 63 43 15 60 18 66  9  3 31 50 64 56  7 42 35 48 29 65 38 68\n",
      " 32 55 37 36 41  6  4 33 67 23 57 61 14 20 53 40 59 24 44 19 54 51 26  0\n",
      " 39]\n",
      "MultipleLines- ['No phone service' 'No' 'Yes']\n",
      "InternetService- ['DSL' 'Fiber optic' 'No']\n",
      "OnlineSecurity- ['No' 'Yes' 'No internet service']\n",
      "OnlineBackup- ['Yes' 'No' 'No internet service']\n",
      "DeviceProtection- ['No' 'Yes' 'No internet service']\n",
      "TechSupport- ['No' 'Yes' 'No internet service']\n",
      "StreamingTV- ['No' 'Yes' 'No internet service']\n",
      "StreamingMovies- ['No' 'Yes' 'No internet service']\n",
      "Contract- ['Month-to-month' 'One year' 'Two year']\n",
      "PaperlessBilling- ['Yes' 'No']\n",
      "PaymentMethod- ['Electronic check' 'Mailed check' 'Bank transfer (automatic)'\n",
      " 'Credit card (automatic)']\n",
      "MonthlyCharges- [29.85 56.95 53.85 ... 63.1  44.2  78.7 ]\n",
      "TotalCharges- ['29.85' '1889.5' '108.15' ... '346.45' '306.6' '6844.5']\n",
      "Churn- ['No' 'Yes']\n"
     ]
    }
   ],
   "source": [
    "#identify unique values in each columns and list it out\n",
    "\n",
    "print('gender :- ', customer['gender'].unique())\n",
    "print('SeniorCitizen-',customer['SeniorCitizen'].unique())\n",
    "print('Partner-',customer['Partner'].unique())\n",
    "print('Dependents-',customer['Dependents'].unique())\n",
    "print('tenure-',customer['tenure'].unique())\n",
    "print('MultipleLines-',customer['MultipleLines'].unique())\n",
    "print('InternetService-',customer['InternetService'].unique())\n",
    "print('OnlineSecurity-',customer['OnlineSecurity'].unique())\n",
    "print('OnlineBackup-',customer['OnlineBackup'].unique())\n",
    "print('DeviceProtection-',customer['DeviceProtection'].unique())\n",
    "print('TechSupport-',customer['TechSupport'].unique())\n",
    "print('StreamingTV-',customer['StreamingTV'].unique())\n",
    "print('StreamingMovies-',customer['StreamingMovies'].unique())\n",
    "print('Contract-',customer['Contract'].unique())\n",
    "print('PaperlessBilling-',customer['PaperlessBilling'].unique())\n",
    "print('PaymentMethod-',customer['PaymentMethod'].unique())\n",
    "print('MonthlyCharges-',customer['MonthlyCharges'].unique())\n",
    "print('TotalCharges-',customer['TotalCharges'].unique())\n",
    "print('Churn-',customer['Churn'].unique())"
   ]
  },
  {
   "cell_type": "code",
   "execution_count": 15,
   "id": "404ad4c2",
   "metadata": {},
   "outputs": [],
   "source": [
    "# I created a new column 'age' by using these three 'SeniorCitizen','Partner','Dependents' for better insight and analysis\n",
    "# 1st creat a function and then creat a new column 'age'"
   ]
  },
  {
   "cell_type": "code",
   "execution_count": 16,
   "id": "5f6f456c",
   "metadata": {},
   "outputs": [],
   "source": [
    "#creat a function for age\n",
    "def choose(customer):\n",
    "    list_age = []\n",
    "    for j,k,l in zip(customer['SeniorCitizen'],customer['Partner'],customer['Dependents']):\n",
    "        if j == 1:\n",
    "            list_age.append('SeniorCitizen(60-70)')\n",
    "        elif k == 'Yes' and l == 'No':\n",
    "            list_age.append('Adult(21-30)')\n",
    "        elif k == 'Yes' and l == 'Yes':\n",
    "            list_age.append('Mid-age(31-59)')\n",
    "        else:\n",
    "            list_age.append('Young(18-20)')\n",
    "    return list_age"
   ]
  },
  {
   "cell_type": "code",
   "execution_count": 17,
   "id": "aa206d18",
   "metadata": {},
   "outputs": [
    {
     "name": "stdout",
     "output_type": "stream",
     "text": [
      "['Adult(21-30)', 'Young(18-20)', 'Young(18-20)', 'Young(18-20)', 'Young(18-20)', 'Young(18-20)', 'Young(18-20)', 'Young(18-20)', 'Adult(21-30)', 'Young(18-20)', 'Mid-age(31-59)', 'Young(18-20)', 'Adult(21-30)', 'Young(18-20)', 'Young(18-20)', 'Mid-age(31-59)', 'Young(18-20)', 'Young(18-20)', 'Mid-age(31-59)', 'Young(18-20)', 'SeniorCitizen(60-70)', 'Adult(21-30)', 'Young(18-20)', 'Adult(21-30)', 'Mid-age(31-59)', 'Young(18-20)', 'Mid-age(31-59)', 'Mid-age(31-59)', 'Adult(21-30)', 'Young(18-20)', 'SeniorCitizen(60-70)', 'SeniorCitizen(60-70)', 'Mid-age(31-59)', 'Young(18-20)', 'SeniorCitizen(60-70)', 'Mid-age(31-59)', 'Young(18-20)', 'Young(18-20)', 'Young(18-20)', 'Young(18-20)', 'Mid-age(31-59)', 'Mid-age(31-59)', 'Mid-age(31-59)', 'Young(18-20)', 'Adult(21-30)', 'Young(18-20)', 'Young(18-20)', 'Young(18-20)', 'Young(18-20)', 'Mid-age(31-59)', 'SeniorCitizen(60-70)', 'Young(18-20)', 'SeniorCitizen(60-70)', 'SeniorCitizen(60-70)', 'SeniorCitizen(60-70)', 'SeniorCitizen(60-70)', 'Mid-age(31-59)', 'SeniorCitizen(60-70)', 'Mid-age(31-59)', 'Young(18-20)', 'Adult(21-30)', 'Young(18-20)', 'Adult(21-30)', 'Mid-age(31-59)', 'Young(18-20)', 'Young(18-20)', 'Adult(21-30)', 'Young(18-20)', 'Mid-age(31-59)', 'Young(18-20)', 'Young(18-20)', 'Mid-age(31-59)', 'SeniorCitizen(60-70)', 'Mid-age(31-59)', 'Young(18-20)', 'SeniorCitizen(60-70)', 'Young(18-20)', 'Mid-age(31-59)', 'SeniorCitizen(60-70)', 'Mid-age(31-59)', 'Young(18-20)', 'Mid-age(31-59)', 'Adult(21-30)', 'Young(18-20)', 'Adult(21-30)', 'Young(18-20)', 'Adult(21-30)', 'Mid-age(31-59)', 'Mid-age(31-59)', 'Adult(21-30)', 'Mid-age(31-59)', 'SeniorCitizen(60-70)', 'Mid-age(31-59)', 'Young(18-20)', 'Young(18-20)', 'Young(18-20)', 'Mid-age(31-59)', 'Young(18-20)', 'Young(18-20)', 'SeniorCitizen(60-70)', 'Young(18-20)', 'Mid-age(31-59)', 'Young(18-20)', 'SeniorCitizen(60-70)', 'Adult(21-30)', 'Young(18-20)', 'Mid-age(31-59)', 'Young(18-20)', 'Young(18-20)', 'Mid-age(31-59)', 'Adult(21-30)', 'Young(18-20)', 'Young(18-20)', 'SeniorCitizen(60-70)', 'Mid-age(31-59)', 'Mid-age(31-59)', 'Young(18-20)', 'Mid-age(31-59)', 'Young(18-20)', 'Mid-age(31-59)', 'Mid-age(31-59)', 'Young(18-20)', 'Young(18-20)', 'Mid-age(31-59)', 'Mid-age(31-59)', 'Young(18-20)', 'SeniorCitizen(60-70)', 'Adult(21-30)', 'Young(18-20)', 'SeniorCitizen(60-70)', 'Young(18-20)', 'Mid-age(31-59)', 'Young(18-20)', 'Young(18-20)', 'Young(18-20)', 'Young(18-20)', 'Young(18-20)', 'Mid-age(31-59)', 'Young(18-20)', 'SeniorCitizen(60-70)', 'SeniorCitizen(60-70)', 'Young(18-20)', 'Adult(21-30)', 'Young(18-20)', 'SeniorCitizen(60-70)', 'Mid-age(31-59)', 'Young(18-20)', 'Young(18-20)', 'Young(18-20)', 'Mid-age(31-59)', 'Mid-age(31-59)', 'Young(18-20)', 'Mid-age(31-59)', 'Mid-age(31-59)', 'Mid-age(31-59)', 'Mid-age(31-59)', 'Young(18-20)', 'Mid-age(31-59)', 'Mid-age(31-59)', 'Young(18-20)', 'Young(18-20)', 'Adult(21-30)', 'Young(18-20)', 'Young(18-20)', 'Mid-age(31-59)', 'Adult(21-30)', 'Young(18-20)', 'Adult(21-30)', 'SeniorCitizen(60-70)', 'Mid-age(31-59)', 'Adult(21-30)', 'Adult(21-30)', 'Adult(21-30)', 'Adult(21-30)', 'Young(18-20)', 'Adult(21-30)', 'SeniorCitizen(60-70)', 'SeniorCitizen(60-70)', 'Mid-age(31-59)', 'Adult(21-30)', 'Young(18-20)', 'Young(18-20)', 'Young(18-20)', 'Mid-age(31-59)', 'Young(18-20)', 'Adult(21-30)', 'Young(18-20)', 'Young(18-20)', 'Young(18-20)', 'Adult(21-30)', 'Mid-age(31-59)', 'Adult(21-30)', 'Mid-age(31-59)', 'Mid-age(31-59)', 'Mid-age(31-59)', 'Adult(21-30)', 'Mid-age(31-59)', 'Young(18-20)', 'Mid-age(31-59)', 'Young(18-20)', 'Adult(21-30)', 'Young(18-20)', 'Mid-age(31-59)', 'Young(18-20)', 'Young(18-20)', 'Young(18-20)', 'Mid-age(31-59)', 'Young(18-20)', 'Young(18-20)', 'Adult(21-30)', 'Young(18-20)', 'Young(18-20)', 'Young(18-20)', 'Mid-age(31-59)', 'SeniorCitizen(60-70)', 'Adult(21-30)', 'Mid-age(31-59)', 'Adult(21-30)', 'Mid-age(31-59)', 'Young(18-20)', 'Young(18-20)', 'Adult(21-30)', 'Mid-age(31-59)', 'Adult(21-30)', 'Young(18-20)', 'Young(18-20)', 'Mid-age(31-59)', 'Adult(21-30)', 'Young(18-20)', 'Mid-age(31-59)', 'Young(18-20)', 'Young(18-20)', 'Young(18-20)', 'Young(18-20)', 'Young(18-20)', 'Young(18-20)', 'Young(18-20)', 'Adult(21-30)', 'SeniorCitizen(60-70)', 'Young(18-20)', 'Young(18-20)', 'Young(18-20)', 'Mid-age(31-59)', 'SeniorCitizen(60-70)', 'SeniorCitizen(60-70)', 'SeniorCitizen(60-70)', 'Young(18-20)', 'SeniorCitizen(60-70)', 'Young(18-20)', 'Young(18-20)', 'Adult(21-30)', 'Mid-age(31-59)', 'SeniorCitizen(60-70)', 'Young(18-20)', 'Young(18-20)', 'Mid-age(31-59)', 'Mid-age(31-59)', 'Young(18-20)', 'Adult(21-30)', 'SeniorCitizen(60-70)', 'SeniorCitizen(60-70)', 'SeniorCitizen(60-70)', 'SeniorCitizen(60-70)', 'Young(18-20)', 'Adult(21-30)', 'Mid-age(31-59)', 'Young(18-20)', 'SeniorCitizen(60-70)', 'Young(18-20)', 'Adult(21-30)', 'SeniorCitizen(60-70)', 'Adult(21-30)', 'Young(18-20)', 'SeniorCitizen(60-70)', 'Young(18-20)', 'Adult(21-30)', 'Adult(21-30)', 'SeniorCitizen(60-70)', 'Young(18-20)', 'Young(18-20)', 'Young(18-20)', 'Young(18-20)', 'Young(18-20)', 'Young(18-20)', 'Mid-age(31-59)', 'Young(18-20)', 'Young(18-20)', 'Adult(21-30)', 'SeniorCitizen(60-70)', 'Young(18-20)', 'SeniorCitizen(60-70)', 'Young(18-20)', 'Mid-age(31-59)', 'SeniorCitizen(60-70)', 'Young(18-20)', 'Young(18-20)', 'Mid-age(31-59)', 'SeniorCitizen(60-70)', 'Mid-age(31-59)', 'Young(18-20)', 'Young(18-20)', 'SeniorCitizen(60-70)', 'Young(18-20)', 'Mid-age(31-59)', 'Young(18-20)', 'Mid-age(31-59)', 'SeniorCitizen(60-70)', 'Mid-age(31-59)', 'SeniorCitizen(60-70)', 'Young(18-20)', 'Young(18-20)', 'Young(18-20)', 'Young(18-20)', 'SeniorCitizen(60-70)', 'Young(18-20)', 'Mid-age(31-59)', 'Young(18-20)', 'Mid-age(31-59)', 'SeniorCitizen(60-70)', 'Adult(21-30)', 'SeniorCitizen(60-70)', 'Mid-age(31-59)', 'Young(18-20)', 'Mid-age(31-59)', 'Young(18-20)', 'Adult(21-30)', 'SeniorCitizen(60-70)', 'SeniorCitizen(60-70)', 'SeniorCitizen(60-70)', 'SeniorCitizen(60-70)', 'Mid-age(31-59)', 'Young(18-20)', 'Young(18-20)', 'Young(18-20)', 'Young(18-20)', 'Mid-age(31-59)', 'Young(18-20)', 'Young(18-20)', 'Young(18-20)', 'Adult(21-30)', 'SeniorCitizen(60-70)', 'Adult(21-30)', 'Mid-age(31-59)', 'Young(18-20)', 'Young(18-20)', 'SeniorCitizen(60-70)', 'Young(18-20)', 'Adult(21-30)', 'Young(18-20)', 'SeniorCitizen(60-70)', 'Mid-age(31-59)', 'Young(18-20)', 'SeniorCitizen(60-70)', 'Mid-age(31-59)', 'SeniorCitizen(60-70)', 'Young(18-20)', 'SeniorCitizen(60-70)', 'Adult(21-30)', 'SeniorCitizen(60-70)', 'Mid-age(31-59)', 'Young(18-20)', 'Young(18-20)', 'Adult(21-30)', 'Young(18-20)', 'Young(18-20)', 'Young(18-20)', 'Adult(21-30)', 'Young(18-20)', 'Adult(21-30)', 'Mid-age(31-59)', 'Mid-age(31-59)', 'Young(18-20)', 'Young(18-20)', 'Mid-age(31-59)', 'Young(18-20)', 'Young(18-20)', 'Young(18-20)', 'Adult(21-30)', 'Young(18-20)', 'Young(18-20)', 'Adult(21-30)', 'Young(18-20)', 'SeniorCitizen(60-70)', 'Young(18-20)', 'Young(18-20)', 'SeniorCitizen(60-70)', 'SeniorCitizen(60-70)', 'Young(18-20)', 'Young(18-20)', 'Young(18-20)', 'Young(18-20)', 'SeniorCitizen(60-70)', 'SeniorCitizen(60-70)', 'Young(18-20)', 'SeniorCitizen(60-70)', 'Young(18-20)', 'SeniorCitizen(60-70)', 'Young(18-20)', 'SeniorCitizen(60-70)', 'Mid-age(31-59)', 'Young(18-20)', 'Young(18-20)', 'Mid-age(31-59)', 'Adult(21-30)', 'Young(18-20)', 'Young(18-20)', 'Mid-age(31-59)', 'SeniorCitizen(60-70)', 'Young(18-20)', 'Young(18-20)', 'SeniorCitizen(60-70)', 'Adult(21-30)', 'Adult(21-30)', 'Young(18-20)', 'SeniorCitizen(60-70)', 'Mid-age(31-59)', 'Adult(21-30)', 'Mid-age(31-59)', 'Mid-age(31-59)', 'SeniorCitizen(60-70)', 'Mid-age(31-59)', 'Young(18-20)', 'Young(18-20)', 'Mid-age(31-59)', 'Young(18-20)', 'SeniorCitizen(60-70)', 'SeniorCitizen(60-70)', 'Mid-age(31-59)', 'Young(18-20)', 'Adult(21-30)', 'Mid-age(31-59)', 'Mid-age(31-59)', 'Young(18-20)', 'Young(18-20)', 'Adult(21-30)', 'Young(18-20)', 'Adult(21-30)', 'Mid-age(31-59)', 'Adult(21-30)', 'Young(18-20)', 'Mid-age(31-59)', 'SeniorCitizen(60-70)', 'Adult(21-30)', 'Young(18-20)', 'Adult(21-30)', 'Young(18-20)', 'Young(18-20)', 'Mid-age(31-59)', 'Mid-age(31-59)', 'Mid-age(31-59)', 'Young(18-20)', 'SeniorCitizen(60-70)', 'Adult(21-30)', 'Mid-age(31-59)', 'Adult(21-30)', 'Young(18-20)', 'Mid-age(31-59)', 'Mid-age(31-59)', 'Adult(21-30)', 'Young(18-20)', 'Young(18-20)', 'Adult(21-30)', 'Mid-age(31-59)', 'Young(18-20)', 'SeniorCitizen(60-70)', 'Young(18-20)', 'SeniorCitizen(60-70)', 'Mid-age(31-59)', 'Young(18-20)', 'Mid-age(31-59)', 'SeniorCitizen(60-70)', 'Young(18-20)', 'Adult(21-30)', 'Adult(21-30)', 'Mid-age(31-59)', 'Young(18-20)', 'SeniorCitizen(60-70)', 'Mid-age(31-59)', 'Young(18-20)', 'Young(18-20)', 'Mid-age(31-59)', 'Adult(21-30)', 'SeniorCitizen(60-70)', 'Adult(21-30)', 'Mid-age(31-59)', 'Mid-age(31-59)', 'Young(18-20)', 'Young(18-20)', 'Mid-age(31-59)', 'Young(18-20)', 'Mid-age(31-59)', 'Young(18-20)', 'Adult(21-30)', 'SeniorCitizen(60-70)', 'Young(18-20)', 'Young(18-20)', 'Adult(21-30)', 'Adult(21-30)', 'SeniorCitizen(60-70)', 'Young(18-20)', 'Young(18-20)', 'SeniorCitizen(60-70)', 'Mid-age(31-59)', 'Mid-age(31-59)', 'Young(18-20)', 'SeniorCitizen(60-70)', 'Young(18-20)', 'Adult(21-30)', 'Mid-age(31-59)', 'Young(18-20)', 'SeniorCitizen(60-70)', 'Young(18-20)', 'SeniorCitizen(60-70)', 'Young(18-20)', 'Young(18-20)', 'Young(18-20)', 'Young(18-20)', 'SeniorCitizen(60-70)', 'SeniorCitizen(60-70)', 'Young(18-20)', 'Mid-age(31-59)', 'SeniorCitizen(60-70)', 'Mid-age(31-59)', 'Young(18-20)', 'Adult(21-30)', 'Young(18-20)', 'SeniorCitizen(60-70)', 'Mid-age(31-59)', 'Mid-age(31-59)', 'SeniorCitizen(60-70)', 'Mid-age(31-59)', 'Mid-age(31-59)', 'Young(18-20)', 'SeniorCitizen(60-70)', 'Young(18-20)', 'Young(18-20)', 'Adult(21-30)', 'Mid-age(31-59)', 'Adult(21-30)', 'Mid-age(31-59)', 'Mid-age(31-59)', 'Young(18-20)', 'Young(18-20)', 'Young(18-20)', 'Young(18-20)', 'Mid-age(31-59)', 'Mid-age(31-59)', 'Young(18-20)', 'SeniorCitizen(60-70)', 'Young(18-20)', 'Mid-age(31-59)', 'Mid-age(31-59)', 'Mid-age(31-59)', 'Mid-age(31-59)', 'Young(18-20)', 'Mid-age(31-59)', 'Young(18-20)', 'Young(18-20)', 'Young(18-20)', 'Young(18-20)', 'Adult(21-30)', 'Adult(21-30)', 'Mid-age(31-59)', 'Mid-age(31-59)', 'Young(18-20)', 'Mid-age(31-59)', 'Mid-age(31-59)', 'Adult(21-30)', 'Young(18-20)', 'Young(18-20)', 'Mid-age(31-59)', 'SeniorCitizen(60-70)', 'Young(18-20)', 'Adult(21-30)', 'SeniorCitizen(60-70)', 'Adult(21-30)', 'Mid-age(31-59)', 'Young(18-20)', 'SeniorCitizen(60-70)', 'Young(18-20)', 'Mid-age(31-59)', 'Young(18-20)', 'SeniorCitizen(60-70)', 'Mid-age(31-59)', 'Young(18-20)', 'SeniorCitizen(60-70)', 'Young(18-20)', 'Mid-age(31-59)', 'Adult(21-30)', 'Mid-age(31-59)', 'Adult(21-30)', 'Mid-age(31-59)', 'Mid-age(31-59)', 'Young(18-20)', 'Young(18-20)', 'Young(18-20)', 'Young(18-20)', 'Young(18-20)', 'Adult(21-30)', 'Adult(21-30)', 'Young(18-20)', 'Young(18-20)', 'Mid-age(31-59)', 'Young(18-20)', 'Young(18-20)', 'Adult(21-30)', 'Mid-age(31-59)', 'Young(18-20)', 'Mid-age(31-59)', 'SeniorCitizen(60-70)', 'Mid-age(31-59)', 'Mid-age(31-59)', 'Young(18-20)', 'SeniorCitizen(60-70)', 'Young(18-20)', 'Young(18-20)', 'Young(18-20)', 'SeniorCitizen(60-70)', 'Young(18-20)', 'Young(18-20)', 'SeniorCitizen(60-70)', 'Young(18-20)', 'Mid-age(31-59)', 'Young(18-20)', 'Young(18-20)', 'Adult(21-30)', 'Adult(21-30)', 'SeniorCitizen(60-70)', 'SeniorCitizen(60-70)', 'SeniorCitizen(60-70)', 'SeniorCitizen(60-70)', 'Adult(21-30)', 'Mid-age(31-59)', 'Young(18-20)', 'Young(18-20)', 'Mid-age(31-59)', 'Young(18-20)', 'Adult(21-30)', 'SeniorCitizen(60-70)', 'Adult(21-30)', 'Mid-age(31-59)', 'Mid-age(31-59)', 'Young(18-20)', 'SeniorCitizen(60-70)', 'Mid-age(31-59)', 'SeniorCitizen(60-70)', 'Young(18-20)', 'Mid-age(31-59)', 'SeniorCitizen(60-70)', 'SeniorCitizen(60-70)', 'Young(18-20)', 'Young(18-20)', 'Mid-age(31-59)', 'Young(18-20)', 'SeniorCitizen(60-70)', 'Young(18-20)', 'Mid-age(31-59)', 'Adult(21-30)', 'Mid-age(31-59)', 'Adult(21-30)', 'Young(18-20)', 'Young(18-20)', 'Young(18-20)', 'Mid-age(31-59)', 'Mid-age(31-59)', 'Young(18-20)', 'Young(18-20)', 'Young(18-20)', 'Young(18-20)', 'Adult(21-30)', 'Mid-age(31-59)', 'Mid-age(31-59)', 'Young(18-20)', 'Young(18-20)', 'SeniorCitizen(60-70)', 'SeniorCitizen(60-70)', 'Young(18-20)', 'Young(18-20)', 'Young(18-20)', 'Adult(21-30)', 'Mid-age(31-59)', 'Mid-age(31-59)', 'Young(18-20)', 'SeniorCitizen(60-70)', 'Young(18-20)', 'Young(18-20)', 'Young(18-20)', 'SeniorCitizen(60-70)', 'Young(18-20)', 'Young(18-20)', 'Young(18-20)', 'Mid-age(31-59)', 'Young(18-20)', 'Young(18-20)', 'SeniorCitizen(60-70)', 'Adult(21-30)', 'Adult(21-30)', 'Mid-age(31-59)', 'SeniorCitizen(60-70)', 'Mid-age(31-59)', 'Mid-age(31-59)', 'Young(18-20)', 'Young(18-20)', 'Young(18-20)', 'Young(18-20)', 'Young(18-20)', 'Young(18-20)', 'SeniorCitizen(60-70)', 'Adult(21-30)', 'Mid-age(31-59)', 'Young(18-20)', 'Adult(21-30)', 'Young(18-20)', 'Young(18-20)', 'Adult(21-30)', 'Young(18-20)', 'Adult(21-30)', 'Young(18-20)', 'Young(18-20)', 'SeniorCitizen(60-70)', 'Mid-age(31-59)', 'Mid-age(31-59)', 'Mid-age(31-59)', 'Young(18-20)', 'SeniorCitizen(60-70)', 'SeniorCitizen(60-70)', 'Young(18-20)', 'Mid-age(31-59)', 'SeniorCitizen(60-70)', 'Young(18-20)', 'Young(18-20)', 'Young(18-20)', 'Mid-age(31-59)', 'Mid-age(31-59)', 'Adult(21-30)', 'Mid-age(31-59)', 'Young(18-20)', 'Adult(21-30)', 'SeniorCitizen(60-70)', 'SeniorCitizen(60-70)', 'Young(18-20)', 'Young(18-20)', 'Young(18-20)', 'Mid-age(31-59)', 'Young(18-20)', 'SeniorCitizen(60-70)', 'SeniorCitizen(60-70)', 'SeniorCitizen(60-70)', 'Adult(21-30)', 'Young(18-20)', 'Young(18-20)', 'Mid-age(31-59)', 'Mid-age(31-59)', 'Young(18-20)', 'Adult(21-30)', 'SeniorCitizen(60-70)', 'Young(18-20)', 'Young(18-20)', 'Young(18-20)', 'Mid-age(31-59)', 'Young(18-20)', 'Young(18-20)', 'Adult(21-30)', 'Mid-age(31-59)', 'Mid-age(31-59)', 'Young(18-20)', 'Young(18-20)', 'Young(18-20)', 'Young(18-20)', 'Adult(21-30)', 'Young(18-20)', 'Young(18-20)', 'Young(18-20)', 'Adult(21-30)', 'Adult(21-30)', 'Adult(21-30)', 'Mid-age(31-59)', 'Young(18-20)', 'Adult(21-30)', 'Young(18-20)', 'Mid-age(31-59)', 'Mid-age(31-59)', 'Mid-age(31-59)', 'Young(18-20)', 'Young(18-20)', 'SeniorCitizen(60-70)', 'Mid-age(31-59)', 'Adult(21-30)', 'Mid-age(31-59)', 'Young(18-20)', 'Mid-age(31-59)', 'Young(18-20)', 'Mid-age(31-59)', 'Young(18-20)', 'Young(18-20)', 'Adult(21-30)', 'Young(18-20)', 'Mid-age(31-59)', 'Mid-age(31-59)', 'Young(18-20)', 'SeniorCitizen(60-70)', 'Young(18-20)', 'Mid-age(31-59)', 'Adult(21-30)', 'Young(18-20)', 'Mid-age(31-59)', 'Young(18-20)', 'Adult(21-30)', 'Adult(21-30)', 'Young(18-20)', 'Young(18-20)', 'Young(18-20)', 'Adult(21-30)', 'Mid-age(31-59)', 'SeniorCitizen(60-70)', 'Young(18-20)', 'Young(18-20)', 'Mid-age(31-59)', 'Adult(21-30)', 'Adult(21-30)', 'Adult(21-30)', 'Mid-age(31-59)', 'Young(18-20)', 'Young(18-20)', 'Young(18-20)', 'Mid-age(31-59)', 'SeniorCitizen(60-70)', 'Mid-age(31-59)', 'Mid-age(31-59)', 'Mid-age(31-59)', 'Adult(21-30)', 'Mid-age(31-59)', 'Mid-age(31-59)', 'Mid-age(31-59)', 'SeniorCitizen(60-70)', 'SeniorCitizen(60-70)', 'Mid-age(31-59)', 'Young(18-20)', 'Young(18-20)', 'Young(18-20)', 'SeniorCitizen(60-70)', 'Adult(21-30)', 'Mid-age(31-59)', 'Young(18-20)', 'Young(18-20)', 'Mid-age(31-59)', 'Young(18-20)', 'Mid-age(31-59)', 'Adult(21-30)', 'Mid-age(31-59)', 'Mid-age(31-59)', 'Young(18-20)', 'Young(18-20)', 'Young(18-20)', 'Young(18-20)', 'Young(18-20)', 'Young(18-20)', 'Young(18-20)', 'Adult(21-30)', 'Mid-age(31-59)', 'Young(18-20)', 'Mid-age(31-59)', 'SeniorCitizen(60-70)', 'Young(18-20)', 'Young(18-20)', 'Adult(21-30)', 'Adult(21-30)', 'Young(18-20)', 'Adult(21-30)', 'Young(18-20)', 'Adult(21-30)', 'Mid-age(31-59)', 'Young(18-20)', 'Young(18-20)', 'Young(18-20)', 'Young(18-20)', 'Young(18-20)', 'Young(18-20)', 'Young(18-20)', 'Young(18-20)', 'Young(18-20)', 'SeniorCitizen(60-70)', 'Young(18-20)', 'Adult(21-30)', 'Mid-age(31-59)', 'Young(18-20)', 'SeniorCitizen(60-70)', 'SeniorCitizen(60-70)', 'Mid-age(31-59)', 'Mid-age(31-59)', 'Mid-age(31-59)', 'Mid-age(31-59)', 'SeniorCitizen(60-70)', 'Young(18-20)', 'Adult(21-30)', 'Young(18-20)', 'Adult(21-30)', 'Young(18-20)', 'Young(18-20)', 'Adult(21-30)', 'Young(18-20)', 'Young(18-20)', 'Young(18-20)', 'Adult(21-30)', 'Mid-age(31-59)', 'SeniorCitizen(60-70)', 'Young(18-20)', 'Young(18-20)', 'Young(18-20)', 'Young(18-20)', 'SeniorCitizen(60-70)', 'SeniorCitizen(60-70)', 'Mid-age(31-59)', 'Young(18-20)', 'Mid-age(31-59)', 'SeniorCitizen(60-70)', 'SeniorCitizen(60-70)', 'Young(18-20)', 'Young(18-20)', 'Young(18-20)', 'Adult(21-30)', 'Young(18-20)', 'Adult(21-30)', 'Adult(21-30)', 'SeniorCitizen(60-70)', 'Mid-age(31-59)', 'SeniorCitizen(60-70)', 'Young(18-20)', 'Mid-age(31-59)', 'Mid-age(31-59)', 'Young(18-20)', 'Young(18-20)', 'Adult(21-30)', 'SeniorCitizen(60-70)', 'Young(18-20)', 'SeniorCitizen(60-70)', 'Mid-age(31-59)', 'Young(18-20)', 'Adult(21-30)', 'Young(18-20)', 'Young(18-20)', 'Young(18-20)', 'Young(18-20)', 'Adult(21-30)', 'Mid-age(31-59)', 'Young(18-20)', 'Mid-age(31-59)', 'SeniorCitizen(60-70)', 'SeniorCitizen(60-70)', 'Mid-age(31-59)', 'SeniorCitizen(60-70)', 'Young(18-20)', 'Young(18-20)', 'Young(18-20)', 'Young(18-20)', 'Adult(21-30)', 'Mid-age(31-59)', 'Young(18-20)', 'Young(18-20)', 'Mid-age(31-59)', 'SeniorCitizen(60-70)', 'Young(18-20)', 'SeniorCitizen(60-70)', 'SeniorCitizen(60-70)', 'Young(18-20)', 'SeniorCitizen(60-70)', 'Young(18-20)', 'Young(18-20)', 'Young(18-20)', 'Young(18-20)', 'Young(18-20)', 'Adult(21-30)', 'Young(18-20)', 'SeniorCitizen(60-70)', 'Mid-age(31-59)', 'Young(18-20)', 'Young(18-20)', 'Young(18-20)', 'SeniorCitizen(60-70)', 'Mid-age(31-59)', 'Young(18-20)', 'Mid-age(31-59)', 'Young(18-20)', 'Young(18-20)', 'Mid-age(31-59)', 'SeniorCitizen(60-70)', 'Young(18-20)', 'Young(18-20)', 'Young(18-20)', 'Mid-age(31-59)', 'Adult(21-30)', 'Young(18-20)', 'Mid-age(31-59)', 'Mid-age(31-59)', 'Young(18-20)', 'Young(18-20)', 'Young(18-20)', 'SeniorCitizen(60-70)', 'Adult(21-30)', 'Young(18-20)', 'Young(18-20)', 'SeniorCitizen(60-70)', 'Mid-age(31-59)', 'Young(18-20)', 'Young(18-20)', 'SeniorCitizen(60-70)', 'Young(18-20)', 'Young(18-20)', 'Mid-age(31-59)', 'SeniorCitizen(60-70)', 'Young(18-20)', 'Mid-age(31-59)', 'Young(18-20)', 'Young(18-20)', 'Mid-age(31-59)', 'Mid-age(31-59)', 'Adult(21-30)', 'Young(18-20)', 'Young(18-20)', 'Young(18-20)', 'Mid-age(31-59)', 'Adult(21-30)', 'SeniorCitizen(60-70)', 'SeniorCitizen(60-70)', 'Young(18-20)', 'SeniorCitizen(60-70)', 'SeniorCitizen(60-70)', 'Young(18-20)', 'Mid-age(31-59)', 'SeniorCitizen(60-70)', 'Mid-age(31-59)', 'Mid-age(31-59)', 'SeniorCitizen(60-70)', 'Adult(21-30)', 'Adult(21-30)', 'Young(18-20)', 'Mid-age(31-59)', 'Young(18-20)', 'Adult(21-30)', 'Adult(21-30)', 'SeniorCitizen(60-70)', 'Young(18-20)', 'Mid-age(31-59)', 'Mid-age(31-59)', 'Young(18-20)', 'Mid-age(31-59)', 'Young(18-20)', 'Young(18-20)', 'Young(18-20)', 'Young(18-20)', 'SeniorCitizen(60-70)', 'Mid-age(31-59)', 'Young(18-20)', 'Young(18-20)', 'Adult(21-30)', 'Young(18-20)', 'Young(18-20)', 'Young(18-20)', 'Mid-age(31-59)', 'Young(18-20)', 'Mid-age(31-59)', 'SeniorCitizen(60-70)', 'Adult(21-30)', 'Young(18-20)', 'Young(18-20)', 'Young(18-20)', 'Adult(21-30)', 'Adult(21-30)', 'Adult(21-30)', 'SeniorCitizen(60-70)', 'Young(18-20)', 'Young(18-20)', 'Young(18-20)', 'Young(18-20)', 'Young(18-20)', 'Mid-age(31-59)', 'Mid-age(31-59)', 'Young(18-20)', 'SeniorCitizen(60-70)', 'Mid-age(31-59)', 'Young(18-20)', 'SeniorCitizen(60-70)', 'Mid-age(31-59)', 'Young(18-20)', 'Mid-age(31-59)', 'SeniorCitizen(60-70)', 'SeniorCitizen(60-70)', 'Young(18-20)', 'SeniorCitizen(60-70)', 'Young(18-20)', 'Young(18-20)', 'Young(18-20)', 'Adult(21-30)', 'Mid-age(31-59)', 'Mid-age(31-59)', 'Young(18-20)', 'Adult(21-30)', 'Mid-age(31-59)', 'Mid-age(31-59)', 'Mid-age(31-59)', 'Young(18-20)', 'Mid-age(31-59)', 'Mid-age(31-59)', 'Mid-age(31-59)', 'Young(18-20)', 'Adult(21-30)', 'Young(18-20)', 'Adult(21-30)', 'Young(18-20)', 'Adult(21-30)', 'Young(18-20)', 'Young(18-20)', 'SeniorCitizen(60-70)', 'Adult(21-30)', 'Adult(21-30)', 'Young(18-20)', 'Young(18-20)', 'Young(18-20)', 'Mid-age(31-59)', 'Mid-age(31-59)', 'Young(18-20)', 'Young(18-20)', 'Young(18-20)', 'Mid-age(31-59)', 'Young(18-20)', 'SeniorCitizen(60-70)', 'Young(18-20)', 'Mid-age(31-59)', 'Young(18-20)', 'SeniorCitizen(60-70)', 'Mid-age(31-59)', 'Adult(21-30)', 'SeniorCitizen(60-70)', 'Young(18-20)', 'Mid-age(31-59)', 'SeniorCitizen(60-70)', 'Mid-age(31-59)', 'Mid-age(31-59)', 'Mid-age(31-59)', 'SeniorCitizen(60-70)', 'Young(18-20)', 'Young(18-20)', 'SeniorCitizen(60-70)', 'Adult(21-30)', 'Young(18-20)', 'Adult(21-30)', 'Young(18-20)', 'Young(18-20)', 'Young(18-20)', 'Mid-age(31-59)', 'Young(18-20)', 'Young(18-20)', 'Young(18-20)', 'Adult(21-30)', 'Mid-age(31-59)', 'Adult(21-30)', 'Young(18-20)', 'SeniorCitizen(60-70)', 'Adult(21-30)', 'SeniorCitizen(60-70)', 'SeniorCitizen(60-70)', 'Young(18-20)', 'Young(18-20)', 'Young(18-20)', 'SeniorCitizen(60-70)', 'Young(18-20)', 'Young(18-20)', 'Young(18-20)', 'Mid-age(31-59)', 'SeniorCitizen(60-70)', 'Mid-age(31-59)', 'Adult(21-30)', 'SeniorCitizen(60-70)', 'Young(18-20)', 'Young(18-20)', 'Young(18-20)', 'Young(18-20)', 'Young(18-20)', 'Young(18-20)', 'SeniorCitizen(60-70)', 'Young(18-20)', 'SeniorCitizen(60-70)', 'Young(18-20)', 'Adult(21-30)', 'Mid-age(31-59)', 'Young(18-20)', 'Adult(21-30)', 'SeniorCitizen(60-70)', 'Young(18-20)', 'Young(18-20)', 'Young(18-20)', 'Mid-age(31-59)', 'Young(18-20)', 'Young(18-20)', 'Young(18-20)', 'SeniorCitizen(60-70)', 'Adult(21-30)', 'Adult(21-30)', 'Young(18-20)', 'Adult(21-30)', 'Young(18-20)', 'Young(18-20)', 'Adult(21-30)', 'Young(18-20)', 'Mid-age(31-59)', 'Young(18-20)', 'Young(18-20)', 'Young(18-20)', 'Young(18-20)', 'Adult(21-30)', 'Mid-age(31-59)', 'Mid-age(31-59)', 'Young(18-20)', 'Mid-age(31-59)', 'Young(18-20)', 'Mid-age(31-59)', 'Mid-age(31-59)', 'Adult(21-30)', 'Young(18-20)', 'Mid-age(31-59)', 'Young(18-20)', 'Young(18-20)', 'Mid-age(31-59)', 'Young(18-20)', 'Mid-age(31-59)', 'Adult(21-30)', 'Adult(21-30)', 'Young(18-20)', 'Adult(21-30)', 'Adult(21-30)', 'Mid-age(31-59)', 'Young(18-20)', 'Mid-age(31-59)', 'Mid-age(31-59)', 'Young(18-20)', 'SeniorCitizen(60-70)', 'Young(18-20)', 'Young(18-20)', 'SeniorCitizen(60-70)', 'Mid-age(31-59)', 'Young(18-20)', 'Young(18-20)', 'Adult(21-30)', 'Young(18-20)', 'Young(18-20)', 'SeniorCitizen(60-70)', 'Mid-age(31-59)', 'Mid-age(31-59)', 'Young(18-20)', 'Young(18-20)', 'Adult(21-30)', 'Young(18-20)', 'Young(18-20)', 'Young(18-20)', 'SeniorCitizen(60-70)', 'Young(18-20)', 'Mid-age(31-59)', 'SeniorCitizen(60-70)', 'Young(18-20)', 'SeniorCitizen(60-70)', 'Young(18-20)', 'Adult(21-30)', 'Adult(21-30)', 'SeniorCitizen(60-70)', 'Mid-age(31-59)', 'SeniorCitizen(60-70)', 'SeniorCitizen(60-70)', 'Adult(21-30)', 'Adult(21-30)', 'Mid-age(31-59)', 'Mid-age(31-59)', 'Young(18-20)', 'Mid-age(31-59)', 'SeniorCitizen(60-70)', 'Mid-age(31-59)', 'Adult(21-30)', 'SeniorCitizen(60-70)', 'Mid-age(31-59)', 'Mid-age(31-59)', 'Adult(21-30)', 'SeniorCitizen(60-70)', 'Young(18-20)', 'Young(18-20)', 'Adult(21-30)', 'Mid-age(31-59)', 'SeniorCitizen(60-70)', 'Young(18-20)', 'Mid-age(31-59)', 'Young(18-20)', 'Young(18-20)', 'SeniorCitizen(60-70)', 'Adult(21-30)', 'Young(18-20)', 'Mid-age(31-59)', 'Young(18-20)', 'Mid-age(31-59)', 'SeniorCitizen(60-70)', 'Young(18-20)', 'Mid-age(31-59)', 'Adult(21-30)', 'Adult(21-30)', 'Mid-age(31-59)', 'Mid-age(31-59)', 'Mid-age(31-59)', 'SeniorCitizen(60-70)', 'Young(18-20)', 'Young(18-20)', 'Young(18-20)', 'SeniorCitizen(60-70)', 'Young(18-20)', 'Adult(21-30)', 'Mid-age(31-59)', 'Young(18-20)', 'Adult(21-30)', 'Mid-age(31-59)', 'Mid-age(31-59)', 'Young(18-20)', 'Young(18-20)', 'Young(18-20)', 'Young(18-20)', 'Mid-age(31-59)', 'Mid-age(31-59)', 'Adult(21-30)', 'Adult(21-30)', 'Mid-age(31-59)', 'SeniorCitizen(60-70)', 'Mid-age(31-59)', 'Adult(21-30)', 'Adult(21-30)', 'Adult(21-30)', 'Adult(21-30)', 'Young(18-20)', 'Young(18-20)', 'Young(18-20)', 'SeniorCitizen(60-70)', 'Young(18-20)', 'Adult(21-30)', 'Young(18-20)', 'Young(18-20)', 'Adult(21-30)', 'Mid-age(31-59)', 'Young(18-20)', 'Young(18-20)', 'Mid-age(31-59)', 'Adult(21-30)', 'Adult(21-30)', 'Mid-age(31-59)', 'Young(18-20)', 'Adult(21-30)', 'Adult(21-30)', 'Adult(21-30)', 'Mid-age(31-59)', 'Mid-age(31-59)', 'Mid-age(31-59)', 'Young(18-20)', 'Young(18-20)', 'Young(18-20)', 'Adult(21-30)', 'Young(18-20)', 'Young(18-20)', 'SeniorCitizen(60-70)', 'Young(18-20)', 'Young(18-20)', 'Adult(21-30)', 'Mid-age(31-59)', 'Adult(21-30)', 'Adult(21-30)', 'SeniorCitizen(60-70)', 'Young(18-20)', 'Young(18-20)', 'Young(18-20)', 'SeniorCitizen(60-70)', 'Young(18-20)', 'Young(18-20)', 'Mid-age(31-59)', 'Mid-age(31-59)', 'Young(18-20)', 'Mid-age(31-59)', 'Mid-age(31-59)', 'Young(18-20)', 'Mid-age(31-59)', 'Young(18-20)', 'Mid-age(31-59)', 'Young(18-20)', 'Adult(21-30)', 'Young(18-20)', 'Young(18-20)', 'Mid-age(31-59)', 'Mid-age(31-59)', 'SeniorCitizen(60-70)', 'Mid-age(31-59)', 'Adult(21-30)', 'Mid-age(31-59)', 'Young(18-20)', 'Mid-age(31-59)', 'Adult(21-30)', 'Young(18-20)', 'Young(18-20)', 'Young(18-20)', 'Mid-age(31-59)', 'Young(18-20)', 'SeniorCitizen(60-70)', 'Young(18-20)', 'Young(18-20)', 'Young(18-20)', 'Young(18-20)', 'Young(18-20)', 'Young(18-20)', 'Adult(21-30)', 'Mid-age(31-59)', 'SeniorCitizen(60-70)', 'SeniorCitizen(60-70)', 'Adult(21-30)', 'Mid-age(31-59)', 'Young(18-20)', 'Young(18-20)', 'Mid-age(31-59)', 'SeniorCitizen(60-70)', 'Mid-age(31-59)', 'Mid-age(31-59)', 'Adult(21-30)', 'SeniorCitizen(60-70)', 'Mid-age(31-59)', 'Adult(21-30)', 'Young(18-20)', 'Adult(21-30)', 'SeniorCitizen(60-70)', 'SeniorCitizen(60-70)', 'Young(18-20)', 'Mid-age(31-59)', 'Young(18-20)', 'Adult(21-30)', 'Young(18-20)', 'Adult(21-30)', 'Young(18-20)', 'SeniorCitizen(60-70)', 'Young(18-20)', 'Young(18-20)', 'Young(18-20)', 'SeniorCitizen(60-70)', 'Mid-age(31-59)', 'SeniorCitizen(60-70)', 'Mid-age(31-59)', 'Adult(21-30)', 'Young(18-20)', 'Young(18-20)', 'Young(18-20)', 'Young(18-20)', 'Young(18-20)', 'SeniorCitizen(60-70)', 'Mid-age(31-59)', 'Young(18-20)', 'SeniorCitizen(60-70)', 'Young(18-20)', 'Mid-age(31-59)', 'Adult(21-30)', 'Adult(21-30)', 'Adult(21-30)', 'Young(18-20)', 'Young(18-20)', 'Young(18-20)', 'Adult(21-30)', 'Adult(21-30)', 'Young(18-20)', 'Young(18-20)', 'Mid-age(31-59)', 'Mid-age(31-59)', 'Young(18-20)', 'Young(18-20)', 'Young(18-20)', 'Young(18-20)', 'Adult(21-30)', 'Mid-age(31-59)', 'Young(18-20)', 'Mid-age(31-59)', 'SeniorCitizen(60-70)', 'Young(18-20)', 'Mid-age(31-59)', 'Young(18-20)', 'Young(18-20)', 'Young(18-20)', 'Mid-age(31-59)', 'SeniorCitizen(60-70)', 'Mid-age(31-59)', 'SeniorCitizen(60-70)', 'SeniorCitizen(60-70)', 'Young(18-20)', 'Young(18-20)', 'Young(18-20)', 'Mid-age(31-59)', 'SeniorCitizen(60-70)', 'Young(18-20)', 'SeniorCitizen(60-70)', 'Young(18-20)', 'Mid-age(31-59)', 'Mid-age(31-59)', 'Young(18-20)', 'Mid-age(31-59)', 'SeniorCitizen(60-70)', 'SeniorCitizen(60-70)', 'Young(18-20)', 'Young(18-20)', 'Adult(21-30)', 'SeniorCitizen(60-70)', 'Young(18-20)', 'SeniorCitizen(60-70)', 'Adult(21-30)', 'Young(18-20)', 'SeniorCitizen(60-70)', 'Young(18-20)', 'Adult(21-30)', 'Mid-age(31-59)', 'Mid-age(31-59)', 'SeniorCitizen(60-70)', 'Young(18-20)', 'Young(18-20)', 'Adult(21-30)', 'Adult(21-30)', 'Young(18-20)', 'Young(18-20)', 'Adult(21-30)', 'Young(18-20)', 'Young(18-20)', 'Young(18-20)', 'Young(18-20)', 'Mid-age(31-59)', 'Young(18-20)', 'Mid-age(31-59)', 'Young(18-20)', 'Adult(21-30)', 'Mid-age(31-59)', 'Mid-age(31-59)', 'Young(18-20)', 'Young(18-20)', 'Mid-age(31-59)', 'SeniorCitizen(60-70)', 'Mid-age(31-59)', 'Mid-age(31-59)', 'Young(18-20)', 'Mid-age(31-59)', 'Mid-age(31-59)', 'Young(18-20)', 'Young(18-20)', 'Adult(21-30)', 'Adult(21-30)', 'Young(18-20)', 'Young(18-20)', 'Adult(21-30)', 'Mid-age(31-59)', 'Young(18-20)', 'SeniorCitizen(60-70)', 'Young(18-20)', 'Mid-age(31-59)', 'Mid-age(31-59)', 'Young(18-20)', 'Adult(21-30)', 'Young(18-20)', 'Young(18-20)', 'Young(18-20)', 'Young(18-20)', 'Young(18-20)', 'Young(18-20)', 'Mid-age(31-59)', 'SeniorCitizen(60-70)', 'SeniorCitizen(60-70)', 'Young(18-20)', 'Mid-age(31-59)', 'Adult(21-30)', 'SeniorCitizen(60-70)', 'Mid-age(31-59)', 'Mid-age(31-59)', 'Young(18-20)', 'SeniorCitizen(60-70)', 'Mid-age(31-59)', 'Young(18-20)', 'Young(18-20)', 'SeniorCitizen(60-70)', 'Mid-age(31-59)', 'Young(18-20)', 'SeniorCitizen(60-70)', 'SeniorCitizen(60-70)', 'Young(18-20)', 'Mid-age(31-59)', 'Mid-age(31-59)', 'SeniorCitizen(60-70)', 'Adult(21-30)', 'Mid-age(31-59)', 'Mid-age(31-59)', 'SeniorCitizen(60-70)', 'SeniorCitizen(60-70)', 'Mid-age(31-59)', 'Young(18-20)', 'Mid-age(31-59)', 'Mid-age(31-59)', 'Young(18-20)', 'SeniorCitizen(60-70)', 'Adult(21-30)', 'Adult(21-30)', 'Adult(21-30)', 'Mid-age(31-59)', 'SeniorCitizen(60-70)', 'Adult(21-30)', 'Young(18-20)', 'Young(18-20)', 'Mid-age(31-59)', 'Young(18-20)', 'SeniorCitizen(60-70)', 'SeniorCitizen(60-70)', 'Young(18-20)', 'Adult(21-30)', 'Mid-age(31-59)', 'Adult(21-30)', 'Mid-age(31-59)', 'Young(18-20)', 'Adult(21-30)', 'Adult(21-30)', 'Mid-age(31-59)', 'Young(18-20)', 'SeniorCitizen(60-70)', 'Young(18-20)', 'Mid-age(31-59)', 'Young(18-20)', 'Adult(21-30)', 'Young(18-20)', 'Adult(21-30)', 'Adult(21-30)', 'Young(18-20)', 'Young(18-20)', 'SeniorCitizen(60-70)', 'Adult(21-30)', 'SeniorCitizen(60-70)', 'SeniorCitizen(60-70)', 'Young(18-20)', 'Young(18-20)', 'Mid-age(31-59)', 'Young(18-20)', 'Young(18-20)', 'Young(18-20)', 'Mid-age(31-59)', 'SeniorCitizen(60-70)', 'Mid-age(31-59)', 'Adult(21-30)', 'Adult(21-30)', 'Adult(21-30)', 'Young(18-20)', 'SeniorCitizen(60-70)', 'Mid-age(31-59)', 'Mid-age(31-59)', 'SeniorCitizen(60-70)', 'Young(18-20)', 'Young(18-20)', 'SeniorCitizen(60-70)', 'Adult(21-30)', 'Adult(21-30)', 'Mid-age(31-59)', 'Mid-age(31-59)', 'Young(18-20)', 'Young(18-20)', 'Mid-age(31-59)', 'Mid-age(31-59)', 'Adult(21-30)', 'SeniorCitizen(60-70)', 'Young(18-20)', 'Adult(21-30)', 'Young(18-20)', 'Young(18-20)', 'Young(18-20)', 'Young(18-20)', 'Young(18-20)', 'Young(18-20)', 'SeniorCitizen(60-70)', 'Mid-age(31-59)', 'Mid-age(31-59)', 'Adult(21-30)', 'Mid-age(31-59)', 'Young(18-20)', 'Young(18-20)', 'Mid-age(31-59)', 'SeniorCitizen(60-70)', 'SeniorCitizen(60-70)', 'Mid-age(31-59)', 'Adult(21-30)', 'Adult(21-30)', 'Mid-age(31-59)', 'Young(18-20)', 'SeniorCitizen(60-70)', 'Mid-age(31-59)', 'Mid-age(31-59)', 'Young(18-20)', 'Mid-age(31-59)', 'Mid-age(31-59)', 'Mid-age(31-59)', 'Mid-age(31-59)', 'Adult(21-30)', 'Young(18-20)', 'Mid-age(31-59)', 'Young(18-20)', 'Mid-age(31-59)', 'Mid-age(31-59)', 'Young(18-20)', 'Young(18-20)', 'Mid-age(31-59)', 'Adult(21-30)', 'Young(18-20)', 'Young(18-20)', 'SeniorCitizen(60-70)', 'Young(18-20)', 'SeniorCitizen(60-70)', 'Young(18-20)', 'SeniorCitizen(60-70)', 'Young(18-20)', 'Adult(21-30)', 'Young(18-20)', 'Adult(21-30)', 'Young(18-20)', 'Mid-age(31-59)', 'Young(18-20)', 'Adult(21-30)', 'Young(18-20)', 'Young(18-20)', 'SeniorCitizen(60-70)', 'Young(18-20)', 'Young(18-20)', 'Mid-age(31-59)', 'Adult(21-30)', 'SeniorCitizen(60-70)', 'Adult(21-30)', 'Young(18-20)', 'Young(18-20)', 'Adult(21-30)', 'Young(18-20)', 'SeniorCitizen(60-70)', 'SeniorCitizen(60-70)', 'Young(18-20)', 'Young(18-20)', 'Mid-age(31-59)', 'Young(18-20)', 'Adult(21-30)', 'Adult(21-30)', 'Young(18-20)', 'Mid-age(31-59)', 'Young(18-20)', 'Young(18-20)', 'Adult(21-30)', 'Adult(21-30)', 'Mid-age(31-59)', 'Young(18-20)', 'Mid-age(31-59)', 'Adult(21-30)', 'SeniorCitizen(60-70)', 'Young(18-20)', 'Young(18-20)', 'Adult(21-30)', 'SeniorCitizen(60-70)', 'Young(18-20)', 'Young(18-20)', 'SeniorCitizen(60-70)', 'Mid-age(31-59)', 'Young(18-20)', 'Young(18-20)', 'Mid-age(31-59)', 'Young(18-20)', 'Mid-age(31-59)', 'Young(18-20)', 'Mid-age(31-59)', 'Adult(21-30)', 'Mid-age(31-59)', 'Adult(21-30)', 'Young(18-20)', 'Adult(21-30)', 'SeniorCitizen(60-70)', 'SeniorCitizen(60-70)', 'Young(18-20)', 'Mid-age(31-59)', 'Mid-age(31-59)', 'SeniorCitizen(60-70)', 'SeniorCitizen(60-70)', 'Young(18-20)', 'Mid-age(31-59)', 'Young(18-20)', 'Young(18-20)', 'SeniorCitizen(60-70)', 'SeniorCitizen(60-70)', 'Young(18-20)', 'Young(18-20)', 'Mid-age(31-59)', 'Young(18-20)', 'SeniorCitizen(60-70)', 'Adult(21-30)', 'Adult(21-30)', 'Young(18-20)', 'Adult(21-30)', 'Mid-age(31-59)', 'Mid-age(31-59)', 'Mid-age(31-59)', 'Adult(21-30)', 'Adult(21-30)', 'Young(18-20)', 'Young(18-20)', 'Young(18-20)', 'Young(18-20)', 'Young(18-20)', 'Mid-age(31-59)', 'Young(18-20)', 'Mid-age(31-59)', 'Mid-age(31-59)', 'Mid-age(31-59)', 'Young(18-20)', 'Young(18-20)', 'SeniorCitizen(60-70)', 'Mid-age(31-59)', 'SeniorCitizen(60-70)', 'Adult(21-30)', 'Young(18-20)', 'Mid-age(31-59)', 'Adult(21-30)', 'Young(18-20)', 'SeniorCitizen(60-70)', 'Mid-age(31-59)', 'Mid-age(31-59)', 'Adult(21-30)', 'SeniorCitizen(60-70)', 'Young(18-20)', 'Young(18-20)', 'Mid-age(31-59)', 'Young(18-20)', 'Adult(21-30)', 'Mid-age(31-59)', 'Young(18-20)', 'Young(18-20)', 'Young(18-20)', 'SeniorCitizen(60-70)', 'SeniorCitizen(60-70)', 'Young(18-20)', 'SeniorCitizen(60-70)', 'Adult(21-30)', 'Young(18-20)', 'Young(18-20)', 'SeniorCitizen(60-70)', 'Young(18-20)', 'Mid-age(31-59)', 'Adult(21-30)', 'Young(18-20)', 'Mid-age(31-59)', 'Adult(21-30)', 'Young(18-20)', 'Young(18-20)', 'Mid-age(31-59)', 'Young(18-20)', 'Young(18-20)', 'SeniorCitizen(60-70)', 'Adult(21-30)', 'Young(18-20)', 'Young(18-20)', 'SeniorCitizen(60-70)', 'Mid-age(31-59)', 'SeniorCitizen(60-70)', 'Adult(21-30)', 'Adult(21-30)', 'Young(18-20)', 'Mid-age(31-59)', 'Young(18-20)', 'SeniorCitizen(60-70)', 'Adult(21-30)', 'SeniorCitizen(60-70)', 'SeniorCitizen(60-70)', 'Mid-age(31-59)', 'Young(18-20)', 'Young(18-20)', 'Mid-age(31-59)', 'Young(18-20)', 'Mid-age(31-59)', 'Mid-age(31-59)', 'Mid-age(31-59)', 'Adult(21-30)', 'Adult(21-30)', 'Adult(21-30)', 'Young(18-20)', 'Young(18-20)', 'Young(18-20)', 'Young(18-20)', 'Young(18-20)', 'Mid-age(31-59)', 'SeniorCitizen(60-70)', 'Young(18-20)', 'Mid-age(31-59)', 'Mid-age(31-59)', 'Young(18-20)', 'Young(18-20)', 'Young(18-20)', 'Mid-age(31-59)', 'SeniorCitizen(60-70)', 'SeniorCitizen(60-70)', 'Young(18-20)', 'Adult(21-30)', 'Young(18-20)', 'Young(18-20)', 'SeniorCitizen(60-70)', 'SeniorCitizen(60-70)', 'Young(18-20)', 'Mid-age(31-59)', 'Young(18-20)', 'Mid-age(31-59)', 'Young(18-20)', 'Young(18-20)', 'Young(18-20)', 'Young(18-20)', 'Young(18-20)', 'Young(18-20)', 'Mid-age(31-59)', 'Mid-age(31-59)', 'Mid-age(31-59)', 'Mid-age(31-59)', 'Young(18-20)', 'Young(18-20)', 'Young(18-20)', 'Young(18-20)', 'SeniorCitizen(60-70)', 'Young(18-20)', 'Young(18-20)', 'Adult(21-30)', 'Mid-age(31-59)', 'Mid-age(31-59)', 'Mid-age(31-59)', 'SeniorCitizen(60-70)', 'Mid-age(31-59)', 'Mid-age(31-59)', 'Mid-age(31-59)', 'Mid-age(31-59)', 'Mid-age(31-59)', 'Young(18-20)', 'Adult(21-30)', 'Young(18-20)', 'Young(18-20)', 'Young(18-20)', 'Young(18-20)', 'Adult(21-30)', 'Mid-age(31-59)', 'Young(18-20)', 'Young(18-20)', 'Young(18-20)', 'Young(18-20)', 'Young(18-20)', 'Young(18-20)', 'Young(18-20)', 'Mid-age(31-59)', 'Mid-age(31-59)', 'Young(18-20)', 'Young(18-20)', 'Mid-age(31-59)', 'Adult(21-30)', 'Adult(21-30)', 'Mid-age(31-59)', 'Young(18-20)', 'Young(18-20)', 'Mid-age(31-59)', 'Young(18-20)', 'Adult(21-30)', 'Young(18-20)', 'Mid-age(31-59)', 'Mid-age(31-59)', 'Young(18-20)', 'Young(18-20)', 'Young(18-20)', 'Young(18-20)', 'Young(18-20)', 'SeniorCitizen(60-70)', 'Young(18-20)', 'Young(18-20)', 'Young(18-20)', 'Adult(21-30)', 'Young(18-20)', 'Mid-age(31-59)', 'Mid-age(31-59)', 'Adult(21-30)', 'Young(18-20)', 'SeniorCitizen(60-70)', 'SeniorCitizen(60-70)', 'Young(18-20)', 'Mid-age(31-59)', 'Young(18-20)', 'Adult(21-30)', 'Young(18-20)', 'Adult(21-30)', 'Mid-age(31-59)', 'Mid-age(31-59)', 'Mid-age(31-59)', 'Mid-age(31-59)', 'SeniorCitizen(60-70)', 'Mid-age(31-59)', 'SeniorCitizen(60-70)', 'Mid-age(31-59)', 'Young(18-20)', 'Mid-age(31-59)', 'Young(18-20)', 'SeniorCitizen(60-70)', 'Mid-age(31-59)', 'Mid-age(31-59)', 'Adult(21-30)', 'Young(18-20)', 'SeniorCitizen(60-70)', 'Young(18-20)', 'Young(18-20)', 'Young(18-20)', 'Young(18-20)', 'Mid-age(31-59)', 'Young(18-20)', 'Young(18-20)', 'Young(18-20)', 'Mid-age(31-59)', 'Young(18-20)', 'Mid-age(31-59)', 'Adult(21-30)', 'Young(18-20)', 'Mid-age(31-59)', 'Mid-age(31-59)', 'Young(18-20)', 'Adult(21-30)', 'Young(18-20)', 'Adult(21-30)', 'Adult(21-30)', 'Mid-age(31-59)', 'Young(18-20)', 'SeniorCitizen(60-70)', 'Young(18-20)', 'Mid-age(31-59)', 'SeniorCitizen(60-70)', 'Adult(21-30)', 'Young(18-20)', 'Adult(21-30)', 'Young(18-20)', 'Mid-age(31-59)', 'Adult(21-30)', 'Young(18-20)', 'Mid-age(31-59)', 'Young(18-20)', 'SeniorCitizen(60-70)', 'SeniorCitizen(60-70)', 'Mid-age(31-59)', 'Young(18-20)', 'Adult(21-30)', 'Young(18-20)', 'SeniorCitizen(60-70)', 'SeniorCitizen(60-70)', 'Young(18-20)', 'Young(18-20)', 'Young(18-20)', 'Young(18-20)', 'SeniorCitizen(60-70)', 'Adult(21-30)', 'Adult(21-30)', 'Mid-age(31-59)', 'Young(18-20)', 'Adult(21-30)', 'Young(18-20)', 'Young(18-20)', 'Young(18-20)', 'Adult(21-30)', 'Young(18-20)', 'Mid-age(31-59)', 'Mid-age(31-59)', 'Mid-age(31-59)', 'Young(18-20)', 'Mid-age(31-59)', 'Mid-age(31-59)', 'Young(18-20)', 'Mid-age(31-59)', 'SeniorCitizen(60-70)', 'Young(18-20)', 'Young(18-20)', 'Young(18-20)', 'Mid-age(31-59)', 'Young(18-20)', 'Young(18-20)', 'SeniorCitizen(60-70)', 'SeniorCitizen(60-70)', 'Young(18-20)', 'Young(18-20)', 'Mid-age(31-59)', 'Mid-age(31-59)', 'SeniorCitizen(60-70)', 'Mid-age(31-59)', 'Young(18-20)', 'Young(18-20)', 'Young(18-20)', 'SeniorCitizen(60-70)', 'Mid-age(31-59)', 'Young(18-20)', 'Young(18-20)', 'Young(18-20)', 'Mid-age(31-59)', 'Young(18-20)', 'Adult(21-30)', 'Young(18-20)', 'Young(18-20)', 'Young(18-20)', 'Young(18-20)', 'Young(18-20)', 'Young(18-20)', 'Adult(21-30)', 'Adult(21-30)', 'Adult(21-30)', 'Young(18-20)', 'SeniorCitizen(60-70)', 'Adult(21-30)', 'Young(18-20)', 'Mid-age(31-59)', 'Adult(21-30)', 'Young(18-20)', 'Young(18-20)', 'Young(18-20)', 'Mid-age(31-59)', 'Young(18-20)', 'Mid-age(31-59)', 'Young(18-20)', 'Young(18-20)', 'Young(18-20)', 'Mid-age(31-59)', 'Mid-age(31-59)', 'Mid-age(31-59)', 'Mid-age(31-59)', 'Young(18-20)', 'Young(18-20)', 'Young(18-20)', 'Adult(21-30)', 'Mid-age(31-59)', 'Young(18-20)', 'Adult(21-30)', 'Mid-age(31-59)', 'Young(18-20)', 'Young(18-20)', 'Mid-age(31-59)', 'Mid-age(31-59)', 'SeniorCitizen(60-70)', 'Young(18-20)', 'Young(18-20)', 'Young(18-20)', 'Mid-age(31-59)', 'Mid-age(31-59)', 'Young(18-20)', 'Mid-age(31-59)', 'Mid-age(31-59)', 'Young(18-20)', 'SeniorCitizen(60-70)', 'Young(18-20)', 'Young(18-20)', 'Young(18-20)', 'Young(18-20)', 'Young(18-20)', 'Young(18-20)', 'Young(18-20)', 'Young(18-20)', 'Young(18-20)', 'Adult(21-30)', 'Young(18-20)', 'Adult(21-30)', 'Young(18-20)', 'Adult(21-30)', 'Mid-age(31-59)', 'Young(18-20)', 'Mid-age(31-59)', 'Young(18-20)', 'Adult(21-30)', 'SeniorCitizen(60-70)', 'Mid-age(31-59)', 'Young(18-20)', 'SeniorCitizen(60-70)', 'SeniorCitizen(60-70)', 'SeniorCitizen(60-70)', 'Adult(21-30)', 'Young(18-20)', 'Young(18-20)', 'Young(18-20)', 'Young(18-20)', 'Young(18-20)', 'Young(18-20)', 'Mid-age(31-59)', 'SeniorCitizen(60-70)', 'Adult(21-30)', 'Young(18-20)', 'SeniorCitizen(60-70)', 'Mid-age(31-59)', 'Mid-age(31-59)', 'Young(18-20)', 'SeniorCitizen(60-70)', 'Mid-age(31-59)', 'Mid-age(31-59)', 'Adult(21-30)', 'Young(18-20)', 'Mid-age(31-59)', 'Adult(21-30)', 'SeniorCitizen(60-70)', 'SeniorCitizen(60-70)', 'Young(18-20)', 'Young(18-20)', 'Adult(21-30)', 'Mid-age(31-59)', 'Adult(21-30)', 'Mid-age(31-59)', 'Mid-age(31-59)', 'Young(18-20)', 'Young(18-20)', 'SeniorCitizen(60-70)', 'Mid-age(31-59)', 'Mid-age(31-59)', 'SeniorCitizen(60-70)', 'SeniorCitizen(60-70)', 'Adult(21-30)', 'SeniorCitizen(60-70)', 'Adult(21-30)', 'Young(18-20)', 'Adult(21-30)', 'Young(18-20)', 'Mid-age(31-59)', 'Young(18-20)', 'Adult(21-30)', 'SeniorCitizen(60-70)', 'Mid-age(31-59)', 'Mid-age(31-59)', 'SeniorCitizen(60-70)', 'Adult(21-30)', 'Mid-age(31-59)', 'Mid-age(31-59)', 'Young(18-20)', 'SeniorCitizen(60-70)', 'Young(18-20)', 'Mid-age(31-59)', 'Mid-age(31-59)', 'SeniorCitizen(60-70)', 'Adult(21-30)', 'Mid-age(31-59)', 'Young(18-20)', 'Mid-age(31-59)', 'Young(18-20)', 'Mid-age(31-59)', 'Mid-age(31-59)', 'SeniorCitizen(60-70)', 'Mid-age(31-59)', 'Young(18-20)', 'Mid-age(31-59)', 'SeniorCitizen(60-70)', 'Mid-age(31-59)', 'Mid-age(31-59)', 'SeniorCitizen(60-70)', 'Young(18-20)', 'Adult(21-30)', 'Mid-age(31-59)', 'Young(18-20)', 'Mid-age(31-59)', 'Young(18-20)', 'Young(18-20)', 'Young(18-20)', 'Mid-age(31-59)', 'SeniorCitizen(60-70)', 'SeniorCitizen(60-70)', 'Young(18-20)', 'Young(18-20)', 'Young(18-20)', 'Young(18-20)', 'Young(18-20)', 'Young(18-20)', 'Adult(21-30)', 'Young(18-20)', 'Young(18-20)', 'Young(18-20)', 'Young(18-20)', 'SeniorCitizen(60-70)', 'Adult(21-30)', 'Young(18-20)', 'Young(18-20)', 'SeniorCitizen(60-70)', 'SeniorCitizen(60-70)', 'Young(18-20)', 'Adult(21-30)', 'Mid-age(31-59)', 'Mid-age(31-59)', 'SeniorCitizen(60-70)', 'Young(18-20)', 'SeniorCitizen(60-70)', 'SeniorCitizen(60-70)', 'SeniorCitizen(60-70)', 'Young(18-20)', 'SeniorCitizen(60-70)', 'Young(18-20)', 'Young(18-20)', 'Adult(21-30)', 'SeniorCitizen(60-70)', 'SeniorCitizen(60-70)', 'Young(18-20)', 'Mid-age(31-59)', 'Adult(21-30)', 'Young(18-20)', 'Mid-age(31-59)', 'Adult(21-30)', 'Young(18-20)', 'Young(18-20)', 'SeniorCitizen(60-70)', 'Adult(21-30)', 'Mid-age(31-59)', 'Young(18-20)', 'Mid-age(31-59)', 'Adult(21-30)', 'Mid-age(31-59)', 'Young(18-20)', 'Adult(21-30)', 'Mid-age(31-59)', 'Young(18-20)', 'Mid-age(31-59)', 'Mid-age(31-59)', 'Young(18-20)', 'Young(18-20)', 'SeniorCitizen(60-70)', 'Young(18-20)', 'Mid-age(31-59)', 'Mid-age(31-59)', 'Mid-age(31-59)', 'Young(18-20)', 'Mid-age(31-59)', 'Mid-age(31-59)', 'Mid-age(31-59)', 'Mid-age(31-59)', 'SeniorCitizen(60-70)', 'Young(18-20)', 'Young(18-20)', 'SeniorCitizen(60-70)', 'Mid-age(31-59)', 'Adult(21-30)', 'SeniorCitizen(60-70)', 'SeniorCitizen(60-70)', 'Young(18-20)', 'Mid-age(31-59)', 'Adult(21-30)', 'Adult(21-30)', 'Mid-age(31-59)', 'SeniorCitizen(60-70)', 'Young(18-20)', 'Adult(21-30)', 'SeniorCitizen(60-70)', 'Mid-age(31-59)', 'SeniorCitizen(60-70)', 'Mid-age(31-59)', 'Adult(21-30)', 'Young(18-20)', 'Adult(21-30)', 'SeniorCitizen(60-70)', 'Young(18-20)', 'Mid-age(31-59)', 'Mid-age(31-59)', 'Mid-age(31-59)', 'Mid-age(31-59)', 'Young(18-20)', 'Young(18-20)', 'Young(18-20)', 'Young(18-20)', 'Mid-age(31-59)', 'Mid-age(31-59)', 'Young(18-20)', 'Adult(21-30)', 'Adult(21-30)', 'Adult(21-30)', 'Mid-age(31-59)', 'Young(18-20)', 'Mid-age(31-59)', 'Young(18-20)', 'Adult(21-30)', 'SeniorCitizen(60-70)', 'SeniorCitizen(60-70)', 'Young(18-20)', 'Adult(21-30)', 'Young(18-20)', 'Adult(21-30)', 'Young(18-20)', 'Mid-age(31-59)', 'Mid-age(31-59)', 'Young(18-20)', 'SeniorCitizen(60-70)', 'Young(18-20)', 'Young(18-20)', 'Adult(21-30)', 'SeniorCitizen(60-70)', 'Mid-age(31-59)', 'Young(18-20)', 'Young(18-20)', 'Mid-age(31-59)', 'SeniorCitizen(60-70)', 'Young(18-20)', 'Mid-age(31-59)', 'Young(18-20)', 'Young(18-20)', 'Mid-age(31-59)', 'Mid-age(31-59)', 'Young(18-20)', 'Young(18-20)', 'Mid-age(31-59)', 'Young(18-20)', 'SeniorCitizen(60-70)', 'SeniorCitizen(60-70)', 'Young(18-20)', 'Mid-age(31-59)', 'Adult(21-30)', 'Young(18-20)', 'SeniorCitizen(60-70)', 'Young(18-20)', 'Adult(21-30)', 'Mid-age(31-59)', 'Mid-age(31-59)', 'Young(18-20)', 'Adult(21-30)', 'Mid-age(31-59)', 'Mid-age(31-59)', 'Adult(21-30)', 'Young(18-20)', 'Adult(21-30)', 'Mid-age(31-59)', 'Adult(21-30)', 'SeniorCitizen(60-70)', 'Young(18-20)', 'Young(18-20)', 'SeniorCitizen(60-70)', 'Young(18-20)', 'Mid-age(31-59)', 'Young(18-20)', 'SeniorCitizen(60-70)', 'Young(18-20)', 'Young(18-20)', 'Young(18-20)', 'Adult(21-30)', 'Young(18-20)', 'Young(18-20)', 'SeniorCitizen(60-70)', 'Young(18-20)', 'SeniorCitizen(60-70)', 'SeniorCitizen(60-70)', 'Young(18-20)', 'Mid-age(31-59)', 'Young(18-20)', 'SeniorCitizen(60-70)', 'Young(18-20)', 'Young(18-20)', 'Mid-age(31-59)', 'Mid-age(31-59)', 'SeniorCitizen(60-70)', 'SeniorCitizen(60-70)', 'Mid-age(31-59)', 'SeniorCitizen(60-70)', 'Mid-age(31-59)', 'Young(18-20)', 'Young(18-20)', 'SeniorCitizen(60-70)', 'Mid-age(31-59)', 'Mid-age(31-59)', 'Mid-age(31-59)', 'SeniorCitizen(60-70)', 'SeniorCitizen(60-70)', 'Young(18-20)', 'Young(18-20)', 'Mid-age(31-59)', 'SeniorCitizen(60-70)', 'SeniorCitizen(60-70)', 'Young(18-20)', 'Mid-age(31-59)', 'Young(18-20)', 'Young(18-20)', 'Adult(21-30)', 'Young(18-20)', 'Young(18-20)', 'Mid-age(31-59)', 'Mid-age(31-59)', 'Adult(21-30)', 'Young(18-20)', 'Adult(21-30)', 'Adult(21-30)', 'Adult(21-30)', 'Mid-age(31-59)', 'Young(18-20)', 'Young(18-20)', 'Adult(21-30)', 'Young(18-20)', 'Young(18-20)', 'Mid-age(31-59)', 'SeniorCitizen(60-70)', 'SeniorCitizen(60-70)', 'Adult(21-30)', 'SeniorCitizen(60-70)', 'Mid-age(31-59)', 'Young(18-20)', 'Mid-age(31-59)', 'Young(18-20)', 'Young(18-20)', 'Mid-age(31-59)', 'Young(18-20)', 'Adult(21-30)', 'Adult(21-30)', 'Adult(21-30)', 'Young(18-20)', 'Adult(21-30)', 'Young(18-20)', 'Adult(21-30)', 'Adult(21-30)', 'Young(18-20)', 'Mid-age(31-59)', 'Mid-age(31-59)', 'Young(18-20)', 'Mid-age(31-59)', 'Young(18-20)', 'Mid-age(31-59)', 'SeniorCitizen(60-70)', 'Adult(21-30)', 'Young(18-20)', 'Adult(21-30)', 'Young(18-20)', 'SeniorCitizen(60-70)', 'Adult(21-30)', 'Mid-age(31-59)', 'SeniorCitizen(60-70)', 'Young(18-20)', 'SeniorCitizen(60-70)', 'SeniorCitizen(60-70)', 'Young(18-20)', 'Adult(21-30)', 'Mid-age(31-59)', 'SeniorCitizen(60-70)', 'Mid-age(31-59)', 'Mid-age(31-59)', 'Young(18-20)', 'Mid-age(31-59)', 'Young(18-20)', 'Young(18-20)', 'Young(18-20)', 'SeniorCitizen(60-70)', 'Young(18-20)', 'Adult(21-30)', 'SeniorCitizen(60-70)', 'Mid-age(31-59)', 'Adult(21-30)', 'SeniorCitizen(60-70)', 'Young(18-20)', 'Young(18-20)', 'Mid-age(31-59)', 'Mid-age(31-59)', 'Young(18-20)', 'Mid-age(31-59)', 'Young(18-20)', 'Young(18-20)', 'Adult(21-30)', 'Mid-age(31-59)', 'Young(18-20)', 'Young(18-20)', 'SeniorCitizen(60-70)', 'Young(18-20)', 'Mid-age(31-59)', 'Young(18-20)', 'Adult(21-30)', 'SeniorCitizen(60-70)', 'Young(18-20)', 'Young(18-20)', 'Adult(21-30)', 'Young(18-20)', 'Young(18-20)', 'Adult(21-30)', 'Young(18-20)', 'Mid-age(31-59)', 'Mid-age(31-59)', 'SeniorCitizen(60-70)', 'Young(18-20)', 'Mid-age(31-59)', 'Mid-age(31-59)', 'Adult(21-30)', 'Mid-age(31-59)', 'Adult(21-30)', 'Adult(21-30)', 'Mid-age(31-59)', 'Adult(21-30)', 'Young(18-20)', 'SeniorCitizen(60-70)', 'Young(18-20)', 'Mid-age(31-59)', 'Young(18-20)', 'SeniorCitizen(60-70)', 'Young(18-20)', 'SeniorCitizen(60-70)', 'Young(18-20)', 'Young(18-20)', 'SeniorCitizen(60-70)', 'Adult(21-30)', 'Young(18-20)', 'Mid-age(31-59)', 'Young(18-20)', 'Young(18-20)', 'SeniorCitizen(60-70)', 'SeniorCitizen(60-70)', 'Mid-age(31-59)', 'Young(18-20)', 'Mid-age(31-59)', 'Adult(21-30)', 'Adult(21-30)', 'Mid-age(31-59)', 'Adult(21-30)', 'Young(18-20)', 'Young(18-20)', 'Young(18-20)', 'Mid-age(31-59)', 'Mid-age(31-59)', 'Young(18-20)', 'Young(18-20)', 'Young(18-20)', 'Young(18-20)', 'SeniorCitizen(60-70)', 'Mid-age(31-59)', 'Adult(21-30)', 'Young(18-20)', 'Adult(21-30)', 'Mid-age(31-59)', 'Young(18-20)', 'Mid-age(31-59)', 'Young(18-20)', 'Mid-age(31-59)', 'Young(18-20)', 'Mid-age(31-59)', 'SeniorCitizen(60-70)', 'Young(18-20)', 'Adult(21-30)', 'SeniorCitizen(60-70)', 'Young(18-20)', 'Mid-age(31-59)', 'Young(18-20)', 'Adult(21-30)', 'Young(18-20)', 'Young(18-20)', 'Young(18-20)', 'Adult(21-30)', 'SeniorCitizen(60-70)', 'Young(18-20)', 'Adult(21-30)', 'Adult(21-30)', 'Young(18-20)', 'SeniorCitizen(60-70)', 'Mid-age(31-59)', 'Young(18-20)', 'Young(18-20)', 'Young(18-20)', 'SeniorCitizen(60-70)', 'Adult(21-30)', 'Young(18-20)', 'Young(18-20)', 'Young(18-20)', 'Young(18-20)', 'Young(18-20)', 'Young(18-20)', 'Adult(21-30)', 'Young(18-20)', 'Young(18-20)', 'Young(18-20)', 'Mid-age(31-59)', 'Adult(21-30)', 'Young(18-20)', 'Young(18-20)', 'Young(18-20)', 'Mid-age(31-59)', 'Young(18-20)', 'Young(18-20)', 'Young(18-20)', 'Young(18-20)', 'Adult(21-30)', 'Mid-age(31-59)', 'SeniorCitizen(60-70)', 'Young(18-20)', 'Young(18-20)', 'Young(18-20)', 'Young(18-20)', 'Mid-age(31-59)', 'Young(18-20)', 'Young(18-20)', 'Young(18-20)', 'SeniorCitizen(60-70)', 'Mid-age(31-59)', 'Young(18-20)', 'Young(18-20)', 'Young(18-20)', 'Adult(21-30)', 'Mid-age(31-59)', 'Adult(21-30)', 'Young(18-20)', 'Young(18-20)', 'Young(18-20)', 'Adult(21-30)', 'SeniorCitizen(60-70)', 'Young(18-20)', 'Adult(21-30)', 'SeniorCitizen(60-70)', 'SeniorCitizen(60-70)', 'Young(18-20)', 'Young(18-20)', 'Young(18-20)', 'Mid-age(31-59)', 'Adult(21-30)', 'Young(18-20)', 'Adult(21-30)', 'Young(18-20)', 'SeniorCitizen(60-70)', 'Young(18-20)', 'Mid-age(31-59)', 'Young(18-20)', 'Young(18-20)', 'Mid-age(31-59)', 'Adult(21-30)', 'Adult(21-30)', 'Young(18-20)', 'SeniorCitizen(60-70)', 'SeniorCitizen(60-70)', 'Adult(21-30)', 'Mid-age(31-59)', 'Young(18-20)', 'Young(18-20)', 'Young(18-20)', 'Young(18-20)', 'Adult(21-30)', 'Mid-age(31-59)', 'Young(18-20)', 'SeniorCitizen(60-70)', 'Young(18-20)', 'SeniorCitizen(60-70)', 'Mid-age(31-59)', 'Young(18-20)', 'Mid-age(31-59)', 'Young(18-20)', 'Young(18-20)', 'Young(18-20)', 'Young(18-20)', 'Young(18-20)', 'Young(18-20)', 'Young(18-20)', 'Young(18-20)', 'Adult(21-30)', 'Young(18-20)', 'SeniorCitizen(60-70)', 'SeniorCitizen(60-70)', 'Young(18-20)', 'Mid-age(31-59)', 'Adult(21-30)', 'Young(18-20)', 'SeniorCitizen(60-70)', 'Young(18-20)', 'Adult(21-30)', 'Adult(21-30)', 'SeniorCitizen(60-70)', 'Mid-age(31-59)', 'Young(18-20)', 'Young(18-20)', 'Mid-age(31-59)', 'Young(18-20)', 'Mid-age(31-59)', 'Mid-age(31-59)', 'Young(18-20)', 'Young(18-20)', 'Adult(21-30)', 'Young(18-20)', 'Mid-age(31-59)', 'Young(18-20)', 'Young(18-20)', 'Young(18-20)', 'SeniorCitizen(60-70)', 'Young(18-20)', 'Mid-age(31-59)', 'Mid-age(31-59)', 'Young(18-20)', 'Adult(21-30)', 'Young(18-20)', 'Young(18-20)', 'Young(18-20)', 'Mid-age(31-59)', 'Mid-age(31-59)', 'Mid-age(31-59)', 'Adult(21-30)', 'Young(18-20)', 'SeniorCitizen(60-70)', 'SeniorCitizen(60-70)', 'Young(18-20)', 'Young(18-20)', 'Young(18-20)', 'Young(18-20)', 'SeniorCitizen(60-70)', 'Mid-age(31-59)', 'Adult(21-30)', 'Young(18-20)', 'Young(18-20)', 'Young(18-20)', 'Mid-age(31-59)', 'Young(18-20)', 'Young(18-20)', 'Young(18-20)', 'Young(18-20)', 'Young(18-20)', 'Young(18-20)', 'Young(18-20)', 'SeniorCitizen(60-70)', 'Adult(21-30)', 'Young(18-20)', 'Young(18-20)', 'Young(18-20)', 'Mid-age(31-59)', 'Mid-age(31-59)', 'SeniorCitizen(60-70)', 'Young(18-20)', 'Adult(21-30)', 'Adult(21-30)', 'Adult(21-30)', 'Young(18-20)', 'Mid-age(31-59)', 'SeniorCitizen(60-70)', 'SeniorCitizen(60-70)', 'Mid-age(31-59)', 'Adult(21-30)', 'Young(18-20)', 'Mid-age(31-59)', 'Young(18-20)', 'Adult(21-30)', 'Adult(21-30)', 'Mid-age(31-59)', 'Young(18-20)', 'Young(18-20)', 'SeniorCitizen(60-70)', 'Mid-age(31-59)', 'Adult(21-30)', 'Adult(21-30)', 'Young(18-20)', 'Adult(21-30)', 'Young(18-20)', 'Young(18-20)', 'SeniorCitizen(60-70)', 'Young(18-20)', 'SeniorCitizen(60-70)', 'Adult(21-30)', 'Young(18-20)', 'Mid-age(31-59)', 'SeniorCitizen(60-70)', 'Young(18-20)', 'Young(18-20)', 'Young(18-20)', 'Mid-age(31-59)', 'Mid-age(31-59)', 'Young(18-20)', 'Young(18-20)', 'Mid-age(31-59)', 'SeniorCitizen(60-70)', 'Young(18-20)', 'Adult(21-30)', 'Adult(21-30)', 'Mid-age(31-59)', 'Young(18-20)', 'SeniorCitizen(60-70)', 'Mid-age(31-59)', 'Adult(21-30)', 'Young(18-20)', 'Mid-age(31-59)', 'Mid-age(31-59)', 'Young(18-20)', 'Mid-age(31-59)', 'Adult(21-30)', 'SeniorCitizen(60-70)', 'SeniorCitizen(60-70)', 'Young(18-20)', 'Adult(21-30)', 'Young(18-20)', 'Young(18-20)', 'Mid-age(31-59)', 'Young(18-20)', 'Young(18-20)', 'Young(18-20)', 'Young(18-20)', 'Adult(21-30)', 'Adult(21-30)', 'Mid-age(31-59)', 'Young(18-20)', 'Adult(21-30)', 'Adult(21-30)', 'Young(18-20)', 'Mid-age(31-59)', 'Adult(21-30)', 'SeniorCitizen(60-70)', 'Young(18-20)', 'Adult(21-30)', 'Young(18-20)', 'Mid-age(31-59)', 'SeniorCitizen(60-70)', 'SeniorCitizen(60-70)', 'Young(18-20)', 'Young(18-20)', 'SeniorCitizen(60-70)', 'Mid-age(31-59)', 'SeniorCitizen(60-70)', 'Young(18-20)', 'Young(18-20)', 'Young(18-20)', 'Young(18-20)', 'Adult(21-30)', 'Young(18-20)', 'Young(18-20)', 'Young(18-20)', 'Young(18-20)', 'SeniorCitizen(60-70)', 'Mid-age(31-59)', 'SeniorCitizen(60-70)', 'Mid-age(31-59)', 'Young(18-20)', 'Adult(21-30)', 'Mid-age(31-59)', 'Adult(21-30)', 'Adult(21-30)', 'Young(18-20)', 'Mid-age(31-59)', 'Young(18-20)', 'SeniorCitizen(60-70)', 'Young(18-20)', 'Young(18-20)', 'Mid-age(31-59)', 'Young(18-20)', 'Mid-age(31-59)', 'SeniorCitizen(60-70)', 'Adult(21-30)', 'Adult(21-30)', 'Young(18-20)', 'Adult(21-30)', 'Young(18-20)', 'Young(18-20)', 'Mid-age(31-59)', 'Adult(21-30)', 'Young(18-20)', 'Mid-age(31-59)', 'Young(18-20)', 'Mid-age(31-59)', 'SeniorCitizen(60-70)', 'SeniorCitizen(60-70)', 'Mid-age(31-59)', 'Mid-age(31-59)', 'Adult(21-30)', 'Young(18-20)', 'Mid-age(31-59)', 'Adult(21-30)', 'SeniorCitizen(60-70)', 'SeniorCitizen(60-70)', 'Adult(21-30)', 'Young(18-20)', 'Young(18-20)', 'Young(18-20)', 'Young(18-20)', 'Mid-age(31-59)', 'Mid-age(31-59)', 'SeniorCitizen(60-70)', 'Young(18-20)', 'Young(18-20)', 'Adult(21-30)', 'Mid-age(31-59)', 'Mid-age(31-59)', 'Young(18-20)', 'Young(18-20)', 'Young(18-20)', 'Young(18-20)', 'Young(18-20)', 'Mid-age(31-59)', 'Young(18-20)', 'Young(18-20)', 'Mid-age(31-59)', 'Mid-age(31-59)', 'Adult(21-30)', 'Young(18-20)', 'SeniorCitizen(60-70)', 'Adult(21-30)', 'Young(18-20)', 'Mid-age(31-59)', 'SeniorCitizen(60-70)', 'Mid-age(31-59)', 'Mid-age(31-59)', 'Mid-age(31-59)', 'Young(18-20)', 'Young(18-20)', 'Young(18-20)', 'Young(18-20)', 'Young(18-20)', 'SeniorCitizen(60-70)', 'Young(18-20)', 'Young(18-20)', 'Mid-age(31-59)', 'Mid-age(31-59)', 'Adult(21-30)', 'Young(18-20)', 'Mid-age(31-59)', 'Mid-age(31-59)', 'Adult(21-30)', 'Young(18-20)', 'Young(18-20)', 'SeniorCitizen(60-70)', 'Young(18-20)', 'Mid-age(31-59)', 'Adult(21-30)', 'Young(18-20)', 'Young(18-20)', 'SeniorCitizen(60-70)', 'Young(18-20)', 'Mid-age(31-59)', 'Young(18-20)', 'Young(18-20)', 'Young(18-20)', 'Young(18-20)', 'Mid-age(31-59)', 'SeniorCitizen(60-70)', 'SeniorCitizen(60-70)', 'SeniorCitizen(60-70)', 'Young(18-20)', 'Young(18-20)', 'SeniorCitizen(60-70)', 'Mid-age(31-59)', 'Mid-age(31-59)', 'Young(18-20)', 'SeniorCitizen(60-70)', 'Mid-age(31-59)', 'Young(18-20)', 'Mid-age(31-59)', 'SeniorCitizen(60-70)', 'Mid-age(31-59)', 'Young(18-20)', 'Young(18-20)', 'Young(18-20)', 'Mid-age(31-59)', 'Young(18-20)', 'Mid-age(31-59)', 'Adult(21-30)', 'Young(18-20)', 'Young(18-20)', 'Mid-age(31-59)', 'Young(18-20)', 'SeniorCitizen(60-70)', 'Young(18-20)', 'Adult(21-30)', 'Young(18-20)', 'SeniorCitizen(60-70)', 'Young(18-20)', 'Young(18-20)', 'SeniorCitizen(60-70)', 'SeniorCitizen(60-70)', 'Adult(21-30)', 'Young(18-20)', 'Young(18-20)', 'SeniorCitizen(60-70)', 'Young(18-20)', 'Adult(21-30)', 'Adult(21-30)', 'Adult(21-30)', 'Young(18-20)', 'Young(18-20)', 'Young(18-20)', 'Mid-age(31-59)', 'Adult(21-30)', 'Mid-age(31-59)', 'Young(18-20)', 'Young(18-20)', 'Mid-age(31-59)', 'Mid-age(31-59)', 'Young(18-20)', 'Mid-age(31-59)', 'Adult(21-30)', 'SeniorCitizen(60-70)', 'SeniorCitizen(60-70)', 'Young(18-20)', 'Young(18-20)', 'Young(18-20)', 'Young(18-20)', 'Young(18-20)', 'Adult(21-30)', 'Young(18-20)', 'Young(18-20)', 'Mid-age(31-59)', 'Mid-age(31-59)', 'Young(18-20)', 'Mid-age(31-59)', 'Adult(21-30)', 'Young(18-20)', 'Adult(21-30)', 'SeniorCitizen(60-70)', 'Young(18-20)', 'Young(18-20)', 'Young(18-20)', 'Young(18-20)', 'Mid-age(31-59)', 'Young(18-20)', 'Young(18-20)', 'Young(18-20)', 'Young(18-20)', 'Mid-age(31-59)', 'Young(18-20)', 'Young(18-20)', 'Adult(21-30)', 'Young(18-20)', 'Young(18-20)', 'Young(18-20)', 'Young(18-20)', 'Adult(21-30)', 'Young(18-20)', 'SeniorCitizen(60-70)', 'Young(18-20)', 'Adult(21-30)', 'Young(18-20)', 'Young(18-20)', 'SeniorCitizen(60-70)', 'SeniorCitizen(60-70)', 'Young(18-20)', 'Young(18-20)', 'Adult(21-30)', 'Young(18-20)', 'Young(18-20)', 'Young(18-20)', 'Mid-age(31-59)', 'Adult(21-30)', 'Adult(21-30)', 'Young(18-20)', 'Young(18-20)', 'SeniorCitizen(60-70)', 'SeniorCitizen(60-70)', 'Young(18-20)', 'SeniorCitizen(60-70)', 'Adult(21-30)', 'SeniorCitizen(60-70)', 'SeniorCitizen(60-70)', 'Young(18-20)', 'Mid-age(31-59)', 'Young(18-20)', 'Mid-age(31-59)', 'Young(18-20)', 'Young(18-20)', 'Adult(21-30)', 'Adult(21-30)', 'SeniorCitizen(60-70)', 'Young(18-20)', 'Adult(21-30)', 'Mid-age(31-59)', 'SeniorCitizen(60-70)', 'Young(18-20)', 'Mid-age(31-59)', 'Young(18-20)', 'Young(18-20)', 'Young(18-20)', 'SeniorCitizen(60-70)', 'Young(18-20)', 'Mid-age(31-59)', 'Young(18-20)', 'Young(18-20)', 'Mid-age(31-59)', 'Adult(21-30)', 'Young(18-20)', 'Young(18-20)', 'Young(18-20)', 'Mid-age(31-59)', 'Young(18-20)', 'Young(18-20)', 'SeniorCitizen(60-70)', 'Young(18-20)', 'Young(18-20)', 'Young(18-20)', 'Adult(21-30)', 'SeniorCitizen(60-70)', 'Mid-age(31-59)', 'Young(18-20)', 'Young(18-20)', 'SeniorCitizen(60-70)', 'Young(18-20)', 'Mid-age(31-59)', 'Adult(21-30)', 'Adult(21-30)', 'Young(18-20)', 'Mid-age(31-59)', 'Young(18-20)', 'Young(18-20)', 'Young(18-20)', 'Adult(21-30)', 'Adult(21-30)', 'SeniorCitizen(60-70)', 'Adult(21-30)', 'Mid-age(31-59)', 'Adult(21-30)', 'Young(18-20)', 'Young(18-20)', 'Adult(21-30)', 'Adult(21-30)', 'SeniorCitizen(60-70)', 'Adult(21-30)', 'SeniorCitizen(60-70)', 'Mid-age(31-59)', 'Mid-age(31-59)', 'Young(18-20)', 'Mid-age(31-59)', 'Mid-age(31-59)', 'SeniorCitizen(60-70)', 'Young(18-20)', 'Mid-age(31-59)', 'SeniorCitizen(60-70)', 'Young(18-20)', 'Young(18-20)', 'Mid-age(31-59)', 'Adult(21-30)', 'Young(18-20)', 'Adult(21-30)', 'Young(18-20)', 'Young(18-20)', 'Adult(21-30)', 'Young(18-20)', 'Mid-age(31-59)', 'Young(18-20)', 'Young(18-20)', 'Adult(21-30)', 'Young(18-20)', 'Mid-age(31-59)', 'Young(18-20)', 'Adult(21-30)', 'Mid-age(31-59)', 'SeniorCitizen(60-70)', 'Adult(21-30)', 'Mid-age(31-59)', 'Young(18-20)', 'Young(18-20)', 'Mid-age(31-59)', 'Adult(21-30)', 'Young(18-20)', 'Young(18-20)', 'Adult(21-30)', 'Young(18-20)', 'Young(18-20)', 'Young(18-20)', 'Mid-age(31-59)', 'Mid-age(31-59)', 'Young(18-20)', 'Mid-age(31-59)', 'Young(18-20)', 'Mid-age(31-59)', 'SeniorCitizen(60-70)', 'Mid-age(31-59)', 'Young(18-20)', 'Young(18-20)', 'Mid-age(31-59)', 'Mid-age(31-59)', 'Young(18-20)', 'Adult(21-30)', 'Young(18-20)', 'Young(18-20)', 'Young(18-20)', 'Young(18-20)', 'Mid-age(31-59)', 'Young(18-20)', 'Young(18-20)', 'SeniorCitizen(60-70)', 'Mid-age(31-59)', 'Adult(21-30)', 'SeniorCitizen(60-70)', 'Mid-age(31-59)', 'Mid-age(31-59)', 'SeniorCitizen(60-70)', 'SeniorCitizen(60-70)', 'Mid-age(31-59)', 'Young(18-20)', 'Young(18-20)', 'Young(18-20)', 'Young(18-20)', 'Mid-age(31-59)', 'Mid-age(31-59)', 'Mid-age(31-59)', 'Young(18-20)', 'Mid-age(31-59)', 'Mid-age(31-59)', 'Mid-age(31-59)', 'Mid-age(31-59)', 'Young(18-20)', 'Young(18-20)', 'SeniorCitizen(60-70)', 'Young(18-20)', 'Young(18-20)', 'Young(18-20)', 'Adult(21-30)', 'Young(18-20)', 'Mid-age(31-59)', 'Mid-age(31-59)', 'Mid-age(31-59)', 'Adult(21-30)', 'Adult(21-30)', 'Adult(21-30)', 'Mid-age(31-59)', 'Young(18-20)', 'Adult(21-30)', 'SeniorCitizen(60-70)', 'Mid-age(31-59)', 'Mid-age(31-59)', 'Young(18-20)', 'Young(18-20)', 'Mid-age(31-59)', 'Young(18-20)', 'Young(18-20)', 'Mid-age(31-59)', 'Mid-age(31-59)', 'Young(18-20)', 'Adult(21-30)', 'Young(18-20)', 'Young(18-20)', 'Mid-age(31-59)', 'SeniorCitizen(60-70)', 'Young(18-20)', 'Young(18-20)', 'SeniorCitizen(60-70)', 'SeniorCitizen(60-70)', 'Mid-age(31-59)', 'Mid-age(31-59)', 'Adult(21-30)', 'Young(18-20)', 'SeniorCitizen(60-70)', 'Young(18-20)', 'Young(18-20)', 'Young(18-20)', 'Young(18-20)', 'SeniorCitizen(60-70)', 'Adult(21-30)', 'Adult(21-30)', 'Young(18-20)', 'Young(18-20)', 'SeniorCitizen(60-70)', 'Adult(21-30)', 'SeniorCitizen(60-70)', 'Young(18-20)', 'Young(18-20)', 'Young(18-20)', 'SeniorCitizen(60-70)', 'Adult(21-30)', 'Young(18-20)', 'Adult(21-30)', 'SeniorCitizen(60-70)', 'Mid-age(31-59)', 'Young(18-20)', 'Young(18-20)', 'Young(18-20)', 'Young(18-20)', 'Mid-age(31-59)', 'Young(18-20)', 'Young(18-20)', 'Mid-age(31-59)', 'SeniorCitizen(60-70)', 'SeniorCitizen(60-70)', 'Young(18-20)', 'Young(18-20)', 'Young(18-20)', 'Adult(21-30)', 'SeniorCitizen(60-70)', 'Mid-age(31-59)', 'SeniorCitizen(60-70)', 'Adult(21-30)', 'Young(18-20)', 'Young(18-20)', 'Young(18-20)', 'Adult(21-30)', 'Young(18-20)', 'Adult(21-30)', 'Mid-age(31-59)', 'Young(18-20)', 'Young(18-20)', 'Young(18-20)', 'Young(18-20)', 'SeniorCitizen(60-70)', 'Young(18-20)', 'Adult(21-30)', 'Adult(21-30)', 'Young(18-20)', 'Adult(21-30)', 'Young(18-20)', 'Young(18-20)', 'SeniorCitizen(60-70)', 'Mid-age(31-59)', 'Mid-age(31-59)', 'SeniorCitizen(60-70)', 'SeniorCitizen(60-70)', 'SeniorCitizen(60-70)', 'Mid-age(31-59)', 'Mid-age(31-59)', 'Adult(21-30)', 'Adult(21-30)', 'Young(18-20)', 'SeniorCitizen(60-70)', 'Young(18-20)', 'Mid-age(31-59)', 'Adult(21-30)', 'Mid-age(31-59)', 'Young(18-20)', 'Adult(21-30)', 'Young(18-20)', 'Adult(21-30)', 'Young(18-20)', 'Adult(21-30)', 'Young(18-20)', 'Mid-age(31-59)', 'Adult(21-30)', 'Young(18-20)', 'Young(18-20)', 'Mid-age(31-59)', 'Adult(21-30)', 'Mid-age(31-59)', 'Young(18-20)', 'Young(18-20)', 'Young(18-20)', 'Young(18-20)', 'Young(18-20)', 'Young(18-20)', 'Mid-age(31-59)', 'Young(18-20)', 'SeniorCitizen(60-70)', 'Young(18-20)', 'SeniorCitizen(60-70)', 'Young(18-20)', 'SeniorCitizen(60-70)', 'Mid-age(31-59)', 'Mid-age(31-59)', 'Young(18-20)', 'Mid-age(31-59)', 'Young(18-20)', 'Mid-age(31-59)', 'Adult(21-30)', 'Mid-age(31-59)', 'Young(18-20)', 'Adult(21-30)', 'Young(18-20)', 'Young(18-20)', 'Young(18-20)', 'Mid-age(31-59)', 'Young(18-20)', 'Adult(21-30)', 'SeniorCitizen(60-70)', 'Mid-age(31-59)', 'Young(18-20)', 'Adult(21-30)', 'Adult(21-30)', 'Young(18-20)', 'Young(18-20)', 'Young(18-20)', 'Young(18-20)', 'Young(18-20)', 'Adult(21-30)', 'SeniorCitizen(60-70)', 'Mid-age(31-59)', 'Mid-age(31-59)', 'Young(18-20)', 'SeniorCitizen(60-70)', 'Adult(21-30)', 'Adult(21-30)', 'Young(18-20)', 'Young(18-20)', 'Mid-age(31-59)', 'Mid-age(31-59)', 'SeniorCitizen(60-70)', 'SeniorCitizen(60-70)', 'Young(18-20)', 'Adult(21-30)', 'SeniorCitizen(60-70)', 'Young(18-20)', 'Young(18-20)', 'Young(18-20)', 'Young(18-20)', 'Mid-age(31-59)', 'Adult(21-30)', 'Mid-age(31-59)', 'Young(18-20)', 'Young(18-20)', 'Adult(21-30)', 'Young(18-20)', 'Mid-age(31-59)', 'SeniorCitizen(60-70)', 'Mid-age(31-59)', 'SeniorCitizen(60-70)', 'Mid-age(31-59)', 'Young(18-20)', 'SeniorCitizen(60-70)', 'Adult(21-30)', 'SeniorCitizen(60-70)', 'Mid-age(31-59)', 'SeniorCitizen(60-70)', 'Young(18-20)', 'Young(18-20)', 'Young(18-20)', 'Adult(21-30)', 'Young(18-20)', 'Young(18-20)', 'Young(18-20)', 'SeniorCitizen(60-70)', 'Young(18-20)', 'Young(18-20)', 'Mid-age(31-59)', 'Young(18-20)', 'Adult(21-30)', 'Mid-age(31-59)', 'Adult(21-30)', 'Young(18-20)', 'Young(18-20)', 'Mid-age(31-59)', 'SeniorCitizen(60-70)', 'Young(18-20)', 'SeniorCitizen(60-70)', 'Young(18-20)', 'Young(18-20)', 'Adult(21-30)', 'Mid-age(31-59)', 'Young(18-20)', 'Young(18-20)', 'Mid-age(31-59)', 'Young(18-20)', 'Young(18-20)', 'Young(18-20)', 'Young(18-20)', 'Young(18-20)', 'Young(18-20)', 'Young(18-20)', 'SeniorCitizen(60-70)', 'Mid-age(31-59)', 'Mid-age(31-59)', 'Young(18-20)', 'Young(18-20)', 'Adult(21-30)', 'Young(18-20)', 'SeniorCitizen(60-70)', 'Adult(21-30)', 'Mid-age(31-59)', 'Mid-age(31-59)', 'Adult(21-30)', 'SeniorCitizen(60-70)', 'SeniorCitizen(60-70)', 'SeniorCitizen(60-70)', 'Adult(21-30)', 'Young(18-20)', 'SeniorCitizen(60-70)', 'Young(18-20)', 'Young(18-20)', 'Young(18-20)', 'Young(18-20)', 'Young(18-20)', 'Mid-age(31-59)', 'Young(18-20)', 'Mid-age(31-59)', 'Mid-age(31-59)', 'Young(18-20)', 'Mid-age(31-59)', 'Adult(21-30)', 'Mid-age(31-59)', 'Adult(21-30)', 'Adult(21-30)', 'Young(18-20)', 'Adult(21-30)', 'SeniorCitizen(60-70)', 'Young(18-20)', 'Mid-age(31-59)', 'Young(18-20)', 'Young(18-20)', 'Young(18-20)', 'Young(18-20)', 'Young(18-20)', 'Young(18-20)', 'Mid-age(31-59)', 'SeniorCitizen(60-70)', 'Mid-age(31-59)', 'Young(18-20)', 'Young(18-20)', 'Young(18-20)', 'SeniorCitizen(60-70)', 'SeniorCitizen(60-70)', 'Young(18-20)', 'Young(18-20)', 'Young(18-20)', 'Mid-age(31-59)', 'Young(18-20)', 'Young(18-20)', 'Mid-age(31-59)', 'Young(18-20)', 'SeniorCitizen(60-70)', 'Mid-age(31-59)', 'Young(18-20)', 'Young(18-20)', 'Mid-age(31-59)', 'Young(18-20)', 'Young(18-20)', 'Mid-age(31-59)', 'Young(18-20)', 'Mid-age(31-59)', 'Young(18-20)', 'Mid-age(31-59)', 'Adult(21-30)', 'SeniorCitizen(60-70)', 'Young(18-20)', 'SeniorCitizen(60-70)', 'Adult(21-30)', 'Mid-age(31-59)', 'Adult(21-30)', 'Young(18-20)', 'Young(18-20)', 'Young(18-20)', 'Young(18-20)', 'SeniorCitizen(60-70)', 'Young(18-20)', 'Adult(21-30)', 'SeniorCitizen(60-70)', 'Mid-age(31-59)', 'SeniorCitizen(60-70)', 'Mid-age(31-59)', 'Young(18-20)', 'Young(18-20)', 'Mid-age(31-59)', 'Young(18-20)', 'Adult(21-30)', 'Young(18-20)', 'Young(18-20)', 'Young(18-20)', 'Young(18-20)', 'Young(18-20)', 'Young(18-20)', 'SeniorCitizen(60-70)', 'Adult(21-30)', 'SeniorCitizen(60-70)', 'SeniorCitizen(60-70)', 'SeniorCitizen(60-70)', 'Mid-age(31-59)', 'Mid-age(31-59)', 'SeniorCitizen(60-70)', 'Mid-age(31-59)', 'Mid-age(31-59)', 'SeniorCitizen(60-70)', 'SeniorCitizen(60-70)', 'Adult(21-30)', 'Young(18-20)', 'Young(18-20)', 'Young(18-20)', 'Mid-age(31-59)', 'Young(18-20)', 'SeniorCitizen(60-70)', 'Adult(21-30)', 'SeniorCitizen(60-70)', 'SeniorCitizen(60-70)', 'Adult(21-30)', 'Young(18-20)', 'Young(18-20)', 'SeniorCitizen(60-70)', 'SeniorCitizen(60-70)', 'SeniorCitizen(60-70)', 'Young(18-20)', 'SeniorCitizen(60-70)', 'Adult(21-30)', 'Young(18-20)', 'Young(18-20)', 'Young(18-20)', 'SeniorCitizen(60-70)', 'Mid-age(31-59)', 'Mid-age(31-59)', 'SeniorCitizen(60-70)', 'SeniorCitizen(60-70)', 'SeniorCitizen(60-70)', 'Adult(21-30)', 'Adult(21-30)', 'Adult(21-30)', 'SeniorCitizen(60-70)', 'Mid-age(31-59)', 'Young(18-20)', 'Adult(21-30)', 'Young(18-20)', 'Young(18-20)', 'Young(18-20)', 'Young(18-20)', 'Young(18-20)', 'Adult(21-30)', 'Mid-age(31-59)', 'SeniorCitizen(60-70)', 'Adult(21-30)', 'Young(18-20)', 'Mid-age(31-59)', 'Young(18-20)', 'Adult(21-30)', 'Young(18-20)', 'Young(18-20)', 'Young(18-20)', 'Young(18-20)', 'Young(18-20)', 'Mid-age(31-59)', 'Young(18-20)', 'Adult(21-30)', 'SeniorCitizen(60-70)', 'Young(18-20)', 'Adult(21-30)', 'Young(18-20)', 'Adult(21-30)', 'Young(18-20)', 'Mid-age(31-59)', 'Young(18-20)', 'SeniorCitizen(60-70)', 'Young(18-20)', 'Adult(21-30)', 'Mid-age(31-59)', 'Young(18-20)', 'Mid-age(31-59)', 'Mid-age(31-59)', 'Adult(21-30)', 'Mid-age(31-59)', 'Young(18-20)', 'Adult(21-30)', 'Young(18-20)', 'Mid-age(31-59)', 'SeniorCitizen(60-70)', 'Young(18-20)', 'Mid-age(31-59)', 'Mid-age(31-59)', 'Young(18-20)', 'Mid-age(31-59)', 'Young(18-20)', 'Young(18-20)', 'Mid-age(31-59)', 'Mid-age(31-59)', 'Young(18-20)', 'SeniorCitizen(60-70)', 'Mid-age(31-59)', 'SeniorCitizen(60-70)', 'Adult(21-30)', 'Young(18-20)', 'Adult(21-30)', 'Young(18-20)', 'Young(18-20)', 'Young(18-20)', 'Young(18-20)', 'Mid-age(31-59)', 'Mid-age(31-59)', 'Young(18-20)', 'Young(18-20)', 'Young(18-20)', 'Young(18-20)', 'Young(18-20)', 'Adult(21-30)', 'Young(18-20)', 'Mid-age(31-59)', 'Young(18-20)', 'SeniorCitizen(60-70)', 'Adult(21-30)', 'Young(18-20)', 'Young(18-20)', 'Young(18-20)', 'Young(18-20)', 'Mid-age(31-59)', 'Mid-age(31-59)', 'Young(18-20)', 'Young(18-20)', 'Young(18-20)', 'Young(18-20)', 'Adult(21-30)', 'Mid-age(31-59)', 'Young(18-20)', 'SeniorCitizen(60-70)', 'SeniorCitizen(60-70)', 'Adult(21-30)', 'Young(18-20)', 'Young(18-20)', 'Young(18-20)', 'Young(18-20)', 'Young(18-20)', 'Young(18-20)', 'Young(18-20)', 'Young(18-20)', 'Young(18-20)', 'Adult(21-30)', 'Young(18-20)', 'Adult(21-30)', 'Young(18-20)', 'Young(18-20)', 'SeniorCitizen(60-70)', 'Adult(21-30)', 'Adult(21-30)', 'Mid-age(31-59)', 'Adult(21-30)', 'Young(18-20)', 'Adult(21-30)', 'Young(18-20)', 'SeniorCitizen(60-70)', 'SeniorCitizen(60-70)', 'Adult(21-30)', 'Mid-age(31-59)', 'Young(18-20)', 'SeniorCitizen(60-70)', 'Mid-age(31-59)', 'Young(18-20)', 'Young(18-20)', 'Adult(21-30)', 'SeniorCitizen(60-70)', 'SeniorCitizen(60-70)', 'Mid-age(31-59)', 'Young(18-20)', 'Adult(21-30)', 'Young(18-20)', 'Young(18-20)', 'Young(18-20)', 'SeniorCitizen(60-70)', 'Young(18-20)', 'Adult(21-30)', 'Young(18-20)', 'Young(18-20)', 'Adult(21-30)', 'Young(18-20)', 'Young(18-20)', 'Young(18-20)', 'SeniorCitizen(60-70)', 'Young(18-20)', 'Adult(21-30)', 'Young(18-20)', 'SeniorCitizen(60-70)', 'SeniorCitizen(60-70)', 'Adult(21-30)', 'Mid-age(31-59)', 'Young(18-20)', 'Mid-age(31-59)', 'Young(18-20)', 'Young(18-20)', 'Mid-age(31-59)', 'Adult(21-30)', 'Young(18-20)', 'SeniorCitizen(60-70)', 'Young(18-20)', 'Adult(21-30)', 'Young(18-20)', 'SeniorCitizen(60-70)', 'SeniorCitizen(60-70)', 'Mid-age(31-59)', 'Adult(21-30)', 'Young(18-20)', 'Mid-age(31-59)', 'Mid-age(31-59)', 'Young(18-20)', 'Adult(21-30)', 'SeniorCitizen(60-70)', 'Adult(21-30)', 'SeniorCitizen(60-70)', 'Adult(21-30)', 'Young(18-20)', 'Mid-age(31-59)', 'Mid-age(31-59)', 'Adult(21-30)', 'Young(18-20)', 'Young(18-20)', 'Mid-age(31-59)', 'SeniorCitizen(60-70)', 'SeniorCitizen(60-70)', 'Adult(21-30)', 'SeniorCitizen(60-70)', 'Young(18-20)', 'Young(18-20)', 'Mid-age(31-59)', 'Young(18-20)', 'Young(18-20)', 'Adult(21-30)', 'Adult(21-30)', 'Mid-age(31-59)', 'Young(18-20)', 'Young(18-20)', 'Adult(21-30)', 'Mid-age(31-59)', 'Adult(21-30)', 'Young(18-20)', 'Young(18-20)', 'Young(18-20)', 'Young(18-20)', 'Young(18-20)', 'Mid-age(31-59)', 'Adult(21-30)', 'Young(18-20)', 'Young(18-20)', 'Mid-age(31-59)', 'Adult(21-30)', 'Mid-age(31-59)', 'Adult(21-30)', 'Adult(21-30)', 'Young(18-20)', 'Mid-age(31-59)', 'Mid-age(31-59)', 'Young(18-20)', 'SeniorCitizen(60-70)', 'Young(18-20)', 'Mid-age(31-59)', 'Mid-age(31-59)', 'Young(18-20)', 'Mid-age(31-59)', 'Adult(21-30)', 'Young(18-20)', 'Young(18-20)', 'Adult(21-30)', 'Young(18-20)', 'SeniorCitizen(60-70)', 'Young(18-20)', 'Young(18-20)', 'Young(18-20)', 'Adult(21-30)', 'Adult(21-30)', 'Young(18-20)', 'SeniorCitizen(60-70)', 'Adult(21-30)', 'Mid-age(31-59)', 'Mid-age(31-59)', 'Mid-age(31-59)', 'Young(18-20)', 'SeniorCitizen(60-70)', 'Mid-age(31-59)', 'Adult(21-30)', 'Young(18-20)', 'Young(18-20)', 'Mid-age(31-59)', 'Young(18-20)', 'Adult(21-30)', 'Young(18-20)', 'SeniorCitizen(60-70)', 'Young(18-20)', 'Young(18-20)', 'Young(18-20)', 'Mid-age(31-59)', 'Adult(21-30)', 'Young(18-20)', 'Adult(21-30)', 'Mid-age(31-59)', 'SeniorCitizen(60-70)', 'Mid-age(31-59)', 'Young(18-20)', 'Young(18-20)', 'Adult(21-30)', 'SeniorCitizen(60-70)', 'Young(18-20)', 'Mid-age(31-59)', 'Adult(21-30)', 'Young(18-20)', 'Adult(21-30)', 'Adult(21-30)', 'Mid-age(31-59)', 'Mid-age(31-59)', 'Adult(21-30)', 'SeniorCitizen(60-70)', 'Young(18-20)', 'Young(18-20)', 'Adult(21-30)', 'Young(18-20)', 'Young(18-20)', 'Young(18-20)', 'Young(18-20)', 'Young(18-20)', 'Mid-age(31-59)', 'Young(18-20)', 'SeniorCitizen(60-70)', 'Mid-age(31-59)', 'Young(18-20)', 'Young(18-20)', 'Young(18-20)', 'Mid-age(31-59)', 'Young(18-20)', 'SeniorCitizen(60-70)', 'Adult(21-30)', 'Young(18-20)', 'SeniorCitizen(60-70)', 'SeniorCitizen(60-70)', 'Adult(21-30)', 'Adult(21-30)', 'Adult(21-30)', 'Adult(21-30)', 'Young(18-20)', 'Young(18-20)', 'Young(18-20)', 'SeniorCitizen(60-70)', 'Young(18-20)', 'Mid-age(31-59)', 'SeniorCitizen(60-70)', 'Mid-age(31-59)', 'Adult(21-30)', 'Adult(21-30)', 'Mid-age(31-59)', 'Mid-age(31-59)', 'Young(18-20)', 'Young(18-20)', 'Mid-age(31-59)', 'Adult(21-30)', 'SeniorCitizen(60-70)', 'Young(18-20)', 'Adult(21-30)', 'Young(18-20)', 'Mid-age(31-59)', 'Young(18-20)', 'SeniorCitizen(60-70)', 'Young(18-20)', 'Young(18-20)', 'Mid-age(31-59)', 'SeniorCitizen(60-70)', 'Adult(21-30)', 'Young(18-20)', 'Young(18-20)', 'Young(18-20)', 'Young(18-20)', 'Young(18-20)', 'Young(18-20)', 'Young(18-20)', 'SeniorCitizen(60-70)', 'Young(18-20)', 'Young(18-20)', 'Adult(21-30)', 'Mid-age(31-59)', 'SeniorCitizen(60-70)', 'SeniorCitizen(60-70)', 'Mid-age(31-59)', 'Mid-age(31-59)', 'Young(18-20)', 'Adult(21-30)', 'Young(18-20)', 'Mid-age(31-59)', 'Adult(21-30)', 'Mid-age(31-59)', 'Young(18-20)', 'Young(18-20)', 'Mid-age(31-59)', 'Young(18-20)', 'Young(18-20)', 'SeniorCitizen(60-70)', 'Young(18-20)', 'Young(18-20)', 'Young(18-20)', 'Mid-age(31-59)', 'Young(18-20)', 'SeniorCitizen(60-70)', 'Mid-age(31-59)', 'Young(18-20)', 'Young(18-20)', 'Young(18-20)', 'Young(18-20)', 'Mid-age(31-59)', 'Adult(21-30)', 'Young(18-20)', 'Young(18-20)', 'Young(18-20)', 'Adult(21-30)', 'SeniorCitizen(60-70)', 'Mid-age(31-59)', 'Mid-age(31-59)', 'Mid-age(31-59)', 'Mid-age(31-59)', 'Mid-age(31-59)', 'Young(18-20)', 'Young(18-20)', 'Mid-age(31-59)', 'Young(18-20)', 'Young(18-20)', 'SeniorCitizen(60-70)', 'Adult(21-30)', 'Young(18-20)', 'Young(18-20)', 'Adult(21-30)', 'Mid-age(31-59)', 'SeniorCitizen(60-70)', 'SeniorCitizen(60-70)', 'Adult(21-30)', 'SeniorCitizen(60-70)', 'SeniorCitizen(60-70)', 'SeniorCitizen(60-70)', 'Young(18-20)', 'Young(18-20)', 'Mid-age(31-59)', 'Mid-age(31-59)', 'Mid-age(31-59)', 'Mid-age(31-59)', 'Young(18-20)', 'Young(18-20)', 'Young(18-20)', 'Young(18-20)', 'Young(18-20)', 'Young(18-20)', 'Adult(21-30)', 'Mid-age(31-59)', 'Mid-age(31-59)', 'SeniorCitizen(60-70)', 'Young(18-20)', 'SeniorCitizen(60-70)', 'Mid-age(31-59)', 'SeniorCitizen(60-70)', 'Young(18-20)', 'Adult(21-30)', 'SeniorCitizen(60-70)', 'Mid-age(31-59)', 'Adult(21-30)', 'Mid-age(31-59)', 'Young(18-20)', 'Adult(21-30)', 'SeniorCitizen(60-70)', 'Young(18-20)', 'Young(18-20)', 'Adult(21-30)', 'Young(18-20)', 'Young(18-20)', 'Young(18-20)', 'Young(18-20)', 'Young(18-20)', 'Young(18-20)', 'Young(18-20)', 'Young(18-20)', 'Young(18-20)', 'Young(18-20)', 'Young(18-20)', 'Young(18-20)', 'Young(18-20)', 'Adult(21-30)', 'Young(18-20)', 'Mid-age(31-59)', 'Mid-age(31-59)', 'Adult(21-30)', 'Mid-age(31-59)', 'SeniorCitizen(60-70)', 'Adult(21-30)', 'Mid-age(31-59)', 'Young(18-20)', 'Adult(21-30)', 'Young(18-20)', 'Young(18-20)', 'Young(18-20)', 'Mid-age(31-59)', 'Adult(21-30)', 'Mid-age(31-59)', 'Adult(21-30)', 'Young(18-20)', 'Young(18-20)', 'Mid-age(31-59)', 'SeniorCitizen(60-70)', 'Young(18-20)', 'SeniorCitizen(60-70)', 'SeniorCitizen(60-70)', 'Adult(21-30)', 'Mid-age(31-59)', 'Young(18-20)', 'Young(18-20)', 'Mid-age(31-59)', 'Young(18-20)', 'Young(18-20)', 'Young(18-20)', 'Young(18-20)', 'Adult(21-30)', 'Mid-age(31-59)', 'Adult(21-30)', 'Mid-age(31-59)', 'Young(18-20)', 'SeniorCitizen(60-70)', 'Young(18-20)', 'SeniorCitizen(60-70)', 'Young(18-20)', 'Young(18-20)', 'Young(18-20)', 'Young(18-20)', 'Adult(21-30)', 'SeniorCitizen(60-70)', 'Young(18-20)', 'Adult(21-30)', 'SeniorCitizen(60-70)', 'SeniorCitizen(60-70)', 'Adult(21-30)', 'Young(18-20)', 'Young(18-20)', 'SeniorCitizen(60-70)', 'Young(18-20)', 'Young(18-20)', 'Mid-age(31-59)', 'SeniorCitizen(60-70)', 'Young(18-20)', 'SeniorCitizen(60-70)', 'Mid-age(31-59)', 'Adult(21-30)', 'Mid-age(31-59)', 'Young(18-20)', 'SeniorCitizen(60-70)', 'Adult(21-30)', 'Adult(21-30)', 'Young(18-20)', 'Adult(21-30)', 'Young(18-20)', 'Young(18-20)', 'Young(18-20)', 'Young(18-20)', 'Mid-age(31-59)', 'Mid-age(31-59)', 'Young(18-20)', 'Mid-age(31-59)', 'SeniorCitizen(60-70)', 'SeniorCitizen(60-70)', 'Adult(21-30)', 'SeniorCitizen(60-70)', 'Young(18-20)', 'SeniorCitizen(60-70)', 'Young(18-20)', 'Young(18-20)', 'Mid-age(31-59)', 'SeniorCitizen(60-70)', 'Mid-age(31-59)', 'Adult(21-30)', 'Adult(21-30)', 'Young(18-20)', 'Young(18-20)', 'Adult(21-30)', 'SeniorCitizen(60-70)', 'Mid-age(31-59)', 'Young(18-20)', 'Mid-age(31-59)', 'Adult(21-30)', 'Young(18-20)', 'Mid-age(31-59)', 'Adult(21-30)', 'Young(18-20)', 'SeniorCitizen(60-70)', 'Mid-age(31-59)', 'Mid-age(31-59)', 'Young(18-20)', 'Adult(21-30)', 'Mid-age(31-59)', 'SeniorCitizen(60-70)', 'SeniorCitizen(60-70)', 'Young(18-20)', 'Young(18-20)', 'Young(18-20)', 'Adult(21-30)', 'Young(18-20)', 'SeniorCitizen(60-70)', 'Young(18-20)', 'Young(18-20)', 'Mid-age(31-59)', 'Young(18-20)', 'Young(18-20)', 'Young(18-20)', 'Adult(21-30)', 'Adult(21-30)', 'Adult(21-30)', 'Mid-age(31-59)', 'Mid-age(31-59)', 'SeniorCitizen(60-70)', 'Young(18-20)', 'Young(18-20)', 'Young(18-20)', 'Adult(21-30)', 'Young(18-20)', 'SeniorCitizen(60-70)', 'Young(18-20)', 'Young(18-20)', 'Mid-age(31-59)', 'Mid-age(31-59)', 'Young(18-20)', 'Mid-age(31-59)', 'Young(18-20)', 'Young(18-20)', 'Mid-age(31-59)', 'Mid-age(31-59)', 'Mid-age(31-59)', 'Mid-age(31-59)', 'Adult(21-30)', 'Mid-age(31-59)', 'Young(18-20)', 'Mid-age(31-59)', 'Young(18-20)', 'Mid-age(31-59)', 'Adult(21-30)', 'Adult(21-30)', 'Adult(21-30)', 'Adult(21-30)', 'SeniorCitizen(60-70)', 'Young(18-20)', 'Mid-age(31-59)', 'Young(18-20)', 'SeniorCitizen(60-70)', 'Adult(21-30)', 'SeniorCitizen(60-70)', 'SeniorCitizen(60-70)', 'Young(18-20)', 'Adult(21-30)', 'Mid-age(31-59)', 'Adult(21-30)', 'Adult(21-30)', 'Mid-age(31-59)', 'Adult(21-30)', 'Young(18-20)', 'Young(18-20)', 'Young(18-20)', 'Young(18-20)', 'Young(18-20)', 'Adult(21-30)', 'Mid-age(31-59)', 'Mid-age(31-59)', 'Young(18-20)', 'Mid-age(31-59)', 'SeniorCitizen(60-70)', 'SeniorCitizen(60-70)', 'Mid-age(31-59)', 'Adult(21-30)', 'SeniorCitizen(60-70)', 'Young(18-20)', 'Young(18-20)', 'Mid-age(31-59)', 'Mid-age(31-59)', 'SeniorCitizen(60-70)', 'Young(18-20)', 'Young(18-20)', 'SeniorCitizen(60-70)', 'Mid-age(31-59)', 'Young(18-20)', 'Young(18-20)', 'SeniorCitizen(60-70)', 'Young(18-20)', 'Mid-age(31-59)', 'Young(18-20)', 'Adult(21-30)', 'Adult(21-30)', 'Adult(21-30)', 'Mid-age(31-59)', 'SeniorCitizen(60-70)', 'Young(18-20)', 'Young(18-20)', 'Young(18-20)', 'Young(18-20)', 'Mid-age(31-59)', 'Young(18-20)', 'SeniorCitizen(60-70)', 'Young(18-20)', 'Young(18-20)', 'Young(18-20)', 'Young(18-20)', 'Young(18-20)', 'Adult(21-30)', 'SeniorCitizen(60-70)', 'Young(18-20)', 'Young(18-20)', 'Young(18-20)', 'Young(18-20)', 'Young(18-20)', 'Young(18-20)', 'Adult(21-30)', 'Mid-age(31-59)', 'Young(18-20)', 'Young(18-20)', 'Mid-age(31-59)', 'Adult(21-30)', 'Young(18-20)', 'SeniorCitizen(60-70)', 'SeniorCitizen(60-70)', 'SeniorCitizen(60-70)', 'SeniorCitizen(60-70)', 'Adult(21-30)', 'Young(18-20)', 'SeniorCitizen(60-70)', 'SeniorCitizen(60-70)', 'SeniorCitizen(60-70)', 'Young(18-20)', 'Mid-age(31-59)', 'Adult(21-30)', 'Young(18-20)', 'Young(18-20)', 'SeniorCitizen(60-70)', 'Adult(21-30)', 'Young(18-20)', 'Mid-age(31-59)', 'Young(18-20)', 'Young(18-20)', 'Adult(21-30)', 'Young(18-20)', 'Adult(21-30)', 'Mid-age(31-59)', 'Young(18-20)', 'SeniorCitizen(60-70)', 'Young(18-20)', 'Adult(21-30)', 'Adult(21-30)', 'Young(18-20)', 'Adult(21-30)', 'SeniorCitizen(60-70)', 'SeniorCitizen(60-70)', 'SeniorCitizen(60-70)', 'Young(18-20)', 'Adult(21-30)', 'Mid-age(31-59)', 'Mid-age(31-59)', 'Mid-age(31-59)', 'Mid-age(31-59)', 'Young(18-20)', 'Young(18-20)', 'Adult(21-30)', 'Adult(21-30)', 'Adult(21-30)', 'Mid-age(31-59)', 'SeniorCitizen(60-70)', 'SeniorCitizen(60-70)', 'Adult(21-30)', 'Adult(21-30)', 'Young(18-20)', 'Mid-age(31-59)', 'Young(18-20)', 'Young(18-20)', 'Young(18-20)', 'Mid-age(31-59)', 'Young(18-20)', 'Mid-age(31-59)', 'Adult(21-30)', 'Young(18-20)', 'Mid-age(31-59)', 'SeniorCitizen(60-70)', 'Adult(21-30)', 'Mid-age(31-59)', 'Young(18-20)', 'Mid-age(31-59)', 'SeniorCitizen(60-70)', 'Young(18-20)', 'Mid-age(31-59)', 'Young(18-20)', 'Mid-age(31-59)', 'Young(18-20)', 'Young(18-20)', 'Mid-age(31-59)', 'SeniorCitizen(60-70)', 'Adult(21-30)', 'Adult(21-30)', 'Young(18-20)', 'SeniorCitizen(60-70)', 'Young(18-20)', 'Adult(21-30)', 'Adult(21-30)', 'Young(18-20)', 'Adult(21-30)', 'Mid-age(31-59)', 'Young(18-20)', 'Adult(21-30)', 'Young(18-20)', 'Young(18-20)', 'Young(18-20)', 'Mid-age(31-59)', 'Young(18-20)', 'Young(18-20)', 'Mid-age(31-59)', 'Mid-age(31-59)', 'Mid-age(31-59)', 'Young(18-20)', 'Young(18-20)', 'Young(18-20)', 'Adult(21-30)', 'Adult(21-30)', 'Young(18-20)', 'Adult(21-30)', 'Mid-age(31-59)', 'Mid-age(31-59)', 'Young(18-20)', 'Adult(21-30)', 'Young(18-20)', 'Young(18-20)', 'Young(18-20)', 'Young(18-20)', 'SeniorCitizen(60-70)', 'Adult(21-30)', 'SeniorCitizen(60-70)', 'Young(18-20)', 'Young(18-20)', 'SeniorCitizen(60-70)', 'Adult(21-30)', 'Adult(21-30)', 'Young(18-20)', 'Young(18-20)', 'Adult(21-30)', 'Mid-age(31-59)', 'Mid-age(31-59)', 'Young(18-20)', 'Adult(21-30)', 'Young(18-20)', 'Young(18-20)', 'Young(18-20)', 'Young(18-20)', 'Young(18-20)', 'Young(18-20)', 'Adult(21-30)', 'Young(18-20)', 'Young(18-20)', 'Young(18-20)', 'SeniorCitizen(60-70)', 'Mid-age(31-59)', 'SeniorCitizen(60-70)', 'Young(18-20)', 'Young(18-20)', 'Young(18-20)', 'Mid-age(31-59)', 'Young(18-20)', 'Young(18-20)', 'Adult(21-30)', 'Adult(21-30)', 'Young(18-20)', 'Adult(21-30)', 'Young(18-20)', 'Adult(21-30)', 'Young(18-20)', 'Mid-age(31-59)', 'SeniorCitizen(60-70)', 'Mid-age(31-59)', 'SeniorCitizen(60-70)', 'Young(18-20)', 'Mid-age(31-59)', 'Young(18-20)', 'Young(18-20)', 'Young(18-20)', 'Mid-age(31-59)', 'SeniorCitizen(60-70)', 'Mid-age(31-59)', 'Young(18-20)', 'Mid-age(31-59)', 'Young(18-20)', 'Young(18-20)', 'Young(18-20)', 'Young(18-20)', 'Adult(21-30)', 'SeniorCitizen(60-70)', 'Young(18-20)', 'Mid-age(31-59)', 'Young(18-20)', 'Young(18-20)', 'Young(18-20)', 'SeniorCitizen(60-70)', 'SeniorCitizen(60-70)', 'Young(18-20)', 'Young(18-20)', 'Mid-age(31-59)', 'SeniorCitizen(60-70)', 'SeniorCitizen(60-70)', 'Adult(21-30)', 'Mid-age(31-59)', 'Adult(21-30)', 'Adult(21-30)', 'SeniorCitizen(60-70)', 'Adult(21-30)', 'Young(18-20)', 'Young(18-20)', 'Young(18-20)', 'Young(18-20)', 'SeniorCitizen(60-70)', 'Adult(21-30)', 'Mid-age(31-59)', 'Young(18-20)', 'Adult(21-30)', 'Young(18-20)', 'Mid-age(31-59)', 'Young(18-20)', 'Adult(21-30)', 'Young(18-20)', 'Mid-age(31-59)', 'Young(18-20)', 'SeniorCitizen(60-70)', 'SeniorCitizen(60-70)', 'Mid-age(31-59)', 'Adult(21-30)', 'Young(18-20)', 'Mid-age(31-59)', 'Mid-age(31-59)', 'Young(18-20)', 'Young(18-20)', 'Mid-age(31-59)', 'Mid-age(31-59)', 'Young(18-20)', 'Adult(21-30)', 'Young(18-20)', 'Mid-age(31-59)', 'Young(18-20)', 'Young(18-20)', 'SeniorCitizen(60-70)', 'Young(18-20)', 'Mid-age(31-59)', 'Mid-age(31-59)', 'Mid-age(31-59)', 'Young(18-20)', 'Young(18-20)', 'Adult(21-30)', 'Adult(21-30)', 'Young(18-20)', 'Young(18-20)', 'Young(18-20)', 'Young(18-20)', 'Adult(21-30)', 'Adult(21-30)', 'Mid-age(31-59)', 'SeniorCitizen(60-70)', 'Young(18-20)', 'Mid-age(31-59)', 'SeniorCitizen(60-70)', 'Young(18-20)', 'Young(18-20)', 'Adult(21-30)', 'Young(18-20)', 'Mid-age(31-59)', 'Adult(21-30)', 'SeniorCitizen(60-70)', 'SeniorCitizen(60-70)', 'Mid-age(31-59)', 'Adult(21-30)', 'Adult(21-30)', 'Mid-age(31-59)', 'SeniorCitizen(60-70)', 'Young(18-20)', 'Mid-age(31-59)', 'Young(18-20)', 'Mid-age(31-59)', 'Mid-age(31-59)', 'Young(18-20)', 'Young(18-20)', 'Young(18-20)', 'Mid-age(31-59)', 'Mid-age(31-59)', 'Young(18-20)', 'Young(18-20)', 'Adult(21-30)', 'SeniorCitizen(60-70)', 'Adult(21-30)', 'Mid-age(31-59)', 'Young(18-20)', 'Young(18-20)', 'Mid-age(31-59)', 'Adult(21-30)', 'Adult(21-30)', 'Young(18-20)', 'SeniorCitizen(60-70)', 'Mid-age(31-59)', 'Adult(21-30)', 'Adult(21-30)', 'Young(18-20)', 'SeniorCitizen(60-70)', 'Adult(21-30)', 'Adult(21-30)', 'Young(18-20)', 'Young(18-20)', 'SeniorCitizen(60-70)', 'Young(18-20)', 'SeniorCitizen(60-70)', 'SeniorCitizen(60-70)', 'Young(18-20)', 'Adult(21-30)', 'Young(18-20)', 'Young(18-20)', 'Young(18-20)', 'Mid-age(31-59)', 'Mid-age(31-59)', 'Young(18-20)', 'Mid-age(31-59)', 'Mid-age(31-59)', 'SeniorCitizen(60-70)', 'Young(18-20)', 'SeniorCitizen(60-70)', 'Mid-age(31-59)', 'Young(18-20)', 'Mid-age(31-59)', 'Young(18-20)', 'Young(18-20)', 'Adult(21-30)', 'Young(18-20)', 'Mid-age(31-59)', 'Young(18-20)', 'Adult(21-30)', 'Mid-age(31-59)', 'Young(18-20)', 'Young(18-20)', 'Mid-age(31-59)', 'Mid-age(31-59)', 'Young(18-20)', 'Mid-age(31-59)', 'Adult(21-30)', 'Young(18-20)', 'Mid-age(31-59)', 'Young(18-20)', 'Mid-age(31-59)', 'Young(18-20)', 'SeniorCitizen(60-70)', 'Young(18-20)', 'Mid-age(31-59)', 'Young(18-20)', 'Adult(21-30)', 'Young(18-20)', 'Young(18-20)', 'Mid-age(31-59)', 'Young(18-20)', 'Young(18-20)', 'SeniorCitizen(60-70)', 'Mid-age(31-59)', 'Young(18-20)', 'Young(18-20)', 'Adult(21-30)', 'Young(18-20)', 'Adult(21-30)', 'SeniorCitizen(60-70)', 'SeniorCitizen(60-70)', 'SeniorCitizen(60-70)', 'Young(18-20)', 'Young(18-20)', 'Adult(21-30)', 'SeniorCitizen(60-70)', 'Adult(21-30)', 'SeniorCitizen(60-70)', 'Young(18-20)', 'Adult(21-30)', 'SeniorCitizen(60-70)', 'Mid-age(31-59)', 'Young(18-20)', 'Mid-age(31-59)', 'Young(18-20)', 'Young(18-20)', 'Adult(21-30)', 'SeniorCitizen(60-70)', 'Adult(21-30)', 'Young(18-20)', 'SeniorCitizen(60-70)', 'SeniorCitizen(60-70)', 'SeniorCitizen(60-70)', 'Young(18-20)', 'Young(18-20)', 'Young(18-20)', 'Young(18-20)', 'Mid-age(31-59)', 'SeniorCitizen(60-70)', 'Mid-age(31-59)', 'Young(18-20)', 'Mid-age(31-59)', 'Mid-age(31-59)', 'Mid-age(31-59)', 'Young(18-20)', 'Adult(21-30)', 'Adult(21-30)', 'Adult(21-30)', 'Young(18-20)', 'SeniorCitizen(60-70)', 'Young(18-20)', 'Young(18-20)', 'Young(18-20)', 'Mid-age(31-59)', 'Young(18-20)', 'Adult(21-30)', 'Adult(21-30)', 'Young(18-20)', 'Mid-age(31-59)', 'SeniorCitizen(60-70)', 'Mid-age(31-59)', 'Mid-age(31-59)', 'Adult(21-30)', 'Mid-age(31-59)', 'Young(18-20)', 'Mid-age(31-59)', 'Adult(21-30)', 'Young(18-20)', 'Young(18-20)', 'SeniorCitizen(60-70)', 'SeniorCitizen(60-70)', 'Young(18-20)', 'Adult(21-30)', 'SeniorCitizen(60-70)', 'Adult(21-30)', 'Young(18-20)', 'Young(18-20)', 'Young(18-20)', 'Young(18-20)', 'Young(18-20)', 'Young(18-20)', 'Young(18-20)', 'Mid-age(31-59)', 'Adult(21-30)', 'Adult(21-30)', 'Young(18-20)', 'Young(18-20)', 'Young(18-20)', 'Young(18-20)', 'Mid-age(31-59)', 'Mid-age(31-59)', 'SeniorCitizen(60-70)', 'Mid-age(31-59)', 'Young(18-20)', 'Young(18-20)', 'Young(18-20)', 'Mid-age(31-59)', 'SeniorCitizen(60-70)', 'Mid-age(31-59)', 'Mid-age(31-59)', 'Young(18-20)', 'Mid-age(31-59)', 'Young(18-20)', 'Adult(21-30)', 'Adult(21-30)', 'Adult(21-30)', 'Young(18-20)', 'Young(18-20)', 'Adult(21-30)', 'Young(18-20)', 'Young(18-20)', 'Young(18-20)', 'SeniorCitizen(60-70)', 'Young(18-20)', 'Young(18-20)', 'Young(18-20)', 'Adult(21-30)', 'Young(18-20)', 'Young(18-20)', 'SeniorCitizen(60-70)', 'Adult(21-30)', 'SeniorCitizen(60-70)', 'Adult(21-30)', 'Young(18-20)', 'Adult(21-30)', 'Adult(21-30)', 'Mid-age(31-59)', 'SeniorCitizen(60-70)', 'Mid-age(31-59)', 'SeniorCitizen(60-70)', 'Mid-age(31-59)', 'Young(18-20)', 'Adult(21-30)', 'Young(18-20)', 'Mid-age(31-59)', 'Young(18-20)', 'Young(18-20)', 'Young(18-20)', 'Adult(21-30)', 'SeniorCitizen(60-70)', 'Young(18-20)', 'Young(18-20)', 'Young(18-20)', 'Young(18-20)', 'Young(18-20)', 'Mid-age(31-59)', 'Young(18-20)', 'SeniorCitizen(60-70)', 'Young(18-20)', 'Adult(21-30)', 'Adult(21-30)', 'Mid-age(31-59)', 'Young(18-20)', 'SeniorCitizen(60-70)', 'Young(18-20)', 'SeniorCitizen(60-70)', 'Young(18-20)', 'Young(18-20)', 'Young(18-20)', 'Adult(21-30)', 'Young(18-20)', 'Adult(21-30)', 'Young(18-20)', 'Mid-age(31-59)', 'Adult(21-30)', 'Young(18-20)', 'Mid-age(31-59)', 'Adult(21-30)', 'SeniorCitizen(60-70)', 'SeniorCitizen(60-70)', 'Young(18-20)', 'SeniorCitizen(60-70)', 'Mid-age(31-59)', 'Young(18-20)', 'Mid-age(31-59)', 'Young(18-20)', 'SeniorCitizen(60-70)', 'Young(18-20)', 'Young(18-20)', 'Young(18-20)', 'SeniorCitizen(60-70)', 'SeniorCitizen(60-70)', 'Young(18-20)', 'Mid-age(31-59)', 'Adult(21-30)', 'Mid-age(31-59)', 'Young(18-20)', 'Mid-age(31-59)', 'SeniorCitizen(60-70)', 'Mid-age(31-59)', 'SeniorCitizen(60-70)', 'Young(18-20)', 'Mid-age(31-59)', 'Adult(21-30)', 'Mid-age(31-59)', 'Young(18-20)', 'Adult(21-30)', 'Adult(21-30)', 'Young(18-20)', 'Young(18-20)', 'Mid-age(31-59)', 'Adult(21-30)', 'Young(18-20)', 'Young(18-20)', 'SeniorCitizen(60-70)', 'Young(18-20)', 'Young(18-20)', 'Adult(21-30)', 'SeniorCitizen(60-70)', 'Adult(21-30)', 'Adult(21-30)', 'Young(18-20)', 'SeniorCitizen(60-70)', 'Mid-age(31-59)', 'SeniorCitizen(60-70)', 'Young(18-20)', 'Mid-age(31-59)', 'Young(18-20)', 'Mid-age(31-59)', 'Mid-age(31-59)', 'Adult(21-30)', 'SeniorCitizen(60-70)', 'Young(18-20)', 'SeniorCitizen(60-70)', 'SeniorCitizen(60-70)', 'Young(18-20)', 'Mid-age(31-59)', 'Young(18-20)', 'Young(18-20)', 'SeniorCitizen(60-70)', 'Young(18-20)', 'Young(18-20)', 'Young(18-20)', 'Young(18-20)', 'Mid-age(31-59)', 'Mid-age(31-59)', 'Adult(21-30)', 'SeniorCitizen(60-70)', 'Adult(21-30)', 'Young(18-20)', 'SeniorCitizen(60-70)', 'SeniorCitizen(60-70)', 'Young(18-20)', 'Mid-age(31-59)', 'Mid-age(31-59)', 'Young(18-20)', 'Young(18-20)', 'Mid-age(31-59)', 'Adult(21-30)', 'Mid-age(31-59)', 'Mid-age(31-59)', 'Mid-age(31-59)', 'Young(18-20)', 'Young(18-20)', 'Adult(21-30)', 'Adult(21-30)', 'Adult(21-30)', 'SeniorCitizen(60-70)', 'SeniorCitizen(60-70)', 'Young(18-20)', 'Adult(21-30)', 'Mid-age(31-59)', 'Young(18-20)', 'Adult(21-30)', 'SeniorCitizen(60-70)', 'SeniorCitizen(60-70)', 'Young(18-20)', 'Mid-age(31-59)', 'Young(18-20)', 'SeniorCitizen(60-70)', 'Young(18-20)', 'Mid-age(31-59)', 'Adult(21-30)', 'Mid-age(31-59)', 'Mid-age(31-59)', 'Young(18-20)', 'Young(18-20)', 'Young(18-20)', 'Young(18-20)', 'Adult(21-30)', 'SeniorCitizen(60-70)', 'Young(18-20)', 'Young(18-20)', 'Young(18-20)', 'Young(18-20)', 'SeniorCitizen(60-70)', 'Young(18-20)', 'Adult(21-30)', 'Mid-age(31-59)', 'SeniorCitizen(60-70)', 'Adult(21-30)', 'Mid-age(31-59)', 'Adult(21-30)', 'Young(18-20)', 'Young(18-20)', 'Mid-age(31-59)', 'Young(18-20)', 'SeniorCitizen(60-70)', 'Adult(21-30)', 'Young(18-20)', 'Young(18-20)', 'Adult(21-30)', 'SeniorCitizen(60-70)', 'Young(18-20)', 'Adult(21-30)', 'Mid-age(31-59)', 'Mid-age(31-59)', 'Young(18-20)', 'Mid-age(31-59)', 'SeniorCitizen(60-70)', 'Young(18-20)', 'SeniorCitizen(60-70)', 'SeniorCitizen(60-70)', 'Young(18-20)', 'Mid-age(31-59)', 'Young(18-20)', 'Adult(21-30)', 'Adult(21-30)', 'Young(18-20)', 'Mid-age(31-59)', 'Young(18-20)', 'Adult(21-30)', 'Mid-age(31-59)', 'Young(18-20)', 'Young(18-20)', 'Young(18-20)', 'SeniorCitizen(60-70)', 'SeniorCitizen(60-70)', 'Mid-age(31-59)', 'Young(18-20)', 'Young(18-20)', 'Mid-age(31-59)', 'Mid-age(31-59)', 'Adult(21-30)', 'Adult(21-30)', 'Young(18-20)', 'Young(18-20)', 'Young(18-20)', 'Adult(21-30)', 'Young(18-20)', 'SeniorCitizen(60-70)', 'Young(18-20)', 'SeniorCitizen(60-70)', 'SeniorCitizen(60-70)', 'Young(18-20)', 'Young(18-20)', 'Adult(21-30)', 'Mid-age(31-59)', 'SeniorCitizen(60-70)', 'Young(18-20)', 'Mid-age(31-59)', 'Mid-age(31-59)', 'Young(18-20)', 'Adult(21-30)', 'Mid-age(31-59)', 'Mid-age(31-59)', 'SeniorCitizen(60-70)', 'Young(18-20)', 'Adult(21-30)', 'Young(18-20)', 'Mid-age(31-59)', 'Young(18-20)', 'Young(18-20)', 'SeniorCitizen(60-70)', 'Young(18-20)', 'SeniorCitizen(60-70)', 'Young(18-20)', 'Young(18-20)', 'SeniorCitizen(60-70)', 'Mid-age(31-59)', 'Adult(21-30)', 'Mid-age(31-59)', 'SeniorCitizen(60-70)', 'Adult(21-30)', 'Young(18-20)', 'Young(18-20)', 'Young(18-20)', 'SeniorCitizen(60-70)', 'Young(18-20)', 'Adult(21-30)', 'Young(18-20)', 'Young(18-20)', 'Mid-age(31-59)', 'Young(18-20)', 'SeniorCitizen(60-70)', 'Mid-age(31-59)', 'Young(18-20)', 'Young(18-20)', 'Young(18-20)', 'Young(18-20)', 'SeniorCitizen(60-70)', 'Adult(21-30)', 'Young(18-20)', 'Young(18-20)', 'SeniorCitizen(60-70)', 'Adult(21-30)', 'Mid-age(31-59)', 'Adult(21-30)', 'Young(18-20)', 'Young(18-20)', 'Adult(21-30)', 'SeniorCitizen(60-70)', 'Young(18-20)', 'Young(18-20)', 'Mid-age(31-59)', 'Mid-age(31-59)', 'Mid-age(31-59)', 'Mid-age(31-59)', 'Young(18-20)', 'Adult(21-30)', 'Mid-age(31-59)', 'Mid-age(31-59)', 'Mid-age(31-59)', 'Mid-age(31-59)', 'Young(18-20)', 'Young(18-20)', 'Adult(21-30)', 'Mid-age(31-59)', 'Mid-age(31-59)', 'SeniorCitizen(60-70)', 'Young(18-20)', 'Mid-age(31-59)', 'Young(18-20)', 'Young(18-20)', 'Young(18-20)', 'Mid-age(31-59)', 'Young(18-20)', 'SeniorCitizen(60-70)', 'Young(18-20)', 'Young(18-20)', 'Young(18-20)', 'Adult(21-30)', 'Mid-age(31-59)', 'Adult(21-30)', 'SeniorCitizen(60-70)', 'Young(18-20)', 'Adult(21-30)', 'Young(18-20)', 'Mid-age(31-59)', 'Young(18-20)', 'SeniorCitizen(60-70)', 'Young(18-20)', 'Mid-age(31-59)', 'SeniorCitizen(60-70)', 'Adult(21-30)', 'Young(18-20)', 'Young(18-20)', 'Adult(21-30)', 'Young(18-20)', 'Mid-age(31-59)', 'Young(18-20)', 'Mid-age(31-59)', 'SeniorCitizen(60-70)', 'Mid-age(31-59)', 'Adult(21-30)', 'Adult(21-30)', 'Young(18-20)', 'SeniorCitizen(60-70)', 'Young(18-20)', 'Young(18-20)', 'Adult(21-30)', 'Mid-age(31-59)', 'SeniorCitizen(60-70)', 'SeniorCitizen(60-70)', 'Young(18-20)', 'SeniorCitizen(60-70)', 'SeniorCitizen(60-70)', 'SeniorCitizen(60-70)', 'Mid-age(31-59)', 'Young(18-20)', 'Young(18-20)', 'Young(18-20)', 'Mid-age(31-59)', 'SeniorCitizen(60-70)', 'Mid-age(31-59)', 'Young(18-20)', 'Young(18-20)', 'Adult(21-30)', 'Young(18-20)', 'Adult(21-30)', 'Young(18-20)', 'Mid-age(31-59)', 'SeniorCitizen(60-70)', 'Mid-age(31-59)', 'Young(18-20)', 'Young(18-20)', 'Mid-age(31-59)', 'Young(18-20)', 'Young(18-20)', 'Young(18-20)', 'Young(18-20)', 'Young(18-20)', 'Mid-age(31-59)', 'Young(18-20)', 'SeniorCitizen(60-70)', 'Young(18-20)', 'Adult(21-30)', 'Young(18-20)', 'Young(18-20)', 'Young(18-20)', 'Adult(21-30)', 'Young(18-20)', 'Mid-age(31-59)', 'Young(18-20)', 'Adult(21-30)', 'Young(18-20)', 'SeniorCitizen(60-70)', 'Adult(21-30)', 'Young(18-20)', 'Young(18-20)', 'Mid-age(31-59)', 'Young(18-20)', 'SeniorCitizen(60-70)', 'Adult(21-30)', 'Young(18-20)', 'SeniorCitizen(60-70)', 'SeniorCitizen(60-70)', 'SeniorCitizen(60-70)', 'Young(18-20)', 'SeniorCitizen(60-70)', 'Mid-age(31-59)', 'Young(18-20)', 'Adult(21-30)', 'Young(18-20)', 'Young(18-20)', 'SeniorCitizen(60-70)', 'Adult(21-30)', 'SeniorCitizen(60-70)', 'Young(18-20)', 'Mid-age(31-59)', 'Young(18-20)', 'Mid-age(31-59)', 'Young(18-20)', 'SeniorCitizen(60-70)', 'Young(18-20)', 'Young(18-20)', 'SeniorCitizen(60-70)', 'Mid-age(31-59)', 'Adult(21-30)', 'Adult(21-30)', 'Adult(21-30)', 'Mid-age(31-59)', 'SeniorCitizen(60-70)', 'Mid-age(31-59)', 'Adult(21-30)', 'Adult(21-30)', 'Young(18-20)', 'Mid-age(31-59)', 'Young(18-20)', 'Young(18-20)', 'SeniorCitizen(60-70)', 'Young(18-20)', 'Adult(21-30)', 'SeniorCitizen(60-70)', 'Mid-age(31-59)', 'Mid-age(31-59)', 'Young(18-20)', 'Young(18-20)', 'SeniorCitizen(60-70)', 'Mid-age(31-59)', 'SeniorCitizen(60-70)', 'Mid-age(31-59)', 'Adult(21-30)', 'Adult(21-30)', 'Young(18-20)', 'Young(18-20)', 'Young(18-20)', 'Adult(21-30)', 'Mid-age(31-59)', 'SeniorCitizen(60-70)', 'Young(18-20)', 'Young(18-20)', 'Young(18-20)', 'Young(18-20)', 'Mid-age(31-59)', 'Young(18-20)', 'Young(18-20)', 'Adult(21-30)', 'Young(18-20)', 'Young(18-20)', 'SeniorCitizen(60-70)', 'SeniorCitizen(60-70)', 'SeniorCitizen(60-70)', 'Mid-age(31-59)', 'Young(18-20)', 'Mid-age(31-59)', 'SeniorCitizen(60-70)', 'Young(18-20)', 'SeniorCitizen(60-70)', 'Young(18-20)', 'SeniorCitizen(60-70)', 'Young(18-20)', 'SeniorCitizen(60-70)', 'SeniorCitizen(60-70)', 'Young(18-20)', 'Mid-age(31-59)', 'SeniorCitizen(60-70)', 'Mid-age(31-59)', 'Young(18-20)', 'Young(18-20)', 'Young(18-20)', 'Young(18-20)', 'Mid-age(31-59)', 'SeniorCitizen(60-70)', 'Young(18-20)', 'Mid-age(31-59)', 'Young(18-20)', 'Mid-age(31-59)', 'Mid-age(31-59)', 'Mid-age(31-59)', 'Mid-age(31-59)', 'Adult(21-30)', 'Young(18-20)', 'SeniorCitizen(60-70)', 'Adult(21-30)', 'Adult(21-30)', 'Young(18-20)', 'Young(18-20)', 'Young(18-20)', 'Mid-age(31-59)', 'Adult(21-30)', 'Young(18-20)', 'Young(18-20)', 'Mid-age(31-59)', 'SeniorCitizen(60-70)', 'Young(18-20)', 'Mid-age(31-59)', 'SeniorCitizen(60-70)', 'SeniorCitizen(60-70)', 'Mid-age(31-59)', 'Mid-age(31-59)', 'Mid-age(31-59)', 'Young(18-20)', 'SeniorCitizen(60-70)', 'Adult(21-30)', 'Mid-age(31-59)', 'Mid-age(31-59)', 'Young(18-20)', 'Adult(21-30)', 'Adult(21-30)', 'Adult(21-30)', 'Young(18-20)', 'Adult(21-30)', 'Adult(21-30)', 'Young(18-20)', 'Mid-age(31-59)', 'Young(18-20)', 'Mid-age(31-59)', 'SeniorCitizen(60-70)', 'Young(18-20)', 'Adult(21-30)', 'Adult(21-30)', 'Mid-age(31-59)', 'Young(18-20)', 'Mid-age(31-59)', 'Mid-age(31-59)', 'Mid-age(31-59)', 'Adult(21-30)', 'Adult(21-30)', 'SeniorCitizen(60-70)', 'Mid-age(31-59)', 'Young(18-20)', 'Mid-age(31-59)', 'Mid-age(31-59)', 'Adult(21-30)', 'Young(18-20)', 'Young(18-20)', 'Adult(21-30)', 'Mid-age(31-59)', 'Young(18-20)', 'SeniorCitizen(60-70)', 'Young(18-20)', 'Adult(21-30)', 'Young(18-20)', 'Young(18-20)', 'Young(18-20)', 'Adult(21-30)', 'Young(18-20)', 'Mid-age(31-59)', 'Mid-age(31-59)', 'Young(18-20)', 'Young(18-20)', 'Young(18-20)', 'Young(18-20)', 'Young(18-20)', 'Adult(21-30)', 'Adult(21-30)', 'Young(18-20)', 'SeniorCitizen(60-70)', 'Mid-age(31-59)', 'Young(18-20)', 'Mid-age(31-59)', 'Mid-age(31-59)', 'Young(18-20)', 'Young(18-20)', 'Mid-age(31-59)', 'Mid-age(31-59)', 'SeniorCitizen(60-70)', 'Young(18-20)', 'Mid-age(31-59)', 'Young(18-20)', 'SeniorCitizen(60-70)', 'Adult(21-30)', 'Young(18-20)', 'Young(18-20)', 'Young(18-20)', 'Young(18-20)', 'Mid-age(31-59)', 'Adult(21-30)', 'Young(18-20)', 'Adult(21-30)', 'Mid-age(31-59)', 'Young(18-20)', 'Young(18-20)', 'Young(18-20)', 'Young(18-20)', 'Young(18-20)', 'Mid-age(31-59)', 'Adult(21-30)', 'SeniorCitizen(60-70)', 'Young(18-20)', 'Mid-age(31-59)', 'Young(18-20)', 'Adult(21-30)', 'Young(18-20)', 'Young(18-20)', 'Young(18-20)', 'Young(18-20)', 'Young(18-20)', 'Young(18-20)', 'Young(18-20)', 'Mid-age(31-59)', 'Mid-age(31-59)', 'Young(18-20)', 'Young(18-20)', 'Mid-age(31-59)', 'Mid-age(31-59)', 'Young(18-20)', 'SeniorCitizen(60-70)', 'Adult(21-30)', 'SeniorCitizen(60-70)', 'SeniorCitizen(60-70)', 'Young(18-20)', 'Young(18-20)', 'Young(18-20)', 'Mid-age(31-59)', 'Mid-age(31-59)', 'SeniorCitizen(60-70)', 'SeniorCitizen(60-70)', 'Adult(21-30)', 'Young(18-20)', 'Mid-age(31-59)', 'Young(18-20)', 'SeniorCitizen(60-70)', 'Young(18-20)', 'Adult(21-30)', 'Young(18-20)', 'Adult(21-30)', 'Mid-age(31-59)', 'Young(18-20)', 'Young(18-20)', 'Young(18-20)', 'Young(18-20)', 'Young(18-20)', 'Mid-age(31-59)', 'Young(18-20)', 'SeniorCitizen(60-70)', 'Adult(21-30)', 'SeniorCitizen(60-70)', 'Mid-age(31-59)', 'Adult(21-30)', 'Young(18-20)', 'Young(18-20)', 'Adult(21-30)', 'Mid-age(31-59)', 'Young(18-20)', 'Young(18-20)', 'Mid-age(31-59)', 'Mid-age(31-59)', 'Young(18-20)', 'Adult(21-30)', 'Mid-age(31-59)', 'Adult(21-30)', 'SeniorCitizen(60-70)', 'Young(18-20)', 'Young(18-20)', 'Mid-age(31-59)', 'Young(18-20)', 'Mid-age(31-59)', 'Adult(21-30)', 'Young(18-20)', 'Adult(21-30)', 'Mid-age(31-59)', 'Young(18-20)', 'Young(18-20)', 'Young(18-20)', 'Young(18-20)', 'Young(18-20)', 'Young(18-20)', 'SeniorCitizen(60-70)', 'Young(18-20)', 'Mid-age(31-59)', 'Mid-age(31-59)', 'Young(18-20)', 'Young(18-20)', 'SeniorCitizen(60-70)', 'Mid-age(31-59)', 'Adult(21-30)', 'Young(18-20)', 'Young(18-20)', 'SeniorCitizen(60-70)', 'Mid-age(31-59)', 'Adult(21-30)', 'Mid-age(31-59)', 'Young(18-20)', 'Young(18-20)', 'Young(18-20)', 'SeniorCitizen(60-70)', 'Young(18-20)', 'Young(18-20)', 'Young(18-20)', 'Mid-age(31-59)', 'SeniorCitizen(60-70)', 'Young(18-20)', 'Young(18-20)', 'Mid-age(31-59)', 'Mid-age(31-59)', 'SeniorCitizen(60-70)', 'SeniorCitizen(60-70)', 'Mid-age(31-59)', 'Young(18-20)', 'SeniorCitizen(60-70)', 'Mid-age(31-59)', 'SeniorCitizen(60-70)', 'Mid-age(31-59)', 'Young(18-20)', 'Young(18-20)', 'Adult(21-30)', 'Young(18-20)', 'Young(18-20)', 'Adult(21-30)', 'Mid-age(31-59)', 'SeniorCitizen(60-70)', 'Young(18-20)', 'Mid-age(31-59)', 'Young(18-20)', 'SeniorCitizen(60-70)', 'Mid-age(31-59)', 'Adult(21-30)', 'Young(18-20)', 'Young(18-20)', 'Young(18-20)', 'Adult(21-30)', 'Mid-age(31-59)', 'Mid-age(31-59)', 'Mid-age(31-59)', 'SeniorCitizen(60-70)', 'Adult(21-30)', 'Young(18-20)', 'Young(18-20)', 'Mid-age(31-59)', 'Young(18-20)', 'SeniorCitizen(60-70)', 'Young(18-20)', 'Mid-age(31-59)', 'Young(18-20)', 'SeniorCitizen(60-70)', 'Young(18-20)', 'Mid-age(31-59)', 'Mid-age(31-59)', 'Young(18-20)', 'Adult(21-30)', 'SeniorCitizen(60-70)', 'Adult(21-30)', 'SeniorCitizen(60-70)', 'Young(18-20)', 'Young(18-20)', 'Adult(21-30)', 'Young(18-20)', 'SeniorCitizen(60-70)', 'Young(18-20)', 'Mid-age(31-59)', 'Young(18-20)', 'Young(18-20)', 'Mid-age(31-59)', 'Young(18-20)', 'Young(18-20)', 'Mid-age(31-59)', 'Young(18-20)', 'Adult(21-30)', 'Young(18-20)', 'SeniorCitizen(60-70)', 'Young(18-20)', 'Young(18-20)', 'Adult(21-30)', 'Adult(21-30)', 'SeniorCitizen(60-70)', 'Adult(21-30)', 'SeniorCitizen(60-70)', 'Mid-age(31-59)', 'Adult(21-30)', 'Adult(21-30)', 'SeniorCitizen(60-70)', 'Young(18-20)', 'Mid-age(31-59)', 'Young(18-20)', 'Young(18-20)', 'Mid-age(31-59)', 'Mid-age(31-59)', 'Young(18-20)', 'Mid-age(31-59)', 'Young(18-20)', 'SeniorCitizen(60-70)', 'Adult(21-30)', 'Young(18-20)', 'Young(18-20)', 'SeniorCitizen(60-70)', 'Young(18-20)', 'Young(18-20)', 'Mid-age(31-59)', 'Young(18-20)', 'Young(18-20)', 'Adult(21-30)', 'Mid-age(31-59)', 'Young(18-20)', 'Young(18-20)', 'SeniorCitizen(60-70)', 'Mid-age(31-59)', 'Adult(21-30)', 'Mid-age(31-59)', 'Mid-age(31-59)', 'Young(18-20)', 'Young(18-20)', 'Young(18-20)', 'Mid-age(31-59)', 'Young(18-20)', 'SeniorCitizen(60-70)', 'Mid-age(31-59)', 'Adult(21-30)', 'Young(18-20)', 'SeniorCitizen(60-70)', 'Young(18-20)', 'Mid-age(31-59)', 'Mid-age(31-59)', 'Young(18-20)', 'Mid-age(31-59)', 'Young(18-20)', 'Young(18-20)', 'SeniorCitizen(60-70)', 'Adult(21-30)', 'Adult(21-30)', 'Young(18-20)', 'Young(18-20)', 'SeniorCitizen(60-70)', 'Young(18-20)', 'Young(18-20)', 'SeniorCitizen(60-70)', 'Young(18-20)', 'SeniorCitizen(60-70)', 'Young(18-20)', 'Adult(21-30)', 'Young(18-20)', 'Young(18-20)', 'Mid-age(31-59)', 'Adult(21-30)', 'Adult(21-30)', 'Mid-age(31-59)', 'Young(18-20)', 'Young(18-20)', 'Young(18-20)', 'Young(18-20)', 'Young(18-20)', 'Young(18-20)', 'Adult(21-30)', 'Adult(21-30)', 'Young(18-20)', 'Adult(21-30)', 'SeniorCitizen(60-70)', 'Adult(21-30)', 'Mid-age(31-59)', 'Adult(21-30)', 'Young(18-20)', 'Young(18-20)', 'SeniorCitizen(60-70)', 'Young(18-20)', 'Young(18-20)', 'Adult(21-30)', 'Adult(21-30)', 'Young(18-20)', 'Young(18-20)', 'Young(18-20)', 'Young(18-20)', 'Mid-age(31-59)', 'SeniorCitizen(60-70)', 'Young(18-20)', 'Adult(21-30)', 'Adult(21-30)', 'SeniorCitizen(60-70)', 'SeniorCitizen(60-70)', 'Mid-age(31-59)', 'Adult(21-30)', 'Adult(21-30)', 'Young(18-20)', 'Mid-age(31-59)', 'Young(18-20)', 'Mid-age(31-59)', 'Adult(21-30)', 'Young(18-20)', 'Young(18-20)', 'SeniorCitizen(60-70)', 'SeniorCitizen(60-70)', 'Adult(21-30)', 'Young(18-20)', 'SeniorCitizen(60-70)', 'Mid-age(31-59)', 'SeniorCitizen(60-70)', 'Young(18-20)', 'Mid-age(31-59)', 'Young(18-20)', 'Young(18-20)', 'Young(18-20)', 'Mid-age(31-59)', 'SeniorCitizen(60-70)', 'Adult(21-30)', 'Adult(21-30)', 'Adult(21-30)', 'Adult(21-30)', 'Mid-age(31-59)', 'Young(18-20)', 'SeniorCitizen(60-70)', 'Mid-age(31-59)', 'SeniorCitizen(60-70)', 'SeniorCitizen(60-70)', 'Adult(21-30)', 'Young(18-20)', 'Young(18-20)', 'Young(18-20)', 'SeniorCitizen(60-70)', 'Young(18-20)', 'Adult(21-30)', 'SeniorCitizen(60-70)', 'Young(18-20)', 'SeniorCitizen(60-70)', 'Mid-age(31-59)', 'Young(18-20)', 'Young(18-20)', 'SeniorCitizen(60-70)', 'Young(18-20)', 'Mid-age(31-59)', 'Young(18-20)', 'Young(18-20)', 'SeniorCitizen(60-70)', 'Young(18-20)', 'Young(18-20)', 'Mid-age(31-59)', 'Mid-age(31-59)', 'Mid-age(31-59)', 'Young(18-20)', 'Mid-age(31-59)', 'Young(18-20)', 'Young(18-20)', 'SeniorCitizen(60-70)', 'Mid-age(31-59)', 'Mid-age(31-59)', 'Mid-age(31-59)', 'Young(18-20)', 'Mid-age(31-59)', 'Young(18-20)', 'SeniorCitizen(60-70)', 'Mid-age(31-59)', 'Young(18-20)', 'SeniorCitizen(60-70)', 'SeniorCitizen(60-70)', 'SeniorCitizen(60-70)', 'Mid-age(31-59)', 'Young(18-20)', 'Adult(21-30)', 'Young(18-20)', 'SeniorCitizen(60-70)', 'SeniorCitizen(60-70)', 'Young(18-20)', 'Mid-age(31-59)', 'Young(18-20)', 'Mid-age(31-59)', 'SeniorCitizen(60-70)', 'Young(18-20)', 'SeniorCitizen(60-70)', 'Young(18-20)', 'Young(18-20)', 'SeniorCitizen(60-70)', 'Mid-age(31-59)', 'SeniorCitizen(60-70)', 'Young(18-20)', 'SeniorCitizen(60-70)', 'SeniorCitizen(60-70)', 'Adult(21-30)', 'Adult(21-30)', 'Adult(21-30)', 'Mid-age(31-59)', 'Adult(21-30)', 'Young(18-20)', 'Mid-age(31-59)', 'Young(18-20)', 'Young(18-20)', 'Mid-age(31-59)', 'Adult(21-30)', 'Adult(21-30)', 'Young(18-20)', 'Young(18-20)', 'Mid-age(31-59)', 'Young(18-20)', 'SeniorCitizen(60-70)', 'SeniorCitizen(60-70)', 'Adult(21-30)', 'Mid-age(31-59)', 'Adult(21-30)', 'Young(18-20)', 'Adult(21-30)', 'Young(18-20)', 'Mid-age(31-59)', 'Adult(21-30)', 'SeniorCitizen(60-70)', 'Young(18-20)', 'SeniorCitizen(60-70)', 'Young(18-20)', 'Mid-age(31-59)', 'Adult(21-30)', 'Young(18-20)', 'Young(18-20)', 'Young(18-20)', 'SeniorCitizen(60-70)', 'Young(18-20)', 'Adult(21-30)', 'Mid-age(31-59)', 'SeniorCitizen(60-70)', 'Young(18-20)', 'Young(18-20)', 'Adult(21-30)', 'Young(18-20)', 'Mid-age(31-59)', 'Adult(21-30)', 'Mid-age(31-59)', 'Mid-age(31-59)', 'Young(18-20)', 'SeniorCitizen(60-70)', 'Young(18-20)', 'Young(18-20)', 'Young(18-20)', 'Mid-age(31-59)', 'Adult(21-30)', 'Adult(21-30)', 'SeniorCitizen(60-70)', 'Young(18-20)', 'Mid-age(31-59)', 'SeniorCitizen(60-70)', 'Adult(21-30)', 'Mid-age(31-59)', 'Mid-age(31-59)', 'Mid-age(31-59)', 'Young(18-20)', 'Young(18-20)', 'Mid-age(31-59)', 'SeniorCitizen(60-70)', 'Adult(21-30)', 'Mid-age(31-59)', 'Young(18-20)', 'Young(18-20)', 'Mid-age(31-59)', 'SeniorCitizen(60-70)', 'Mid-age(31-59)', 'SeniorCitizen(60-70)', 'Young(18-20)', 'SeniorCitizen(60-70)', 'Adult(21-30)', 'Young(18-20)', 'Young(18-20)', 'Young(18-20)', 'Mid-age(31-59)', 'Adult(21-30)', 'SeniorCitizen(60-70)', 'SeniorCitizen(60-70)', 'SeniorCitizen(60-70)', 'Adult(21-30)', 'Young(18-20)', 'Young(18-20)', 'Young(18-20)', 'Mid-age(31-59)', 'Young(18-20)', 'Adult(21-30)', 'Young(18-20)', 'Young(18-20)', 'Young(18-20)', 'Young(18-20)', 'Adult(21-30)', 'Adult(21-30)', 'Young(18-20)', 'SeniorCitizen(60-70)', 'Young(18-20)', 'Mid-age(31-59)', 'Mid-age(31-59)', 'Young(18-20)', 'Young(18-20)', 'Young(18-20)', 'Young(18-20)', 'Adult(21-30)', 'SeniorCitizen(60-70)', 'Young(18-20)', 'Young(18-20)', 'Adult(21-30)', 'Young(18-20)', 'Young(18-20)', 'Mid-age(31-59)', 'Young(18-20)', 'SeniorCitizen(60-70)', 'Mid-age(31-59)', 'Mid-age(31-59)', 'Young(18-20)', 'Mid-age(31-59)', 'SeniorCitizen(60-70)', 'Young(18-20)', 'Young(18-20)', 'Young(18-20)', 'Mid-age(31-59)', 'Young(18-20)', 'Mid-age(31-59)', 'SeniorCitizen(60-70)', 'Mid-age(31-59)', 'Mid-age(31-59)', 'SeniorCitizen(60-70)', 'Mid-age(31-59)', 'Mid-age(31-59)', 'Adult(21-30)', 'Adult(21-30)', 'Young(18-20)', 'Young(18-20)', 'SeniorCitizen(60-70)', 'Young(18-20)', 'Young(18-20)', 'Young(18-20)', 'Young(18-20)', 'Adult(21-30)', 'SeniorCitizen(60-70)', 'Young(18-20)', 'Mid-age(31-59)', 'Young(18-20)', 'Young(18-20)', 'Young(18-20)', 'Mid-age(31-59)', 'Young(18-20)', 'SeniorCitizen(60-70)', 'Young(18-20)', 'Mid-age(31-59)', 'Young(18-20)', 'Mid-age(31-59)', 'Young(18-20)', 'Young(18-20)', 'Young(18-20)', 'Mid-age(31-59)', 'SeniorCitizen(60-70)', 'Young(18-20)', 'SeniorCitizen(60-70)', 'Adult(21-30)', 'SeniorCitizen(60-70)', 'SeniorCitizen(60-70)', 'SeniorCitizen(60-70)', 'Mid-age(31-59)', 'SeniorCitizen(60-70)', 'SeniorCitizen(60-70)', 'Young(18-20)', 'Mid-age(31-59)', 'Young(18-20)', 'Adult(21-30)', 'Young(18-20)', 'Young(18-20)', 'SeniorCitizen(60-70)', 'Young(18-20)', 'Mid-age(31-59)', 'Adult(21-30)', 'Young(18-20)', 'Young(18-20)', 'Young(18-20)', 'Young(18-20)', 'Young(18-20)', 'Young(18-20)', 'Mid-age(31-59)', 'Young(18-20)', 'SeniorCitizen(60-70)', 'Adult(21-30)', 'Mid-age(31-59)', 'SeniorCitizen(60-70)', 'Young(18-20)', 'Adult(21-30)', 'Mid-age(31-59)', 'Mid-age(31-59)', 'Mid-age(31-59)', 'Adult(21-30)', 'SeniorCitizen(60-70)', 'Young(18-20)', 'Young(18-20)', 'Adult(21-30)', 'Mid-age(31-59)', 'SeniorCitizen(60-70)', 'Young(18-20)', 'Mid-age(31-59)', 'Mid-age(31-59)', 'Young(18-20)', 'Young(18-20)', 'Young(18-20)', 'Young(18-20)', 'Young(18-20)', 'Mid-age(31-59)', 'Young(18-20)', 'Young(18-20)', 'Adult(21-30)', 'Adult(21-30)', 'SeniorCitizen(60-70)', 'Mid-age(31-59)', 'Mid-age(31-59)', 'SeniorCitizen(60-70)', 'Young(18-20)', 'Young(18-20)', 'Mid-age(31-59)', 'Young(18-20)', 'Young(18-20)', 'Mid-age(31-59)', 'Young(18-20)', 'Young(18-20)', 'Adult(21-30)', 'Young(18-20)', 'Young(18-20)', 'Young(18-20)', 'Adult(21-30)', 'Adult(21-30)', 'Mid-age(31-59)', 'SeniorCitizen(60-70)', 'Mid-age(31-59)', 'Young(18-20)', 'Mid-age(31-59)', 'SeniorCitizen(60-70)', 'Mid-age(31-59)', 'Mid-age(31-59)', 'Mid-age(31-59)', 'SeniorCitizen(60-70)', 'Young(18-20)', 'Young(18-20)', 'Young(18-20)', 'Young(18-20)', 'Young(18-20)', 'Young(18-20)', 'Mid-age(31-59)', 'Mid-age(31-59)', 'Young(18-20)', 'SeniorCitizen(60-70)', 'Adult(21-30)', 'Young(18-20)', 'Young(18-20)', 'Mid-age(31-59)', 'Adult(21-30)', 'Young(18-20)', 'Young(18-20)', 'SeniorCitizen(60-70)', 'SeniorCitizen(60-70)', 'SeniorCitizen(60-70)', 'Young(18-20)', 'SeniorCitizen(60-70)', 'Adult(21-30)', 'SeniorCitizen(60-70)', 'Mid-age(31-59)', 'SeniorCitizen(60-70)', 'Young(18-20)', 'Young(18-20)', 'SeniorCitizen(60-70)', 'Young(18-20)', 'Young(18-20)', 'Mid-age(31-59)', 'Young(18-20)', 'Adult(21-30)', 'SeniorCitizen(60-70)', 'Mid-age(31-59)', 'Adult(21-30)', 'Young(18-20)', 'Mid-age(31-59)', 'Young(18-20)', 'Mid-age(31-59)', 'Young(18-20)', 'Young(18-20)', 'Young(18-20)', 'Adult(21-30)', 'Young(18-20)', 'SeniorCitizen(60-70)', 'Young(18-20)', 'SeniorCitizen(60-70)', 'Mid-age(31-59)', 'Young(18-20)', 'Young(18-20)', 'Young(18-20)', 'Young(18-20)', 'Young(18-20)', 'Mid-age(31-59)', 'Mid-age(31-59)', 'Mid-age(31-59)', 'Mid-age(31-59)', 'Mid-age(31-59)', 'Adult(21-30)', 'Young(18-20)', 'Mid-age(31-59)', 'Adult(21-30)', 'Adult(21-30)', 'Adult(21-30)', 'Young(18-20)', 'Young(18-20)', 'Adult(21-30)', 'SeniorCitizen(60-70)', 'Adult(21-30)', 'Young(18-20)', 'Adult(21-30)', 'Young(18-20)', 'Young(18-20)', 'SeniorCitizen(60-70)', 'Mid-age(31-59)', 'SeniorCitizen(60-70)', 'Adult(21-30)', 'Adult(21-30)', 'Young(18-20)', 'Young(18-20)', 'SeniorCitizen(60-70)', 'Mid-age(31-59)', 'Mid-age(31-59)', 'Mid-age(31-59)', 'SeniorCitizen(60-70)', 'SeniorCitizen(60-70)', 'Adult(21-30)', 'Young(18-20)', 'Young(18-20)', 'Young(18-20)', 'Young(18-20)', 'Young(18-20)', 'Young(18-20)', 'Young(18-20)', 'Adult(21-30)', 'Young(18-20)', 'SeniorCitizen(60-70)', 'Young(18-20)', 'Young(18-20)', 'Mid-age(31-59)', 'Young(18-20)', 'Young(18-20)', 'Young(18-20)', 'Young(18-20)', 'Young(18-20)', 'Mid-age(31-59)', 'Young(18-20)', 'Young(18-20)', 'Mid-age(31-59)', 'Adult(21-30)', 'SeniorCitizen(60-70)', 'Adult(21-30)', 'Adult(21-30)', 'Adult(21-30)', 'Young(18-20)', 'SeniorCitizen(60-70)', 'Young(18-20)', 'Young(18-20)', 'SeniorCitizen(60-70)', 'Mid-age(31-59)', 'Mid-age(31-59)', 'Young(18-20)', 'SeniorCitizen(60-70)', 'Young(18-20)', 'Young(18-20)', 'SeniorCitizen(60-70)', 'Adult(21-30)', 'Mid-age(31-59)', 'SeniorCitizen(60-70)', 'Mid-age(31-59)', 'Young(18-20)', 'SeniorCitizen(60-70)', 'Young(18-20)', 'Young(18-20)', 'Young(18-20)', 'Young(18-20)', 'Young(18-20)', 'Mid-age(31-59)', 'Mid-age(31-59)', 'Adult(21-30)', 'SeniorCitizen(60-70)', 'Young(18-20)', 'Young(18-20)', 'Young(18-20)', 'Young(18-20)', 'Young(18-20)', 'SeniorCitizen(60-70)', 'Adult(21-30)', 'SeniorCitizen(60-70)', 'SeniorCitizen(60-70)', 'Mid-age(31-59)', 'Mid-age(31-59)', 'Young(18-20)', 'Young(18-20)', 'Young(18-20)', 'SeniorCitizen(60-70)', 'Adult(21-30)', 'SeniorCitizen(60-70)', 'Young(18-20)', 'Mid-age(31-59)', 'Young(18-20)', 'Young(18-20)', 'SeniorCitizen(60-70)', 'SeniorCitizen(60-70)', 'SeniorCitizen(60-70)', 'Mid-age(31-59)', 'Mid-age(31-59)', 'Mid-age(31-59)', 'Young(18-20)', 'Adult(21-30)', 'Adult(21-30)', 'Mid-age(31-59)', 'Young(18-20)', 'Mid-age(31-59)', 'Young(18-20)', 'SeniorCitizen(60-70)', 'SeniorCitizen(60-70)', 'Young(18-20)', 'Mid-age(31-59)', 'Young(18-20)', 'Young(18-20)', 'Young(18-20)', 'Mid-age(31-59)', 'SeniorCitizen(60-70)', 'Mid-age(31-59)', 'SeniorCitizen(60-70)', 'Mid-age(31-59)', 'Mid-age(31-59)', 'Young(18-20)', 'Adult(21-30)', 'Adult(21-30)', 'SeniorCitizen(60-70)', 'Adult(21-30)', 'Young(18-20)', 'Young(18-20)', 'Mid-age(31-59)', 'Young(18-20)', 'Mid-age(31-59)', 'Young(18-20)', 'SeniorCitizen(60-70)', 'Mid-age(31-59)', 'Mid-age(31-59)', 'Mid-age(31-59)', 'SeniorCitizen(60-70)', 'Mid-age(31-59)', 'Young(18-20)', 'Young(18-20)', 'Mid-age(31-59)', 'Mid-age(31-59)', 'Mid-age(31-59)', 'Young(18-20)', 'Young(18-20)', 'Young(18-20)', 'Adult(21-30)', 'Mid-age(31-59)', 'SeniorCitizen(60-70)', 'Young(18-20)', 'Young(18-20)', 'Young(18-20)', 'SeniorCitizen(60-70)', 'SeniorCitizen(60-70)', 'Young(18-20)', 'SeniorCitizen(60-70)', 'Adult(21-30)', 'Young(18-20)', 'Young(18-20)', 'Mid-age(31-59)', 'Mid-age(31-59)', 'SeniorCitizen(60-70)', 'Adult(21-30)', 'Young(18-20)', 'Young(18-20)', 'Adult(21-30)', 'Young(18-20)', 'Adult(21-30)', 'Mid-age(31-59)', 'Mid-age(31-59)', 'Young(18-20)', 'Adult(21-30)', 'SeniorCitizen(60-70)', 'Young(18-20)', 'SeniorCitizen(60-70)', 'Adult(21-30)', 'Mid-age(31-59)', 'Young(18-20)', 'Mid-age(31-59)', 'Young(18-20)', 'Young(18-20)', 'Young(18-20)', 'Young(18-20)', 'SeniorCitizen(60-70)', 'Young(18-20)', 'Young(18-20)', 'Young(18-20)', 'Mid-age(31-59)', 'SeniorCitizen(60-70)', 'Young(18-20)', 'SeniorCitizen(60-70)', 'Young(18-20)', 'Young(18-20)', 'Mid-age(31-59)', 'Young(18-20)', 'Adult(21-30)', 'Mid-age(31-59)', 'Young(18-20)', 'Young(18-20)', 'Mid-age(31-59)', 'Young(18-20)', 'Young(18-20)', 'Young(18-20)', 'Young(18-20)', 'Young(18-20)', 'Young(18-20)', 'Young(18-20)', 'Adult(21-30)', 'Young(18-20)', 'Mid-age(31-59)', 'Young(18-20)', 'Young(18-20)', 'Mid-age(31-59)', 'SeniorCitizen(60-70)', 'Mid-age(31-59)', 'Mid-age(31-59)', 'Young(18-20)', 'Mid-age(31-59)', 'SeniorCitizen(60-70)', 'Young(18-20)', 'Adult(21-30)', 'Young(18-20)', 'SeniorCitizen(60-70)', 'Young(18-20)', 'Young(18-20)', 'Young(18-20)', 'Adult(21-30)', 'Young(18-20)', 'SeniorCitizen(60-70)', 'Young(18-20)', 'Young(18-20)', 'Young(18-20)', 'Mid-age(31-59)', 'Mid-age(31-59)', 'Young(18-20)', 'Young(18-20)', 'SeniorCitizen(60-70)', 'Mid-age(31-59)', 'Adult(21-30)', 'Young(18-20)', 'Young(18-20)', 'Mid-age(31-59)', 'Mid-age(31-59)', 'Young(18-20)', 'Young(18-20)', 'Young(18-20)', 'Young(18-20)', 'Adult(21-30)', 'Mid-age(31-59)', 'Mid-age(31-59)', 'SeniorCitizen(60-70)', 'Young(18-20)', 'Young(18-20)', 'Mid-age(31-59)', 'Mid-age(31-59)', 'Young(18-20)', 'Young(18-20)', 'Young(18-20)', 'Young(18-20)', 'Adult(21-30)', 'Young(18-20)', 'SeniorCitizen(60-70)', 'SeniorCitizen(60-70)', 'SeniorCitizen(60-70)', 'Adult(21-30)', 'Young(18-20)', 'Mid-age(31-59)', 'Young(18-20)', 'Mid-age(31-59)', 'Adult(21-30)', 'Adult(21-30)', 'Adult(21-30)', 'Young(18-20)', 'Young(18-20)', 'Adult(21-30)', 'Mid-age(31-59)', 'Mid-age(31-59)', 'Young(18-20)', 'Young(18-20)', 'Young(18-20)', 'Young(18-20)', 'Young(18-20)', 'SeniorCitizen(60-70)', 'Adult(21-30)', 'Young(18-20)', 'SeniorCitizen(60-70)', 'SeniorCitizen(60-70)', 'Young(18-20)', 'Young(18-20)', 'Mid-age(31-59)', 'Mid-age(31-59)', 'Mid-age(31-59)', 'Young(18-20)', 'Young(18-20)', 'Young(18-20)', 'Mid-age(31-59)', 'Young(18-20)', 'SeniorCitizen(60-70)', 'Young(18-20)', 'Mid-age(31-59)', 'Young(18-20)', 'Adult(21-30)', 'Young(18-20)', 'Mid-age(31-59)', 'Adult(21-30)', 'Young(18-20)', 'Mid-age(31-59)', 'Mid-age(31-59)', 'Mid-age(31-59)', 'Mid-age(31-59)', 'Young(18-20)', 'Young(18-20)', 'Mid-age(31-59)', 'SeniorCitizen(60-70)', 'SeniorCitizen(60-70)', 'Mid-age(31-59)', 'Young(18-20)', 'Young(18-20)', 'Young(18-20)', 'Mid-age(31-59)', 'Mid-age(31-59)', 'Young(18-20)', 'SeniorCitizen(60-70)', 'Young(18-20)', 'Young(18-20)', 'Young(18-20)', 'Mid-age(31-59)', 'SeniorCitizen(60-70)', 'SeniorCitizen(60-70)', 'Mid-age(31-59)', 'Mid-age(31-59)', 'Mid-age(31-59)', 'Adult(21-30)', 'Young(18-20)', 'SeniorCitizen(60-70)', 'Adult(21-30)', 'SeniorCitizen(60-70)', 'Adult(21-30)', 'Young(18-20)', 'Young(18-20)', 'Mid-age(31-59)', 'Adult(21-30)', 'Mid-age(31-59)', 'Young(18-20)', 'Young(18-20)', 'Young(18-20)', 'Mid-age(31-59)', 'Mid-age(31-59)', 'Young(18-20)', 'Adult(21-30)', 'Mid-age(31-59)', 'Young(18-20)', 'Mid-age(31-59)', 'Young(18-20)', 'Mid-age(31-59)', 'SeniorCitizen(60-70)', 'Mid-age(31-59)', 'Young(18-20)', 'Mid-age(31-59)', 'Mid-age(31-59)', 'Young(18-20)', 'Young(18-20)', 'Young(18-20)', 'SeniorCitizen(60-70)', 'Young(18-20)', 'Young(18-20)', 'Young(18-20)', 'Mid-age(31-59)', 'SeniorCitizen(60-70)', 'Young(18-20)', 'SeniorCitizen(60-70)', 'Young(18-20)', 'Adult(21-30)', 'Young(18-20)', 'Mid-age(31-59)', 'Mid-age(31-59)', 'SeniorCitizen(60-70)', 'Young(18-20)', 'Adult(21-30)', 'Young(18-20)', 'Adult(21-30)', 'SeniorCitizen(60-70)', 'Mid-age(31-59)', 'Young(18-20)', 'Young(18-20)', 'Adult(21-30)', 'Young(18-20)', 'Mid-age(31-59)', 'Mid-age(31-59)', 'Mid-age(31-59)', 'Young(18-20)', 'Young(18-20)', 'Young(18-20)', 'Mid-age(31-59)', 'SeniorCitizen(60-70)', 'Adult(21-30)', 'Young(18-20)', 'Young(18-20)', 'Mid-age(31-59)', 'Young(18-20)', 'Mid-age(31-59)', 'Young(18-20)', 'Adult(21-30)', 'Adult(21-30)', 'Adult(21-30)', 'Young(18-20)', 'Young(18-20)', 'Young(18-20)', 'Young(18-20)', 'Adult(21-30)', 'Adult(21-30)', 'Young(18-20)', 'Young(18-20)', 'SeniorCitizen(60-70)', 'Young(18-20)', 'Young(18-20)', 'Young(18-20)', 'Young(18-20)', 'Adult(21-30)', 'Mid-age(31-59)', 'Mid-age(31-59)', 'Young(18-20)', 'Mid-age(31-59)', 'Young(18-20)', 'Mid-age(31-59)', 'Mid-age(31-59)', 'SeniorCitizen(60-70)', 'Mid-age(31-59)', 'Mid-age(31-59)', 'Young(18-20)', 'Mid-age(31-59)', 'Adult(21-30)', 'Young(18-20)', 'Young(18-20)', 'Mid-age(31-59)', 'Young(18-20)', 'Mid-age(31-59)', 'Young(18-20)', 'Mid-age(31-59)', 'Adult(21-30)', 'Young(18-20)', 'Young(18-20)', 'Mid-age(31-59)', 'Young(18-20)', 'Mid-age(31-59)', 'Mid-age(31-59)', 'SeniorCitizen(60-70)', 'SeniorCitizen(60-70)', 'Young(18-20)', 'SeniorCitizen(60-70)', 'SeniorCitizen(60-70)', 'SeniorCitizen(60-70)', 'Young(18-20)', 'Young(18-20)', 'Adult(21-30)', 'Young(18-20)', 'Adult(21-30)', 'Young(18-20)', 'Young(18-20)', 'Young(18-20)', 'Mid-age(31-59)', 'SeniorCitizen(60-70)', 'Young(18-20)', 'Young(18-20)', 'SeniorCitizen(60-70)', 'Mid-age(31-59)', 'Young(18-20)', 'Adult(21-30)', 'Adult(21-30)', 'SeniorCitizen(60-70)', 'Mid-age(31-59)', 'Young(18-20)', 'Young(18-20)', 'Mid-age(31-59)', 'Young(18-20)', 'Young(18-20)', 'Adult(21-30)', 'Young(18-20)', 'Young(18-20)', 'SeniorCitizen(60-70)', 'Mid-age(31-59)', 'Young(18-20)', 'Adult(21-30)', 'Mid-age(31-59)', 'Young(18-20)', 'Mid-age(31-59)', 'Mid-age(31-59)', 'Young(18-20)', 'Young(18-20)', 'Adult(21-30)', 'Mid-age(31-59)', 'SeniorCitizen(60-70)', 'Young(18-20)', 'Young(18-20)', 'Adult(21-30)', 'Young(18-20)', 'Young(18-20)', 'Mid-age(31-59)', 'SeniorCitizen(60-70)', 'Young(18-20)', 'Young(18-20)', 'Mid-age(31-59)', 'Mid-age(31-59)', 'Mid-age(31-59)', 'SeniorCitizen(60-70)', 'Mid-age(31-59)', 'Adult(21-30)', 'Young(18-20)', 'Young(18-20)', 'Young(18-20)', 'Adult(21-30)', 'Young(18-20)', 'Adult(21-30)', 'Young(18-20)', 'Young(18-20)', 'Young(18-20)', 'Adult(21-30)', 'Mid-age(31-59)', 'SeniorCitizen(60-70)', 'Mid-age(31-59)', 'Adult(21-30)', 'Mid-age(31-59)', 'SeniorCitizen(60-70)', 'Adult(21-30)', 'Young(18-20)', 'Young(18-20)', 'Young(18-20)', 'Young(18-20)', 'Mid-age(31-59)', 'Mid-age(31-59)', 'Young(18-20)', 'Mid-age(31-59)', 'Young(18-20)', 'Young(18-20)', 'Young(18-20)', 'Young(18-20)', 'Young(18-20)', 'Young(18-20)', 'Mid-age(31-59)', 'Young(18-20)', 'SeniorCitizen(60-70)', 'Mid-age(31-59)', 'SeniorCitizen(60-70)', 'SeniorCitizen(60-70)', 'Adult(21-30)', 'Young(18-20)', 'SeniorCitizen(60-70)', 'SeniorCitizen(60-70)', 'Adult(21-30)', 'Adult(21-30)', 'Young(18-20)', 'Mid-age(31-59)', 'Adult(21-30)', 'Mid-age(31-59)', 'Adult(21-30)', 'Young(18-20)', 'Mid-age(31-59)', 'Mid-age(31-59)', 'Young(18-20)', 'Young(18-20)', 'SeniorCitizen(60-70)', 'Adult(21-30)', 'Young(18-20)', 'Mid-age(31-59)', 'Mid-age(31-59)', 'Mid-age(31-59)', 'Mid-age(31-59)', 'Young(18-20)', 'Young(18-20)', 'Young(18-20)', 'Young(18-20)', 'Adult(21-30)', 'Young(18-20)', 'Mid-age(31-59)', 'Adult(21-30)', 'SeniorCitizen(60-70)', 'Adult(21-30)', 'Adult(21-30)', 'Mid-age(31-59)', 'Young(18-20)', 'Young(18-20)', 'Young(18-20)', 'Mid-age(31-59)', 'SeniorCitizen(60-70)', 'Young(18-20)', 'Young(18-20)', 'SeniorCitizen(60-70)', 'Mid-age(31-59)', 'Adult(21-30)', 'Young(18-20)', 'SeniorCitizen(60-70)', 'Young(18-20)', 'Young(18-20)', 'Mid-age(31-59)', 'Young(18-20)', 'Young(18-20)', 'Adult(21-30)', 'Young(18-20)', 'SeniorCitizen(60-70)', 'Adult(21-30)', 'Young(18-20)', 'Young(18-20)', 'Adult(21-30)', 'Adult(21-30)', 'SeniorCitizen(60-70)', 'Mid-age(31-59)', 'Mid-age(31-59)', 'Adult(21-30)', 'Young(18-20)', 'Young(18-20)', 'Young(18-20)', 'Mid-age(31-59)', 'Mid-age(31-59)', 'Young(18-20)', 'Young(18-20)', 'Young(18-20)', 'Young(18-20)', 'Adult(21-30)', 'Mid-age(31-59)', 'Mid-age(31-59)', 'Young(18-20)', 'Mid-age(31-59)', 'Mid-age(31-59)', 'Young(18-20)', 'SeniorCitizen(60-70)', 'SeniorCitizen(60-70)', 'Adult(21-30)', 'Mid-age(31-59)', 'Mid-age(31-59)', 'Mid-age(31-59)', 'SeniorCitizen(60-70)', 'Young(18-20)', 'Young(18-20)', 'Adult(21-30)', 'SeniorCitizen(60-70)', 'Young(18-20)', 'Adult(21-30)', 'Mid-age(31-59)', 'Mid-age(31-59)', 'SeniorCitizen(60-70)', 'Young(18-20)', 'SeniorCitizen(60-70)', 'Adult(21-30)', 'SeniorCitizen(60-70)', 'SeniorCitizen(60-70)', 'Adult(21-30)', 'Mid-age(31-59)', 'Mid-age(31-59)', 'Young(18-20)', 'Young(18-20)', 'Young(18-20)', 'Young(18-20)', 'Mid-age(31-59)', 'Mid-age(31-59)', 'Adult(21-30)', 'Young(18-20)', 'Young(18-20)', 'SeniorCitizen(60-70)', 'Young(18-20)', 'Mid-age(31-59)', 'Young(18-20)', 'Young(18-20)', 'Young(18-20)', 'Mid-age(31-59)', 'Adult(21-30)', 'SeniorCitizen(60-70)', 'Adult(21-30)', 'Young(18-20)', 'Young(18-20)', 'Young(18-20)', 'Mid-age(31-59)', 'Young(18-20)', 'Young(18-20)', 'SeniorCitizen(60-70)', 'Mid-age(31-59)', 'Young(18-20)', 'SeniorCitizen(60-70)', 'Young(18-20)', 'Young(18-20)', 'Young(18-20)', 'SeniorCitizen(60-70)', 'Young(18-20)', 'Mid-age(31-59)', 'Mid-age(31-59)', 'Adult(21-30)', 'Mid-age(31-59)', 'Young(18-20)', 'Mid-age(31-59)', 'Mid-age(31-59)', 'Young(18-20)', 'SeniorCitizen(60-70)', 'Young(18-20)', 'SeniorCitizen(60-70)', 'SeniorCitizen(60-70)', 'Adult(21-30)', 'Young(18-20)', 'Young(18-20)', 'Mid-age(31-59)', 'Young(18-20)', 'Young(18-20)', 'Young(18-20)', 'Young(18-20)', 'Young(18-20)', 'Young(18-20)', 'Mid-age(31-59)', 'Young(18-20)', 'Young(18-20)', 'Young(18-20)', 'Young(18-20)', 'Young(18-20)', 'Mid-age(31-59)', 'Young(18-20)', 'Mid-age(31-59)', 'Mid-age(31-59)', 'Young(18-20)', 'Young(18-20)', 'Young(18-20)', 'Adult(21-30)', 'Mid-age(31-59)', 'Young(18-20)', 'Mid-age(31-59)', 'Mid-age(31-59)', 'SeniorCitizen(60-70)', 'Adult(21-30)', 'Mid-age(31-59)', 'Young(18-20)', 'SeniorCitizen(60-70)', 'Young(18-20)', 'Adult(21-30)', 'SeniorCitizen(60-70)', 'Adult(21-30)', 'SeniorCitizen(60-70)', 'Mid-age(31-59)', 'Young(18-20)', 'Adult(21-30)', 'Young(18-20)', 'SeniorCitizen(60-70)', 'Adult(21-30)', 'Young(18-20)', 'SeniorCitizen(60-70)', 'Young(18-20)', 'SeniorCitizen(60-70)', 'Young(18-20)', 'Young(18-20)', 'Mid-age(31-59)', 'Mid-age(31-59)', 'Mid-age(31-59)', 'Young(18-20)', 'Young(18-20)', 'Mid-age(31-59)', 'SeniorCitizen(60-70)', 'Young(18-20)', 'Adult(21-30)', 'SeniorCitizen(60-70)', 'SeniorCitizen(60-70)', 'Young(18-20)', 'Young(18-20)', 'Young(18-20)', 'Young(18-20)', 'Young(18-20)', 'Adult(21-30)', 'Young(18-20)', 'SeniorCitizen(60-70)', 'Young(18-20)', 'Mid-age(31-59)', 'Adult(21-30)', 'Mid-age(31-59)', 'Young(18-20)', 'Mid-age(31-59)', 'Mid-age(31-59)', 'Young(18-20)', 'Young(18-20)', 'Young(18-20)', 'Mid-age(31-59)', 'Mid-age(31-59)', 'Mid-age(31-59)', 'Young(18-20)', 'Young(18-20)', 'Mid-age(31-59)', 'SeniorCitizen(60-70)', 'Adult(21-30)', 'SeniorCitizen(60-70)', 'Adult(21-30)', 'Young(18-20)', 'Young(18-20)', 'Young(18-20)', 'Mid-age(31-59)', 'Young(18-20)', 'Adult(21-30)', 'Adult(21-30)', 'Mid-age(31-59)', 'Adult(21-30)', 'Adult(21-30)', 'Adult(21-30)', 'Young(18-20)', 'Young(18-20)', 'Adult(21-30)', 'Mid-age(31-59)', 'Mid-age(31-59)', 'SeniorCitizen(60-70)', 'Young(18-20)', 'Adult(21-30)', 'Young(18-20)', 'SeniorCitizen(60-70)', 'Mid-age(31-59)', 'Mid-age(31-59)', 'Young(18-20)', 'Young(18-20)', 'Adult(21-30)', 'Mid-age(31-59)', 'Mid-age(31-59)', 'SeniorCitizen(60-70)', 'Mid-age(31-59)', 'Young(18-20)', 'Young(18-20)', 'Mid-age(31-59)', 'Young(18-20)', 'SeniorCitizen(60-70)', 'Young(18-20)', 'SeniorCitizen(60-70)', 'Adult(21-30)', 'SeniorCitizen(60-70)', 'Young(18-20)', 'Mid-age(31-59)', 'Young(18-20)', 'Young(18-20)', 'Adult(21-30)', 'Young(18-20)', 'Mid-age(31-59)', 'Young(18-20)', 'Mid-age(31-59)', 'SeniorCitizen(60-70)', 'Adult(21-30)', 'Young(18-20)', 'Adult(21-30)', 'Adult(21-30)', 'Young(18-20)', 'Young(18-20)', 'Young(18-20)', 'Young(18-20)', 'Adult(21-30)', 'Young(18-20)', 'Adult(21-30)', 'Young(18-20)', 'Mid-age(31-59)', 'Mid-age(31-59)', 'Young(18-20)', 'Adult(21-30)', 'Young(18-20)', 'Young(18-20)', 'Young(18-20)', 'Adult(21-30)', 'Mid-age(31-59)', 'Mid-age(31-59)', 'Young(18-20)', 'Mid-age(31-59)', 'Young(18-20)', 'Mid-age(31-59)', 'Mid-age(31-59)', 'SeniorCitizen(60-70)', 'Mid-age(31-59)', 'Young(18-20)', 'Mid-age(31-59)', 'Young(18-20)', 'Mid-age(31-59)', 'Young(18-20)', 'Mid-age(31-59)', 'Mid-age(31-59)', 'Young(18-20)', 'Young(18-20)', 'SeniorCitizen(60-70)', 'Young(18-20)', 'Young(18-20)', 'SeniorCitizen(60-70)', 'Young(18-20)', 'Mid-age(31-59)', 'Young(18-20)', 'SeniorCitizen(60-70)', 'Adult(21-30)', 'SeniorCitizen(60-70)', 'Mid-age(31-59)', 'Adult(21-30)', 'SeniorCitizen(60-70)', 'Young(18-20)', 'SeniorCitizen(60-70)', 'SeniorCitizen(60-70)', 'Young(18-20)', 'Young(18-20)', 'SeniorCitizen(60-70)', 'SeniorCitizen(60-70)', 'SeniorCitizen(60-70)', 'Adult(21-30)', 'Mid-age(31-59)', 'Adult(21-30)', 'Young(18-20)', 'Mid-age(31-59)', 'Young(18-20)', 'SeniorCitizen(60-70)', 'Young(18-20)', 'Mid-age(31-59)', 'Young(18-20)', 'Young(18-20)', 'Mid-age(31-59)', 'Adult(21-30)', 'SeniorCitizen(60-70)', 'Mid-age(31-59)', 'Mid-age(31-59)', 'Adult(21-30)', 'Young(18-20)', 'Mid-age(31-59)', 'SeniorCitizen(60-70)', 'Mid-age(31-59)', 'Young(18-20)', 'Mid-age(31-59)', 'Adult(21-30)', 'Young(18-20)', 'Young(18-20)', 'Young(18-20)', 'Young(18-20)', 'Adult(21-30)', 'Young(18-20)', 'Young(18-20)', 'Adult(21-30)', 'Young(18-20)', 'SeniorCitizen(60-70)', 'SeniorCitizen(60-70)', 'Young(18-20)', 'SeniorCitizen(60-70)', 'Young(18-20)', 'Adult(21-30)', 'Young(18-20)', 'Young(18-20)', 'SeniorCitizen(60-70)', 'Young(18-20)', 'Young(18-20)', 'Mid-age(31-59)', 'Young(18-20)', 'Mid-age(31-59)', 'Young(18-20)', 'Young(18-20)', 'SeniorCitizen(60-70)', 'Adult(21-30)', 'Young(18-20)', 'Young(18-20)', 'Young(18-20)', 'Adult(21-30)', 'SeniorCitizen(60-70)', 'Young(18-20)', 'SeniorCitizen(60-70)', 'SeniorCitizen(60-70)', 'Young(18-20)', 'Young(18-20)', 'Young(18-20)', 'Young(18-20)', 'Young(18-20)', 'Mid-age(31-59)', 'Mid-age(31-59)', 'Mid-age(31-59)', 'SeniorCitizen(60-70)', 'Young(18-20)']\n"
     ]
    }
   ],
   "source": [
    "age=choose(customer)\n",
    "print(age)"
   ]
  },
  {
   "cell_type": "code",
   "execution_count": 18,
   "id": "82a0f4a6",
   "metadata": {},
   "outputs": [
    {
     "data": {
      "text/plain": [
       "0"
      ]
     },
     "execution_count": 18,
     "metadata": {},
     "output_type": "execute_result"
    }
   ],
   "source": [
    "#creat a new column 'age' and check if the variable contain null values\n",
    "customer['Age'] = age\n",
    "customer['Age'].isnull().sum()"
   ]
  },
  {
   "cell_type": "code",
   "execution_count": 19,
   "id": "bcb99fa0",
   "metadata": {},
   "outputs": [
    {
     "data": {
      "text/html": [
       "<div>\n",
       "<style scoped>\n",
       "    .dataframe tbody tr th:only-of-type {\n",
       "        vertical-align: middle;\n",
       "    }\n",
       "\n",
       "    .dataframe tbody tr th {\n",
       "        vertical-align: top;\n",
       "    }\n",
       "\n",
       "    .dataframe thead th {\n",
       "        text-align: right;\n",
       "    }\n",
       "</style>\n",
       "<table border=\"1\" class=\"dataframe\">\n",
       "  <thead>\n",
       "    <tr style=\"text-align: right;\">\n",
       "      <th></th>\n",
       "      <th>0</th>\n",
       "      <th>1</th>\n",
       "      <th>2</th>\n",
       "      <th>3</th>\n",
       "      <th>4</th>\n",
       "    </tr>\n",
       "  </thead>\n",
       "  <tbody>\n",
       "    <tr>\n",
       "      <th>customerID</th>\n",
       "      <td>7590-VHVEG</td>\n",
       "      <td>5575-GNVDE</td>\n",
       "      <td>3668-QPYBK</td>\n",
       "      <td>7795-CFOCW</td>\n",
       "      <td>9237-HQITU</td>\n",
       "    </tr>\n",
       "    <tr>\n",
       "      <th>gender</th>\n",
       "      <td>Female</td>\n",
       "      <td>Male</td>\n",
       "      <td>Male</td>\n",
       "      <td>Male</td>\n",
       "      <td>Female</td>\n",
       "    </tr>\n",
       "    <tr>\n",
       "      <th>SeniorCitizen</th>\n",
       "      <td>0</td>\n",
       "      <td>0</td>\n",
       "      <td>0</td>\n",
       "      <td>0</td>\n",
       "      <td>0</td>\n",
       "    </tr>\n",
       "    <tr>\n",
       "      <th>Partner</th>\n",
       "      <td>Yes</td>\n",
       "      <td>No</td>\n",
       "      <td>No</td>\n",
       "      <td>No</td>\n",
       "      <td>No</td>\n",
       "    </tr>\n",
       "    <tr>\n",
       "      <th>Dependents</th>\n",
       "      <td>No</td>\n",
       "      <td>No</td>\n",
       "      <td>No</td>\n",
       "      <td>No</td>\n",
       "      <td>No</td>\n",
       "    </tr>\n",
       "    <tr>\n",
       "      <th>tenure</th>\n",
       "      <td>1</td>\n",
       "      <td>34</td>\n",
       "      <td>2</td>\n",
       "      <td>45</td>\n",
       "      <td>2</td>\n",
       "    </tr>\n",
       "    <tr>\n",
       "      <th>PhoneService</th>\n",
       "      <td>No</td>\n",
       "      <td>Yes</td>\n",
       "      <td>Yes</td>\n",
       "      <td>No</td>\n",
       "      <td>Yes</td>\n",
       "    </tr>\n",
       "    <tr>\n",
       "      <th>MultipleLines</th>\n",
       "      <td>No phone service</td>\n",
       "      <td>No</td>\n",
       "      <td>No</td>\n",
       "      <td>No phone service</td>\n",
       "      <td>No</td>\n",
       "    </tr>\n",
       "    <tr>\n",
       "      <th>InternetService</th>\n",
       "      <td>DSL</td>\n",
       "      <td>DSL</td>\n",
       "      <td>DSL</td>\n",
       "      <td>DSL</td>\n",
       "      <td>Fiber optic</td>\n",
       "    </tr>\n",
       "    <tr>\n",
       "      <th>OnlineSecurity</th>\n",
       "      <td>No</td>\n",
       "      <td>Yes</td>\n",
       "      <td>Yes</td>\n",
       "      <td>Yes</td>\n",
       "      <td>No</td>\n",
       "    </tr>\n",
       "    <tr>\n",
       "      <th>OnlineBackup</th>\n",
       "      <td>Yes</td>\n",
       "      <td>No</td>\n",
       "      <td>Yes</td>\n",
       "      <td>No</td>\n",
       "      <td>No</td>\n",
       "    </tr>\n",
       "    <tr>\n",
       "      <th>DeviceProtection</th>\n",
       "      <td>No</td>\n",
       "      <td>Yes</td>\n",
       "      <td>No</td>\n",
       "      <td>Yes</td>\n",
       "      <td>No</td>\n",
       "    </tr>\n",
       "    <tr>\n",
       "      <th>TechSupport</th>\n",
       "      <td>No</td>\n",
       "      <td>No</td>\n",
       "      <td>No</td>\n",
       "      <td>Yes</td>\n",
       "      <td>No</td>\n",
       "    </tr>\n",
       "    <tr>\n",
       "      <th>StreamingTV</th>\n",
       "      <td>No</td>\n",
       "      <td>No</td>\n",
       "      <td>No</td>\n",
       "      <td>No</td>\n",
       "      <td>No</td>\n",
       "    </tr>\n",
       "    <tr>\n",
       "      <th>StreamingMovies</th>\n",
       "      <td>No</td>\n",
       "      <td>No</td>\n",
       "      <td>No</td>\n",
       "      <td>No</td>\n",
       "      <td>No</td>\n",
       "    </tr>\n",
       "    <tr>\n",
       "      <th>Contract</th>\n",
       "      <td>Month-to-month</td>\n",
       "      <td>One year</td>\n",
       "      <td>Month-to-month</td>\n",
       "      <td>One year</td>\n",
       "      <td>Month-to-month</td>\n",
       "    </tr>\n",
       "    <tr>\n",
       "      <th>PaperlessBilling</th>\n",
       "      <td>Yes</td>\n",
       "      <td>No</td>\n",
       "      <td>Yes</td>\n",
       "      <td>No</td>\n",
       "      <td>Yes</td>\n",
       "    </tr>\n",
       "    <tr>\n",
       "      <th>PaymentMethod</th>\n",
       "      <td>Electronic check</td>\n",
       "      <td>Mailed check</td>\n",
       "      <td>Mailed check</td>\n",
       "      <td>Bank transfer (automatic)</td>\n",
       "      <td>Electronic check</td>\n",
       "    </tr>\n",
       "    <tr>\n",
       "      <th>MonthlyCharges</th>\n",
       "      <td>29.85</td>\n",
       "      <td>56.95</td>\n",
       "      <td>53.85</td>\n",
       "      <td>42.3</td>\n",
       "      <td>70.7</td>\n",
       "    </tr>\n",
       "    <tr>\n",
       "      <th>TotalCharges</th>\n",
       "      <td>29.85</td>\n",
       "      <td>1889.5</td>\n",
       "      <td>108.15</td>\n",
       "      <td>1840.75</td>\n",
       "      <td>151.65</td>\n",
       "    </tr>\n",
       "    <tr>\n",
       "      <th>Churn</th>\n",
       "      <td>No</td>\n",
       "      <td>No</td>\n",
       "      <td>Yes</td>\n",
       "      <td>No</td>\n",
       "      <td>Yes</td>\n",
       "    </tr>\n",
       "    <tr>\n",
       "      <th>Age</th>\n",
       "      <td>Adult(21-30)</td>\n",
       "      <td>Young(18-20)</td>\n",
       "      <td>Young(18-20)</td>\n",
       "      <td>Young(18-20)</td>\n",
       "      <td>Young(18-20)</td>\n",
       "    </tr>\n",
       "  </tbody>\n",
       "</table>\n",
       "</div>"
      ],
      "text/plain": [
       "                                 0             1               2  \\\n",
       "customerID              7590-VHVEG    5575-GNVDE      3668-QPYBK   \n",
       "gender                      Female          Male            Male   \n",
       "SeniorCitizen                    0             0               0   \n",
       "Partner                        Yes            No              No   \n",
       "Dependents                      No            No              No   \n",
       "tenure                           1            34               2   \n",
       "PhoneService                    No           Yes             Yes   \n",
       "MultipleLines     No phone service            No              No   \n",
       "InternetService                DSL           DSL             DSL   \n",
       "OnlineSecurity                  No           Yes             Yes   \n",
       "OnlineBackup                   Yes            No             Yes   \n",
       "DeviceProtection                No           Yes              No   \n",
       "TechSupport                     No            No              No   \n",
       "StreamingTV                     No            No              No   \n",
       "StreamingMovies                 No            No              No   \n",
       "Contract            Month-to-month      One year  Month-to-month   \n",
       "PaperlessBilling               Yes            No             Yes   \n",
       "PaymentMethod     Electronic check  Mailed check    Mailed check   \n",
       "MonthlyCharges               29.85         56.95           53.85   \n",
       "TotalCharges                 29.85        1889.5          108.15   \n",
       "Churn                           No            No             Yes   \n",
       "Age                   Adult(21-30)  Young(18-20)    Young(18-20)   \n",
       "\n",
       "                                          3                 4  \n",
       "customerID                       7795-CFOCW        9237-HQITU  \n",
       "gender                                 Male            Female  \n",
       "SeniorCitizen                             0                 0  \n",
       "Partner                                  No                No  \n",
       "Dependents                               No                No  \n",
       "tenure                                   45                 2  \n",
       "PhoneService                             No               Yes  \n",
       "MultipleLines              No phone service                No  \n",
       "InternetService                         DSL       Fiber optic  \n",
       "OnlineSecurity                          Yes                No  \n",
       "OnlineBackup                             No                No  \n",
       "DeviceProtection                        Yes                No  \n",
       "TechSupport                             Yes                No  \n",
       "StreamingTV                              No                No  \n",
       "StreamingMovies                          No                No  \n",
       "Contract                           One year    Month-to-month  \n",
       "PaperlessBilling                         No               Yes  \n",
       "PaymentMethod     Bank transfer (automatic)  Electronic check  \n",
       "MonthlyCharges                         42.3              70.7  \n",
       "TotalCharges                        1840.75            151.65  \n",
       "Churn                                    No               Yes  \n",
       "Age                            Young(18-20)      Young(18-20)  "
      ]
     },
     "execution_count": 19,
     "metadata": {},
     "output_type": "execute_result"
    }
   ],
   "source": [
    "#find the transpose of the data frame to check whether new changes got reflected in the data set\n",
    "customer.head().T"
   ]
  },
  {
   "cell_type": "markdown",
   "id": "0246247e",
   "metadata": {},
   "source": [
    "# Questions and its solutions"
   ]
  },
  {
   "cell_type": "markdown",
   "id": "5865ce14",
   "metadata": {},
   "source": [
    "QUESTIONS"
   ]
  },
  {
   "cell_type": "markdown",
   "id": "4db08e6c",
   "metadata": {},
   "source": [
    "1. How many customers are present in the dataset?\n",
    "2. What is the distribution of gender among the customers?\n",
    "3. How does age vary among the customers?\n",
    "4. What are the different locations from which customers belong?\n",
    "5. How long have customers been using the service on average?\n",
    "6. What is the distribution of subscription types?\n",
    "7. What is the average monthly charge incurred by customers?\n",
    "8. What is the range of total charges accumulated by customers?\n",
    "9. How many customers have churned?\n",
    "10. What is the churn rate in the dataset?\n",
    "11. How does churn vary across different genders?\n",
    "12. Are there any differences in churn based on the customer's age?\n",
    "13. Are customers from specific locations more likely to churn?\n",
    "14. Does the subscription type influence customer churn?\n",
    "15. Is there any correlation between monthly charges and total charges?"
   ]
  },
  {
   "cell_type": "markdown",
   "id": "293cf099",
   "metadata": {},
   "source": [
    "SOLUTIONS"
   ]
  },
  {
   "cell_type": "markdown",
   "id": "c32b72e8",
   "metadata": {},
   "source": [
    "1.How many customers are present in the dataset?"
   ]
  },
  {
   "cell_type": "code",
   "execution_count": 20,
   "id": "0c40fefd",
   "metadata": {},
   "outputs": [
    {
     "name": "stdout",
     "output_type": "stream",
     "text": [
      "Number of customers present in the dataset is 7043\n"
     ]
    }
   ],
   "source": [
    "\n",
    "print(f'Number of customers present in the dataset is', customer['customerID'].count())\n"
   ]
  },
  {
   "cell_type": "markdown",
   "id": "2ec4b83a",
   "metadata": {},
   "source": [
    "2. What is the distribution of gender among the customers?"
   ]
  },
  {
   "cell_type": "code",
   "execution_count": 21,
   "id": "c2dda1c0",
   "metadata": {},
   "outputs": [
    {
     "data": {
      "text/plain": [
       "Male      3555\n",
       "Female    3488\n",
       "Name: gender, dtype: int64"
      ]
     },
     "execution_count": 21,
     "metadata": {},
     "output_type": "execute_result"
    }
   ],
   "source": [
    "customer['gender'].value_counts()"
   ]
  },
  {
   "cell_type": "code",
   "execution_count": 22,
   "id": "d50447e3",
   "metadata": {},
   "outputs": [
    {
     "data": {
      "text/plain": [
       "Text(0, 0.5, 'Count')"
      ]
     },
     "execution_count": 22,
     "metadata": {},
     "output_type": "execute_result"
    },
    {
     "data": {
      "image/png": "[encoded data removed]",
      "text/plain": [
       "<Figure size 432x288 with 1 Axes>"
      ]
     },
     "metadata": {
      "needs_background": "light"
     },
     "output_type": "display_data"
    }
   ],
   "source": [
    "# check the distribution of gender among customer\n",
    "\n",
    "total_customer = customer['gender'].count()\n",
    "male_customer = customer['gender'].value_counts()['Male']\n",
    "female_customer = customer['gender'].value_counts()['Female']\n",
    "\n",
    "sns.barplot(data=customer,x=['Total Customer', 'Male Customer', 'Female Customer'], y=[total_customer,male_customer,female_customer])\n",
    "plt.title('Distribution of Gender')\n",
    "plt.ylabel('Count')\n",
    "#plt.xlabel('Gender')"
   ]
  },
  {
   "cell_type": "markdown",
   "id": "4f8b5a98",
   "metadata": {},
   "source": [
    "3.How does age vary among the customers?"
   ]
  },
  {
   "cell_type": "code",
   "execution_count": 23,
   "id": "671fb4b8",
   "metadata": {},
   "outputs": [
    {
     "data": {
      "text/html": [
       "<div>\n",
       "<style scoped>\n",
       "    .dataframe tbody tr th:only-of-type {\n",
       "        vertical-align: middle;\n",
       "    }\n",
       "\n",
       "    .dataframe tbody tr th {\n",
       "        vertical-align: top;\n",
       "    }\n",
       "\n",
       "    .dataframe thead th {\n",
       "        text-align: right;\n",
       "    }\n",
       "</style>\n",
       "<table border=\"1\" class=\"dataframe\">\n",
       "  <thead>\n",
       "    <tr style=\"text-align: right;\">\n",
       "      <th></th>\n",
       "      <th>Age</th>\n",
       "      <th>Count</th>\n",
       "    </tr>\n",
       "  </thead>\n",
       "  <tbody>\n",
       "    <tr>\n",
       "      <th>0</th>\n",
       "      <td>Young(18-20)</td>\n",
       "      <td>3072</td>\n",
       "    </tr>\n",
       "    <tr>\n",
       "      <th>1</th>\n",
       "      <td>Mid-age(31-59)</td>\n",
       "      <td>1666</td>\n",
       "    </tr>\n",
       "    <tr>\n",
       "      <th>2</th>\n",
       "      <td>Adult(21-30)</td>\n",
       "      <td>1163</td>\n",
       "    </tr>\n",
       "    <tr>\n",
       "      <th>3</th>\n",
       "      <td>SeniorCitizen(60-70)</td>\n",
       "      <td>1142</td>\n",
       "    </tr>\n",
       "  </tbody>\n",
       "</table>\n",
       "</div>"
      ],
      "text/plain": [
       "                    Age  Count\n",
       "0          Young(18-20)   3072\n",
       "1        Mid-age(31-59)   1666\n",
       "2          Adult(21-30)   1163\n",
       "3  SeniorCitizen(60-70)   1142"
      ]
     },
     "execution_count": 23,
     "metadata": {},
     "output_type": "execute_result"
    }
   ],
   "source": [
    "age_group = customer['Age'].value_counts().reset_index()\n",
    "age_group.columns = ['Age','Count']\n",
    "age_group"
   ]
  },
  {
   "cell_type": "code",
   "execution_count": 24,
   "id": "d19f04d4",
   "metadata": {},
   "outputs": [
    {
     "data": {
      "text/plain": [
       "<AxesSubplot:xlabel='Age', ylabel='Count'>"
      ]
     },
     "execution_count": 24,
     "metadata": {},
     "output_type": "execute_result"
    },
    {
     "data": {
      "image/png": "[encoded data removed]",
      "text/plain": [
       "<Figure size 576x360 with 1 Axes>"
      ]
     },
     "metadata": {
      "needs_background": "light"
     },
     "output_type": "display_data"
    }
   ],
   "source": [
    "plt.figure(figsize=(8,5))\n",
    "sns.barplot(data=customer,x=age_group['Age'],y=age_group['Count'])"
   ]
  },
  {
   "cell_type": "markdown",
   "id": "ecc4669a",
   "metadata": {},
   "source": [
    "Among the age group Young(18 - 20), Mid-age(31 - 59), Adult(21 - 30), SeniorCitizen(60 - 70) we can say that Young and\n",
    "Middle aged customer are more in numbers that other aged group."
   ]
  },
  {
   "cell_type": "markdown",
   "id": "3a0e3b3a",
   "metadata": {},
   "source": [
    "4. What are the different locations from which customers belong?"
   ]
  },
  {
   "cell_type": "code",
   "execution_count": 25,
   "id": "9e7b1b28",
   "metadata": {},
   "outputs": [
    {
     "data": {
      "text/html": [
       "<div>\n",
       "<style scoped>\n",
       "    .dataframe tbody tr th:only-of-type {\n",
       "        vertical-align: middle;\n",
       "    }\n",
       "\n",
       "    .dataframe tbody tr th {\n",
       "        vertical-align: top;\n",
       "    }\n",
       "\n",
       "    .dataframe thead th {\n",
       "        text-align: right;\n",
       "    }\n",
       "</style>\n",
       "<table border=\"1\" class=\"dataframe\">\n",
       "  <thead>\n",
       "    <tr style=\"text-align: right;\">\n",
       "      <th></th>\n",
       "      <th>0</th>\n",
       "      <th>1</th>\n",
       "      <th>2</th>\n",
       "      <th>3</th>\n",
       "      <th>4</th>\n",
       "    </tr>\n",
       "  </thead>\n",
       "  <tbody>\n",
       "    <tr>\n",
       "      <th>customerID</th>\n",
       "      <td>7590-VHVEG</td>\n",
       "      <td>5575-GNVDE</td>\n",
       "      <td>3668-QPYBK</td>\n",
       "      <td>7795-CFOCW</td>\n",
       "      <td>9237-HQITU</td>\n",
       "    </tr>\n",
       "    <tr>\n",
       "      <th>gender</th>\n",
       "      <td>Female</td>\n",
       "      <td>Male</td>\n",
       "      <td>Male</td>\n",
       "      <td>Male</td>\n",
       "      <td>Female</td>\n",
       "    </tr>\n",
       "    <tr>\n",
       "      <th>SeniorCitizen</th>\n",
       "      <td>0</td>\n",
       "      <td>0</td>\n",
       "      <td>0</td>\n",
       "      <td>0</td>\n",
       "      <td>0</td>\n",
       "    </tr>\n",
       "    <tr>\n",
       "      <th>Partner</th>\n",
       "      <td>Yes</td>\n",
       "      <td>No</td>\n",
       "      <td>No</td>\n",
       "      <td>No</td>\n",
       "      <td>No</td>\n",
       "    </tr>\n",
       "    <tr>\n",
       "      <th>Dependents</th>\n",
       "      <td>No</td>\n",
       "      <td>No</td>\n",
       "      <td>No</td>\n",
       "      <td>No</td>\n",
       "      <td>No</td>\n",
       "    </tr>\n",
       "    <tr>\n",
       "      <th>tenure</th>\n",
       "      <td>1</td>\n",
       "      <td>34</td>\n",
       "      <td>2</td>\n",
       "      <td>45</td>\n",
       "      <td>2</td>\n",
       "    </tr>\n",
       "    <tr>\n",
       "      <th>PhoneService</th>\n",
       "      <td>No</td>\n",
       "      <td>Yes</td>\n",
       "      <td>Yes</td>\n",
       "      <td>No</td>\n",
       "      <td>Yes</td>\n",
       "    </tr>\n",
       "    <tr>\n",
       "      <th>MultipleLines</th>\n",
       "      <td>No phone service</td>\n",
       "      <td>No</td>\n",
       "      <td>No</td>\n",
       "      <td>No phone service</td>\n",
       "      <td>No</td>\n",
       "    </tr>\n",
       "    <tr>\n",
       "      <th>InternetService</th>\n",
       "      <td>DSL</td>\n",
       "      <td>DSL</td>\n",
       "      <td>DSL</td>\n",
       "      <td>DSL</td>\n",
       "      <td>Fiber optic</td>\n",
       "    </tr>\n",
       "    <tr>\n",
       "      <th>OnlineSecurity</th>\n",
       "      <td>No</td>\n",
       "      <td>Yes</td>\n",
       "      <td>Yes</td>\n",
       "      <td>Yes</td>\n",
       "      <td>No</td>\n",
       "    </tr>\n",
       "    <tr>\n",
       "      <th>OnlineBackup</th>\n",
       "      <td>Yes</td>\n",
       "      <td>No</td>\n",
       "      <td>Yes</td>\n",
       "      <td>No</td>\n",
       "      <td>No</td>\n",
       "    </tr>\n",
       "    <tr>\n",
       "      <th>DeviceProtection</th>\n",
       "      <td>No</td>\n",
       "      <td>Yes</td>\n",
       "      <td>No</td>\n",
       "      <td>Yes</td>\n",
       "      <td>No</td>\n",
       "    </tr>\n",
       "    <tr>\n",
       "      <th>TechSupport</th>\n",
       "      <td>No</td>\n",
       "      <td>No</td>\n",
       "      <td>No</td>\n",
       "      <td>Yes</td>\n",
       "      <td>No</td>\n",
       "    </tr>\n",
       "    <tr>\n",
       "      <th>StreamingTV</th>\n",
       "      <td>No</td>\n",
       "      <td>No</td>\n",
       "      <td>No</td>\n",
       "      <td>No</td>\n",
       "      <td>No</td>\n",
       "    </tr>\n",
       "    <tr>\n",
       "      <th>StreamingMovies</th>\n",
       "      <td>No</td>\n",
       "      <td>No</td>\n",
       "      <td>No</td>\n",
       "      <td>No</td>\n",
       "      <td>No</td>\n",
       "    </tr>\n",
       "    <tr>\n",
       "      <th>Contract</th>\n",
       "      <td>Month-to-month</td>\n",
       "      <td>One year</td>\n",
       "      <td>Month-to-month</td>\n",
       "      <td>One year</td>\n",
       "      <td>Month-to-month</td>\n",
       "    </tr>\n",
       "    <tr>\n",
       "      <th>PaperlessBilling</th>\n",
       "      <td>Yes</td>\n",
       "      <td>No</td>\n",
       "      <td>Yes</td>\n",
       "      <td>No</td>\n",
       "      <td>Yes</td>\n",
       "    </tr>\n",
       "    <tr>\n",
       "      <th>PaymentMethod</th>\n",
       "      <td>Electronic check</td>\n",
       "      <td>Mailed check</td>\n",
       "      <td>Mailed check</td>\n",
       "      <td>Bank transfer (automatic)</td>\n",
       "      <td>Electronic check</td>\n",
       "    </tr>\n",
       "    <tr>\n",
       "      <th>MonthlyCharges</th>\n",
       "      <td>29.85</td>\n",
       "      <td>56.95</td>\n",
       "      <td>53.85</td>\n",
       "      <td>42.3</td>\n",
       "      <td>70.7</td>\n",
       "    </tr>\n",
       "    <tr>\n",
       "      <th>TotalCharges</th>\n",
       "      <td>29.85</td>\n",
       "      <td>1889.5</td>\n",
       "      <td>108.15</td>\n",
       "      <td>1840.75</td>\n",
       "      <td>151.65</td>\n",
       "    </tr>\n",
       "    <tr>\n",
       "      <th>Churn</th>\n",
       "      <td>No</td>\n",
       "      <td>No</td>\n",
       "      <td>Yes</td>\n",
       "      <td>No</td>\n",
       "      <td>Yes</td>\n",
       "    </tr>\n",
       "    <tr>\n",
       "      <th>Age</th>\n",
       "      <td>Adult(21-30)</td>\n",
       "      <td>Young(18-20)</td>\n",
       "      <td>Young(18-20)</td>\n",
       "      <td>Young(18-20)</td>\n",
       "      <td>Young(18-20)</td>\n",
       "    </tr>\n",
       "    <tr>\n",
       "      <th>Location</th>\n",
       "      <td>Area-1</td>\n",
       "      <td>Area-1</td>\n",
       "      <td>Area-1</td>\n",
       "      <td>Area-1</td>\n",
       "      <td>Area-1</td>\n",
       "    </tr>\n",
       "  </tbody>\n",
       "</table>\n",
       "</div>"
      ],
      "text/plain": [
       "                                 0             1               2  \\\n",
       "customerID              7590-VHVEG    5575-GNVDE      3668-QPYBK   \n",
       "gender                      Female          Male            Male   \n",
       "SeniorCitizen                    0             0               0   \n",
       "Partner                        Yes            No              No   \n",
       "Dependents                      No            No              No   \n",
       "tenure                           1            34               2   \n",
       "PhoneService                    No           Yes             Yes   \n",
       "MultipleLines     No phone service            No              No   \n",
       "InternetService                DSL           DSL             DSL   \n",
       "OnlineSecurity                  No           Yes             Yes   \n",
       "OnlineBackup                   Yes            No             Yes   \n",
       "DeviceProtection                No           Yes              No   \n",
       "TechSupport                     No            No              No   \n",
       "StreamingTV                     No            No              No   \n",
       "StreamingMovies                 No            No              No   \n",
       "Contract            Month-to-month      One year  Month-to-month   \n",
       "PaperlessBilling               Yes            No             Yes   \n",
       "PaymentMethod     Electronic check  Mailed check    Mailed check   \n",
       "MonthlyCharges               29.85         56.95           53.85   \n",
       "TotalCharges                 29.85        1889.5          108.15   \n",
       "Churn                           No            No             Yes   \n",
       "Age                   Adult(21-30)  Young(18-20)    Young(18-20)   \n",
       "Location                    Area-1        Area-1          Area-1   \n",
       "\n",
       "                                          3                 4  \n",
       "customerID                       7795-CFOCW        9237-HQITU  \n",
       "gender                                 Male            Female  \n",
       "SeniorCitizen                             0                 0  \n",
       "Partner                                  No                No  \n",
       "Dependents                               No                No  \n",
       "tenure                                   45                 2  \n",
       "PhoneService                             No               Yes  \n",
       "MultipleLines              No phone service                No  \n",
       "InternetService                         DSL       Fiber optic  \n",
       "OnlineSecurity                          Yes                No  \n",
       "OnlineBackup                             No                No  \n",
       "DeviceProtection                        Yes                No  \n",
       "TechSupport                             Yes                No  \n",
       "StreamingTV                              No                No  \n",
       "StreamingMovies                          No                No  \n",
       "Contract                           One year    Month-to-month  \n",
       "PaperlessBilling                         No               Yes  \n",
       "PaymentMethod     Bank transfer (automatic)  Electronic check  \n",
       "MonthlyCharges                         42.3              70.7  \n",
       "TotalCharges                        1840.75            151.65  \n",
       "Churn                                    No               Yes  \n",
       "Age                            Young(18-20)      Young(18-20)  \n",
       "Location                             Area-1            Area-1  "
      ]
     },
     "execution_count": 25,
     "metadata": {},
     "output_type": "execute_result"
    }
   ],
   "source": [
    "# There are no demographic column present in the given dataset on which we find out the location of the customers. \n",
    "# so I assume that all customers are come from same location.Therefore I creat a location column with considering same values.\n",
    "\n",
    "customer['Location'] = 'Area-1'\n",
    "customer.head().T"
   ]
  },
  {
   "cell_type": "code",
   "execution_count": 26,
   "id": "97ffaa18",
   "metadata": {},
   "outputs": [
    {
     "data": {
      "text/html": [
       "<div>\n",
       "<style scoped>\n",
       "    .dataframe tbody tr th:only-of-type {\n",
       "        vertical-align: middle;\n",
       "    }\n",
       "\n",
       "    .dataframe tbody tr th {\n",
       "        vertical-align: top;\n",
       "    }\n",
       "\n",
       "    .dataframe thead th {\n",
       "        text-align: right;\n",
       "    }\n",
       "</style>\n",
       "<table border=\"1\" class=\"dataframe\">\n",
       "  <thead>\n",
       "    <tr style=\"text-align: right;\">\n",
       "      <th>Age</th>\n",
       "      <th>Adult(21-30)</th>\n",
       "      <th>Mid-age(31-59)</th>\n",
       "      <th>SeniorCitizen(60-70)</th>\n",
       "      <th>Young(18-20)</th>\n",
       "    </tr>\n",
       "    <tr>\n",
       "      <th>Location</th>\n",
       "      <th></th>\n",
       "      <th></th>\n",
       "      <th></th>\n",
       "      <th></th>\n",
       "    </tr>\n",
       "  </thead>\n",
       "  <tbody>\n",
       "    <tr>\n",
       "      <th>Area-1</th>\n",
       "      <td>1163</td>\n",
       "      <td>1666</td>\n",
       "      <td>1142</td>\n",
       "      <td>3072</td>\n",
       "    </tr>\n",
       "  </tbody>\n",
       "</table>\n",
       "</div>"
      ],
      "text/plain": [
       "Age       Adult(21-30)  Mid-age(31-59)  SeniorCitizen(60-70)  Young(18-20)\n",
       "Location                                                                  \n",
       "Area-1            1163            1666                  1142          3072"
      ]
     },
     "execution_count": 26,
     "metadata": {},
     "output_type": "execute_result"
    }
   ],
   "source": [
    "customer.groupby('Location')['Age'].value_counts().unstack()"
   ]
  },
  {
   "cell_type": "code",
   "execution_count": 27,
   "id": "5d14f115",
   "metadata": {},
   "outputs": [
    {
     "data": {
      "text/html": [
       "<div>\n",
       "<style scoped>\n",
       "    .dataframe tbody tr th:only-of-type {\n",
       "        vertical-align: middle;\n",
       "    }\n",
       "\n",
       "    .dataframe tbody tr th {\n",
       "        vertical-align: top;\n",
       "    }\n",
       "\n",
       "    .dataframe thead th {\n",
       "        text-align: right;\n",
       "    }\n",
       "</style>\n",
       "<table border=\"1\" class=\"dataframe\">\n",
       "  <thead>\n",
       "    <tr style=\"text-align: right;\">\n",
       "      <th>gender</th>\n",
       "      <th>Female</th>\n",
       "      <th>Male</th>\n",
       "    </tr>\n",
       "    <tr>\n",
       "      <th>Location</th>\n",
       "      <th></th>\n",
       "      <th></th>\n",
       "    </tr>\n",
       "  </thead>\n",
       "  <tbody>\n",
       "    <tr>\n",
       "      <th>Area-1</th>\n",
       "      <td>3488</td>\n",
       "      <td>3555</td>\n",
       "    </tr>\n",
       "  </tbody>\n",
       "</table>\n",
       "</div>"
      ],
      "text/plain": [
       "gender    Female  Male\n",
       "Location              \n",
       "Area-1      3488  3555"
      ]
     },
     "execution_count": 27,
     "metadata": {},
     "output_type": "execute_result"
    }
   ],
   "source": [
    "customer.groupby('Location')['gender'].value_counts().unstack()"
   ]
  },
  {
   "cell_type": "markdown",
   "id": "c921f424",
   "metadata": {},
   "source": [
    "Since there are same location called Area -1 as per my assumption ,but there are verious age group and both genderwise customer are present"
   ]
  },
  {
   "cell_type": "markdown",
   "id": "a9d3db4d",
   "metadata": {},
   "source": [
    "5. How long have customers been using the service on average?\n"
   ]
  },
  {
   "cell_type": "code",
   "execution_count": 28,
   "id": "37fd69f4",
   "metadata": {},
   "outputs": [
    {
     "name": "stdout",
     "output_type": "stream",
     "text": [
      "Average Time for which Customers use the various services is 32.37 Months\n"
     ]
    }
   ],
   "source": [
    "#Finding Average service tenure for total customers\n",
    "total_customer_service_tenure = round(customer['tenure'].mean(),2)\n",
    "print('Average Time for which Customers use the various services is', total_customer_service_tenure, 'Months')"
   ]
  },
  {
   "cell_type": "code",
   "execution_count": 29,
   "id": "7a083411",
   "metadata": {},
   "outputs": [
    {
     "name": "stdout",
     "output_type": "stream",
     "text": [
      "Average Time for which Customers use the PhoneService is  32.44 months\n"
     ]
    }
   ],
   "source": [
    "#Finding Average service tenure on 'PhoneService' for customers\n",
    "average_phoneservice=customer.groupby('PhoneService')['tenure'].mean().round(2)['Yes']\n",
    "print('Average Time for which Customers use the PhoneService is ', average_phoneservice, 'months')"
   ]
  },
  {
   "cell_type": "code",
   "execution_count": 30,
   "id": "fb3ea1e7",
   "metadata": {},
   "outputs": [
    {
     "name": "stdout",
     "output_type": "stream",
     "text": [
      "Average Time for which Customers use the MultipleLines service is 41.91 Months\n"
     ]
    }
   ],
   "source": [
    "#Finding Average service tenure on 'MultipleLines' for customers\n",
    "average_MultipleLines = customer.groupby('MultipleLines')['tenure'].mean().round(2)['Yes']\n",
    "print(f'Average Time for which Customers use the MultipleLines service is {average_MultipleLines} Months')"
   ]
  },
  {
   "cell_type": "code",
   "execution_count": 31,
   "id": "a03ced40",
   "metadata": {},
   "outputs": [
    {
     "name": "stdout",
     "output_type": "stream",
     "text": [
      "InternetService\n",
      "DSL            32.82\n",
      "Fiber optic    32.92\n",
      "No             30.55\n",
      "Name: tenure, dtype: float64\n",
      "Average Time for which Customers use the InternetService(DSL) service is 32.82 Months\n",
      "Average Time for which Customers use the InternetService(Fiber optic) service is 32.92 Months\n"
     ]
    }
   ],
   "source": [
    "#Finding Average service tenure on 'InternetService' for customers\n",
    "print(customer.groupby('InternetService')['tenure'].mean().round(2))\n",
    "\n",
    "#since we have two InternetService ie DSL AND Fiber Opitcs so we need to find average service tenure for both individually \n",
    "avg_InternetService_DSL = customer.groupby('InternetService')['tenure'].mean().round(2)['DSL']\n",
    "avg_InternetService_Fiber_optic = customer.groupby('InternetService')['tenure'].mean().round(2)['Fiber optic']\n",
    "print(f'Average Time for which Customers use the InternetService(DSL) service is {avg_InternetService_DSL} Months')\n",
    "print(f'Average Time for which Customers use the InternetService(Fiber optic) service is {avg_InternetService_Fiber_optic} Months')"
   ]
  },
  {
   "cell_type": "code",
   "execution_count": 32,
   "id": "3be2201b",
   "metadata": {},
   "outputs": [
    {
     "name": "stdout",
     "output_type": "stream",
     "text": [
      "Average Time for which Customers use the OnlineSecurity service is 45.05 Months\n"
     ]
    }
   ],
   "source": [
    "#Finding Average service tenure on 'OnlineSecurity' for customers\n",
    "avg_OnlineSecurity = customer.groupby('OnlineSecurity')['tenure'].mean().round(2)['Yes']\n",
    "print(f'Average Time for which Customers use the OnlineSecurity service is {avg_OnlineSecurity} Months')"
   ]
  },
  {
   "cell_type": "code",
   "execution_count": 33,
   "id": "fda047fc",
   "metadata": {},
   "outputs": [
    {
     "name": "stdout",
     "output_type": "stream",
     "text": [
      "Average Time for which Customers use the OnlineBackup service is 44.57 Months\n"
     ]
    }
   ],
   "source": [
    "#Finding Average service tenure on 'OnlineBackup' for customers\n",
    "avg_OnlineBackup = customer.groupby('OnlineBackup')['tenure'].mean().round(2)['Yes']\n",
    "print(f'Average Time for which Customers use the OnlineBackup service is {avg_OnlineBackup} Months')"
   ]
  },
  {
   "cell_type": "code",
   "execution_count": 34,
   "id": "a9a453c1",
   "metadata": {},
   "outputs": [
    {
     "name": "stdout",
     "output_type": "stream",
     "text": [
      "Average Time for which Customers use the DeviceProtection service is 44.6 Months\n"
     ]
    }
   ],
   "source": [
    "#Finding Average service tenure on 'DeviceProtection' for customers\n",
    "avg_DeviceProtection = customer.groupby('DeviceProtection')['tenure'].mean().round(2)['Yes']\n",
    "print(f'Average Time for which Customers use the DeviceProtection service is {avg_DeviceProtection} Months')"
   ]
  },
  {
   "cell_type": "code",
   "execution_count": 35,
   "id": "6a32b394",
   "metadata": {},
   "outputs": [
    {
     "name": "stdout",
     "output_type": "stream",
     "text": [
      "Average Time for which Customers use the TechSupport service is 44.82 Months\n"
     ]
    }
   ],
   "source": [
    "#Finding Average service tenure on 'TechSupport' for customers\n",
    "avg_TechSupport = customer.groupby('TechSupport')['tenure'].mean().round(2)['Yes']\n",
    "print(f'Average Time for which Customers use the TechSupport service is {avg_TechSupport} Months')"
   ]
  },
  {
   "cell_type": "code",
   "execution_count": 36,
   "id": "e5a7b465",
   "metadata": {},
   "outputs": [
    {
     "name": "stdout",
     "output_type": "stream",
     "text": [
      "Average Time for which Customers use the StreamingTV service is 41.07 Months\n"
     ]
    }
   ],
   "source": [
    "#Finding Average service tenure on 'StreamingTV' for customers\n",
    "avg_StreamingTV = customer.groupby('StreamingTV')['tenure'].mean().round(2)['Yes']\n",
    "print(f'Average Time for which Customers use the StreamingTV service is {avg_StreamingTV} Months')"
   ]
  },
  {
   "cell_type": "code",
   "execution_count": 37,
   "id": "d50e8baa",
   "metadata": {},
   "outputs": [
    {
     "name": "stdout",
     "output_type": "stream",
     "text": [
      "Average Time for which Customers use the StreamingMovies service is 41.2 Months\n"
     ]
    }
   ],
   "source": [
    "#Finding Average service tenure on 'StreamingMovies' for customers\n",
    "avg_StreamingMovies = customer.groupby('StreamingMovies')['tenure'].mean().round(2)['Yes']\n",
    "print(f'Average Time for which Customers use the StreamingMovies service is {avg_StreamingMovies} Months')"
   ]
  },
  {
   "cell_type": "markdown",
   "id": "c6e0b101",
   "metadata": {},
   "source": [
    "6. What is the distribution of subscription types?"
   ]
  },
  {
   "cell_type": "code",
   "execution_count": 38,
   "id": "27e7ab8f",
   "metadata": {},
   "outputs": [
    {
     "data": {
      "text/html": [
       "<div>\n",
       "<style scoped>\n",
       "    .dataframe tbody tr th:only-of-type {\n",
       "        vertical-align: middle;\n",
       "    }\n",
       "\n",
       "    .dataframe tbody tr th {\n",
       "        vertical-align: top;\n",
       "    }\n",
       "\n",
       "    .dataframe thead th {\n",
       "        text-align: right;\n",
       "    }\n",
       "</style>\n",
       "<table border=\"1\" class=\"dataframe\">\n",
       "  <thead>\n",
       "    <tr style=\"text-align: right;\">\n",
       "      <th></th>\n",
       "      <th>index</th>\n",
       "      <th>Contract</th>\n",
       "    </tr>\n",
       "  </thead>\n",
       "  <tbody>\n",
       "    <tr>\n",
       "      <th>0</th>\n",
       "      <td>Month-to-month</td>\n",
       "      <td>3875</td>\n",
       "    </tr>\n",
       "    <tr>\n",
       "      <th>1</th>\n",
       "      <td>Two year</td>\n",
       "      <td>1695</td>\n",
       "    </tr>\n",
       "    <tr>\n",
       "      <th>2</th>\n",
       "      <td>One year</td>\n",
       "      <td>1473</td>\n",
       "    </tr>\n",
       "  </tbody>\n",
       "</table>\n",
       "</div>"
      ],
      "text/plain": [
       "            index  Contract\n",
       "0  Month-to-month      3875\n",
       "1        Two year      1695\n",
       "2        One year      1473"
      ]
     },
     "execution_count": 38,
     "metadata": {},
     "output_type": "execute_result"
    }
   ],
   "source": [
    "subscription_type=customer['Contract'].value_counts().reset_index()\n",
    "subscription_type"
   ]
  },
  {
   "cell_type": "code",
   "execution_count": 39,
   "id": "d84c6319",
   "metadata": {},
   "outputs": [
    {
     "data": {
      "text/plain": [
       "<AxesSubplot:xlabel='index', ylabel='Contract'>"
      ]
     },
     "execution_count": 39,
     "metadata": {},
     "output_type": "execute_result"
    },
    {
     "data": {
      "image/png": "[encoded data removed]",
      "text/plain": [
       "<Figure size 432x288 with 1 Axes>"
      ]
     },
     "metadata": {
      "needs_background": "light"
     },
     "output_type": "display_data"
    }
   ],
   "source": [
    "sns.barplot(x=subscription_type['index'],y=subscription_type['Contract'])"
   ]
  },
  {
   "cell_type": "markdown",
   "id": "91566563",
   "metadata": {},
   "source": [
    "Here Month-to-Month subscription type is highest among Two year and One year"
   ]
  },
  {
   "cell_type": "markdown",
   "id": "9fa8964b",
   "metadata": {},
   "source": [
    "7. What is the average monthly charge incurred by customers?"
   ]
  },
  {
   "cell_type": "code",
   "execution_count": 48,
   "id": "35a98d98",
   "metadata": {},
   "outputs": [
    {
     "name": "stdout",
     "output_type": "stream",
     "text": [
      "Average Time for which Customers use the StreamingMovies service is : 64.76\n"
     ]
    }
   ],
   "source": [
    "round(customer['MonthlyCharges'].mean(),2)\n",
    "print('Average Time for which Customers use the StreamingMovies service is :', round(customer['MonthlyCharges'].mean(),2))"
   ]
  },
  {
   "cell_type": "markdown",
   "id": "89d441ef",
   "metadata": {},
   "source": [
    "8. What is the range of total charges accumulated by customers?"
   ]
  },
  {
   "cell_type": "code",
   "execution_count": 63,
   "id": "49da9c3a",
   "metadata": {},
   "outputs": [
    {
     "name": "stdout",
     "output_type": "stream",
     "text": [
      "The range of total charges accumulated by customers is from 18.8 to 8684.8\n"
     ]
    }
   ],
   "source": [
    "# TotalCharges is of type object , first convert it to numeric befor finding the range\n",
    "customer['TotalCharges'] = pd.to_numeric(customer['TotalCharges'],errors = 'coerce')\n",
    "\n",
    "print(f\"The range of total charges accumulated by customers is from {customer['TotalCharges'].min()} to {customer['TotalCharges'].max()}\")\n"
   ]
  },
  {
   "cell_type": "markdown",
   "id": "6b256e92",
   "metadata": {},
   "source": [
    "9. How many customers have churned?"
   ]
  },
  {
   "cell_type": "code",
   "execution_count": 64,
   "id": "47fab294",
   "metadata": {},
   "outputs": [
    {
     "name": "stdout",
     "output_type": "stream",
     "text": [
      "1869 customers have churned\n"
     ]
    }
   ],
   "source": [
    "print(customer['Churn'].value_counts()['Yes'], 'customers have churned')"
   ]
  },
  {
   "cell_type": "markdown",
   "id": "d72a0c34",
   "metadata": {},
   "source": [
    "10. What is the churn rate in the dataset?"
   ]
  },
  {
   "cell_type": "code",
   "execution_count": 68,
   "id": "509b8ffa",
   "metadata": {},
   "outputs": [
    {
     "name": "stdout",
     "output_type": "stream",
     "text": [
      "The Chuen rate in the dataset is:  26.54\n"
     ]
    }
   ],
   "source": [
    "churn_rate = round((customer['Churn'].value_counts()['Yes']/customer['Churn'].count())*100,2)\n",
    "print('The Chuen rate in the dataset is: ',churn_rate)"
   ]
  },
  {
   "cell_type": "markdown",
   "id": "286075ab",
   "metadata": {},
   "source": [
    "11. How does churn vary across different genders?"
   ]
  },
  {
   "cell_type": "code",
   "execution_count": 72,
   "id": "39051239",
   "metadata": {},
   "outputs": [
    {
     "name": "stdout",
     "output_type": "stream",
     "text": [
      "Churn     No  Yes\n",
      "gender           \n",
      "Female  2549  939\n",
      "Male    2625  930\n"
     ]
    }
   ],
   "source": [
    "print(customer.groupby('gender')['Churn'].value_counts().unstack())"
   ]
  },
  {
   "cell_type": "code",
   "execution_count": 85,
   "id": "995301f2",
   "metadata": {},
   "outputs": [
    {
     "data": {
      "text/html": [
       "<div>\n",
       "<style scoped>\n",
       "    .dataframe tbody tr th:only-of-type {\n",
       "        vertical-align: middle;\n",
       "    }\n",
       "\n",
       "    .dataframe tbody tr th {\n",
       "        vertical-align: top;\n",
       "    }\n",
       "\n",
       "    .dataframe thead th {\n",
       "        text-align: right;\n",
       "    }\n",
       "</style>\n",
       "<table border=\"1\" class=\"dataframe\">\n",
       "  <thead>\n",
       "    <tr style=\"text-align: right;\">\n",
       "      <th></th>\n",
       "      <th>gender</th>\n",
       "      <th>No_of_cust_churn</th>\n",
       "      <th>Churn_rate</th>\n",
       "    </tr>\n",
       "  </thead>\n",
       "  <tbody>\n",
       "    <tr>\n",
       "      <th>0</th>\n",
       "      <td>Female</td>\n",
       "      <td>939</td>\n",
       "      <td>13.33%</td>\n",
       "    </tr>\n",
       "    <tr>\n",
       "      <th>1</th>\n",
       "      <td>Male</td>\n",
       "      <td>930</td>\n",
       "      <td>13.2%</td>\n",
       "    </tr>\n",
       "  </tbody>\n",
       "</table>\n",
       "</div>"
      ],
      "text/plain": [
       "   gender  No_of_cust_churn Churn_rate\n",
       "0  Female               939     13.33%\n",
       "1    Male               930      13.2%"
      ]
     },
     "execution_count": 85,
     "metadata": {},
     "output_type": "execute_result"
    }
   ],
   "source": [
    "#Lets find out among churned customers how many are male and female\n",
    "churn = customer[customer['Churn']=='Yes']\n",
    "churn_gender=churn.groupby('gender')['Churn'].size().reset_index()\n",
    "churn_gender.rename(columns={'Churn': 'No_of_cust_churn'},inplace=True)\n",
    "churn_gender['Churn_rate'] = np.round((churn_gender['No_of_cust_churn']*100)/len(customer['Churn']),2).astype(str)+'%'\n",
    "churn_gender"
   ]
  },
  {
   "cell_type": "markdown",
   "id": "ef3a10f3",
   "metadata": {},
   "source": [
    "From above observation we can say that Churn_rate are close to similar for both gender"
   ]
  },
  {
   "cell_type": "markdown",
   "id": "16814343",
   "metadata": {},
   "source": [
    "12. Are there any differences in churn based on the customer's age?\n"
   ]
  },
  {
   "cell_type": "code",
   "execution_count": 92,
   "id": "19e8d4d3",
   "metadata": {},
   "outputs": [
    {
     "data": {
      "text/html": [
       "<div>\n",
       "<style scoped>\n",
       "    .dataframe tbody tr th:only-of-type {\n",
       "        vertical-align: middle;\n",
       "    }\n",
       "\n",
       "    .dataframe tbody tr th {\n",
       "        vertical-align: top;\n",
       "    }\n",
       "\n",
       "    .dataframe thead th {\n",
       "        text-align: right;\n",
       "    }\n",
       "</style>\n",
       "<table border=\"1\" class=\"dataframe\">\n",
       "  <thead>\n",
       "    <tr style=\"text-align: right;\">\n",
       "      <th>Churn</th>\n",
       "      <th>No</th>\n",
       "      <th>Yes</th>\n",
       "    </tr>\n",
       "    <tr>\n",
       "      <th>Age</th>\n",
       "      <th></th>\n",
       "      <th></th>\n",
       "    </tr>\n",
       "  </thead>\n",
       "  <tbody>\n",
       "    <tr>\n",
       "      <th>Adult(21-30)</th>\n",
       "      <td>921</td>\n",
       "      <td>242</td>\n",
       "    </tr>\n",
       "    <tr>\n",
       "      <th>Mid-age(31-59)</th>\n",
       "      <td>1437</td>\n",
       "      <td>229</td>\n",
       "    </tr>\n",
       "    <tr>\n",
       "      <th>SeniorCitizen(60-70)</th>\n",
       "      <td>666</td>\n",
       "      <td>476</td>\n",
       "    </tr>\n",
       "    <tr>\n",
       "      <th>Young(18-20)</th>\n",
       "      <td>2150</td>\n",
       "      <td>922</td>\n",
       "    </tr>\n",
       "  </tbody>\n",
       "</table>\n",
       "</div>"
      ],
      "text/plain": [
       "Churn                   No  Yes\n",
       "Age                            \n",
       "Adult(21-30)           921  242\n",
       "Mid-age(31-59)        1437  229\n",
       "SeniorCitizen(60-70)   666  476\n",
       "Young(18-20)          2150  922"
      ]
     },
     "execution_count": 92,
     "metadata": {},
     "output_type": "execute_result"
    }
   ],
   "source": [
    "customer.groupby('Age')['Churn'].value_counts().unstack()"
   ]
  },
  {
   "cell_type": "markdown",
   "id": "ad158012",
   "metadata": {},
   "source": [
    "So we can see that there are differences in churn based on the customer's age. Here number of churnd(922) is more in Young age group(18-20) customer as compare to othe age group customer and less in Mid-age(31-59) among others"
   ]
  },
  {
   "cell_type": "markdown",
   "id": "50edd188",
   "metadata": {},
   "source": [
    "13.  Are customers from specific locations more likely to churn?"
   ]
  },
  {
   "cell_type": "code",
   "execution_count": 93,
   "id": "6797b691",
   "metadata": {},
   "outputs": [
    {
     "data": {
      "text/html": [
       "<div>\n",
       "<style scoped>\n",
       "    .dataframe tbody tr th:only-of-type {\n",
       "        vertical-align: middle;\n",
       "    }\n",
       "\n",
       "    .dataframe tbody tr th {\n",
       "        vertical-align: top;\n",
       "    }\n",
       "\n",
       "    .dataframe thead th {\n",
       "        text-align: right;\n",
       "    }\n",
       "</style>\n",
       "<table border=\"1\" class=\"dataframe\">\n",
       "  <thead>\n",
       "    <tr style=\"text-align: right;\">\n",
       "      <th>Churn</th>\n",
       "      <th>No</th>\n",
       "      <th>Yes</th>\n",
       "    </tr>\n",
       "    <tr>\n",
       "      <th>Location</th>\n",
       "      <th></th>\n",
       "      <th></th>\n",
       "    </tr>\n",
       "  </thead>\n",
       "  <tbody>\n",
       "    <tr>\n",
       "      <th>Area-1</th>\n",
       "      <td>5174</td>\n",
       "      <td>1869</td>\n",
       "    </tr>\n",
       "  </tbody>\n",
       "</table>\n",
       "</div>"
      ],
      "text/plain": [
       "Churn       No   Yes\n",
       "Location            \n",
       "Area-1    5174  1869"
      ]
     },
     "execution_count": 93,
     "metadata": {},
     "output_type": "execute_result"
    }
   ],
   "source": [
    "customer.groupby('Location')['Churn'].value_counts().unstack()"
   ]
  },
  {
   "cell_type": "markdown",
   "id": "0efeafde",
   "metadata": {},
   "source": [
    "14. Does the subscription type influence customer churn?"
   ]
  },
  {
   "cell_type": "code",
   "execution_count": 94,
   "id": "c406289e",
   "metadata": {},
   "outputs": [
    {
     "data": {
      "text/html": [
       "<div>\n",
       "<style scoped>\n",
       "    .dataframe tbody tr th:only-of-type {\n",
       "        vertical-align: middle;\n",
       "    }\n",
       "\n",
       "    .dataframe tbody tr th {\n",
       "        vertical-align: top;\n",
       "    }\n",
       "\n",
       "    .dataframe thead th {\n",
       "        text-align: right;\n",
       "    }\n",
       "</style>\n",
       "<table border=\"1\" class=\"dataframe\">\n",
       "  <thead>\n",
       "    <tr style=\"text-align: right;\">\n",
       "      <th>Churn</th>\n",
       "      <th>No</th>\n",
       "      <th>Yes</th>\n",
       "    </tr>\n",
       "    <tr>\n",
       "      <th>Contract</th>\n",
       "      <th></th>\n",
       "      <th></th>\n",
       "    </tr>\n",
       "  </thead>\n",
       "  <tbody>\n",
       "    <tr>\n",
       "      <th>Month-to-month</th>\n",
       "      <td>2220</td>\n",
       "      <td>1655</td>\n",
       "    </tr>\n",
       "    <tr>\n",
       "      <th>One year</th>\n",
       "      <td>1307</td>\n",
       "      <td>166</td>\n",
       "    </tr>\n",
       "    <tr>\n",
       "      <th>Two year</th>\n",
       "      <td>1647</td>\n",
       "      <td>48</td>\n",
       "    </tr>\n",
       "  </tbody>\n",
       "</table>\n",
       "</div>"
      ],
      "text/plain": [
       "Churn             No   Yes\n",
       "Contract                  \n",
       "Month-to-month  2220  1655\n",
       "One year        1307   166\n",
       "Two year        1647    48"
      ]
     },
     "execution_count": 94,
     "metadata": {},
     "output_type": "execute_result"
    }
   ],
   "source": [
    "customer.groupby('Contract')['Churn'].value_counts().unstack()"
   ]
  },
  {
   "cell_type": "code",
   "execution_count": 96,
   "id": "5927e024",
   "metadata": {},
   "outputs": [
    {
     "data": {
      "text/html": [
       "<div>\n",
       "<style scoped>\n",
       "    .dataframe tbody tr th:only-of-type {\n",
       "        vertical-align: middle;\n",
       "    }\n",
       "\n",
       "    .dataframe tbody tr th {\n",
       "        vertical-align: top;\n",
       "    }\n",
       "\n",
       "    .dataframe thead th {\n",
       "        text-align: right;\n",
       "    }\n",
       "</style>\n",
       "<table border=\"1\" class=\"dataframe\">\n",
       "  <thead>\n",
       "    <tr style=\"text-align: right;\">\n",
       "      <th>Contract</th>\n",
       "      <th>Month-to-month</th>\n",
       "      <th>One year</th>\n",
       "      <th>Two year</th>\n",
       "      <th>All</th>\n",
       "    </tr>\n",
       "    <tr>\n",
       "      <th>gender</th>\n",
       "      <th></th>\n",
       "      <th></th>\n",
       "      <th></th>\n",
       "      <th></th>\n",
       "    </tr>\n",
       "  </thead>\n",
       "  <tbody>\n",
       "    <tr>\n",
       "      <th>Female</th>\n",
       "      <td>842</td>\n",
       "      <td>75</td>\n",
       "      <td>22</td>\n",
       "      <td>939</td>\n",
       "    </tr>\n",
       "    <tr>\n",
       "      <th>Male</th>\n",
       "      <td>813</td>\n",
       "      <td>91</td>\n",
       "      <td>26</td>\n",
       "      <td>930</td>\n",
       "    </tr>\n",
       "    <tr>\n",
       "      <th>All</th>\n",
       "      <td>1655</td>\n",
       "      <td>166</td>\n",
       "      <td>48</td>\n",
       "      <td>1869</td>\n",
       "    </tr>\n",
       "  </tbody>\n",
       "</table>\n",
       "</div>"
      ],
      "text/plain": [
       "Contract  Month-to-month  One year  Two year   All\n",
       "gender                                            \n",
       "Female               842        75        22   939\n",
       "Male                 813        91        26   930\n",
       "All                 1655       166        48  1869"
      ]
     },
     "execution_count": 96,
     "metadata": {},
     "output_type": "execute_result"
    }
   ],
   "source": [
    "churn = customer[customer['Churn']=='Yes']\n",
    "pd.crosstab(churn.gender,churn.Contract,margins=True)"
   ]
  },
  {
   "cell_type": "markdown",
   "id": "baaaaa40",
   "metadata": {},
   "source": [
    "Yes, as observed from both the table above we can say that subscription type influences the customer churn.\n",
    "\n",
    "Customers with Month-to-month subscription plan are more likely to churn, as compared to customers with other type of subscription plan."
   ]
  },
  {
   "cell_type": "markdown",
   "id": "8581a5ce",
   "metadata": {},
   "source": [
    "15. Is there any correlation between monthly charges and total charges?"
   ]
  },
  {
   "cell_type": "code",
   "execution_count": 98,
   "id": "8f14a0e6",
   "metadata": {},
   "outputs": [
    {
     "data": {
      "text/html": [
       "<div>\n",
       "<style scoped>\n",
       "    .dataframe tbody tr th:only-of-type {\n",
       "        vertical-align: middle;\n",
       "    }\n",
       "\n",
       "    .dataframe tbody tr th {\n",
       "        vertical-align: top;\n",
       "    }\n",
       "\n",
       "    .dataframe thead th {\n",
       "        text-align: right;\n",
       "    }\n",
       "</style>\n",
       "<table border=\"1\" class=\"dataframe\">\n",
       "  <thead>\n",
       "    <tr style=\"text-align: right;\">\n",
       "      <th></th>\n",
       "      <th>SeniorCitizen</th>\n",
       "      <th>tenure</th>\n",
       "      <th>MonthlyCharges</th>\n",
       "      <th>TotalCharges</th>\n",
       "    </tr>\n",
       "  </thead>\n",
       "  <tbody>\n",
       "    <tr>\n",
       "      <th>SeniorCitizen</th>\n",
       "      <td>1.000000</td>\n",
       "      <td>0.016567</td>\n",
       "      <td>0.220173</td>\n",
       "      <td>0.102411</td>\n",
       "    </tr>\n",
       "    <tr>\n",
       "      <th>tenure</th>\n",
       "      <td>0.016567</td>\n",
       "      <td>1.000000</td>\n",
       "      <td>0.247900</td>\n",
       "      <td>0.825880</td>\n",
       "    </tr>\n",
       "    <tr>\n",
       "      <th>MonthlyCharges</th>\n",
       "      <td>0.220173</td>\n",
       "      <td>0.247900</td>\n",
       "      <td>1.000000</td>\n",
       "      <td>0.651065</td>\n",
       "    </tr>\n",
       "    <tr>\n",
       "      <th>TotalCharges</th>\n",
       "      <td>0.102411</td>\n",
       "      <td>0.825880</td>\n",
       "      <td>0.651065</td>\n",
       "      <td>1.000000</td>\n",
       "    </tr>\n",
       "  </tbody>\n",
       "</table>\n",
       "</div>"
      ],
      "text/plain": [
       "                SeniorCitizen    tenure  MonthlyCharges  TotalCharges\n",
       "SeniorCitizen        1.000000  0.016567        0.220173      0.102411\n",
       "tenure               0.016567  1.000000        0.247900      0.825880\n",
       "MonthlyCharges       0.220173  0.247900        1.000000      0.651065\n",
       "TotalCharges         0.102411  0.825880        0.651065      1.000000"
      ]
     },
     "execution_count": 98,
     "metadata": {},
     "output_type": "execute_result"
    }
   ],
   "source": [
    "correlation=customer.corr()\n",
    "correlation"
   ]
  },
  {
   "cell_type": "code",
   "execution_count": 99,
   "id": "d5e88f56",
   "metadata": {},
   "outputs": [
    {
     "data": {
      "image/png": "[encoded data removed]",
      "text/plain": [
       "<Figure size 1296x360 with 3 Axes>"
      ]
     },
     "metadata": {
      "needs_background": "light"
     },
     "output_type": "display_data"
    }
   ],
   "source": [
    "fig, ax = plt.subplots(nrows=1, ncols=2, figsize=(18,5))\n",
    "\n",
    "sns.heatmap(correlation, cmap='viridis',ax=ax[0] ,annot=True,linewidth=0.5)\n",
    "ax[0].set_title('Heatmap showing correlation')\n",
    "\n",
    "sns.scatterplot(data=customer,x='MonthlyCharges',y='TotalCharges' , ax=ax[1] , hue='MonthlyCharges')\n",
    "ax[1].set_title('Scatterplot between Monthly charges and Total Charges\\nShowing Linear correlation between them')\n",
    "plt.show()"
   ]
  },
  {
   "cell_type": "markdown",
   "id": "98a06fd5",
   "metadata": {},
   "source": [
    "So Yes, there exist a correlation between monthly charges and total charges\n",
    "\n",
    "1. Correlation Type -> Linear.\n",
    "\n",
    "2. Directionality -> Positive.\n",
    "\n",
    "3. Correleation coefficient -> 0.65\n",
    "\n",
    "4. Strength of Correlation -> Strong"
   ]
  },
  {
   "cell_type": "code",
   "execution_count": 101,
   "id": "8035618d",
   "metadata": {},
   "outputs": [
    {
     "name": "stdout",
     "output_type": "stream",
     "text": [
      "Correlation between monthly and total charges is: 0.651\n"
     ]
    }
   ],
   "source": [
    "Correlation = round(customer['MonthlyCharges'].corr(customer['TotalCharges']),3)\n",
    "print(\"Correlation between monthly and total charges is:\", Correlation)"
   ]
  },
  {
   "cell_type": "code",
   "execution_count": null,
   "id": "a36ed2cf",
   "metadata": {},
   "outputs": [],
   "source": []
  }
 ],
 "metadata": {
  "kernelspec": {
   "display_name": "Python 3 (ipykernel)",
   "language": "python",
   "name": "python3"
  },
  "language_info": {
   "codemirror_mode": {
    "name": "ipython",
    "version": 3
   },
   "file_extension": ".py",
   "mimetype": "text/x-python",
   "name": "python",
   "nbconvert_exporter": "python",
   "pygments_lexer": "ipython3",
   "version": "3.9.7"
  }
 },
 "nbformat": 4,
 "nbformat_minor": 5
}
